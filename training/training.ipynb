{
 "cells": [
  {
   "cell_type": "code",
   "execution_count": 5,
   "id": "6383c3f9-ca4b-4573-bcf7-6483be3f851d",
   "metadata": {},
   "outputs": [
    {
     "name": "stdout",
     "output_type": "stream",
     "text": [
      "Requirement already satisfied: torch in c:\\users\\zelkh\\appdata\\local\\programs\\python\\python310\\lib\\site-packages (2.8.0)\n",
      "Requirement already satisfied: torchvision in c:\\users\\zelkh\\appdata\\local\\programs\\python\\python310\\lib\\site-packages (0.23.0)\n",
      "Requirement already satisfied: tqdm in c:\\users\\zelkh\\appdata\\local\\programs\\python\\python310\\lib\\site-packages (4.67.1)\n",
      "Requirement already satisfied: fsspec in c:\\users\\zelkh\\appdata\\local\\programs\\python\\python310\\lib\\site-packages (from torch) (2025.7.0)\n",
      "Requirement already satisfied: typing-extensions>=4.10.0 in c:\\users\\zelkh\\appdata\\local\\programs\\python\\python310\\lib\\site-packages (from torch) (4.14.1)\n",
      "Requirement already satisfied: sympy>=1.13.3 in c:\\users\\zelkh\\appdata\\local\\programs\\python\\python310\\lib\\site-packages (from torch) (1.14.0)\n",
      "Requirement already satisfied: networkx in c:\\users\\zelkh\\appdata\\local\\programs\\python\\python310\\lib\\site-packages (from torch) (3.4.2)\n",
      "Requirement already satisfied: jinja2 in c:\\users\\zelkh\\appdata\\local\\programs\\python\\python310\\lib\\site-packages (from torch) (3.1.6)\n",
      "Requirement already satisfied: filelock in c:\\users\\zelkh\\appdata\\local\\programs\\python\\python310\\lib\\site-packages (from torch) (3.18.0)\n",
      "Requirement already satisfied: numpy in c:\\users\\zelkh\\appdata\\local\\programs\\python\\python310\\lib\\site-packages (from torchvision) (2.2.6)\n",
      "Requirement already satisfied: pillow!=8.3.*,>=5.3.0 in c:\\users\\zelkh\\appdata\\local\\programs\\python\\python310\\lib\\site-packages (from torchvision) (11.3.0)\n",
      "Requirement already satisfied: colorama in c:\\users\\zelkh\\appdata\\local\\programs\\python\\python310\\lib\\site-packages (from tqdm) (0.4.6)\n",
      "Requirement already satisfied: mpmath<1.4,>=1.1.0 in c:\\users\\zelkh\\appdata\\local\\programs\\python\\python310\\lib\\site-packages (from sympy>=1.13.3->torch) (1.3.0)\n",
      "Requirement already satisfied: MarkupSafe>=2.0 in c:\\users\\zelkh\\appdata\\local\\programs\\python\\python310\\lib\\site-packages (from jinja2->torch) (3.0.2)\n"
     ]
    },
    {
     "name": "stderr",
     "output_type": "stream",
     "text": [
      "WARNING: You are using pip version 21.2.3; however, version 25.2 is available.\n",
      "You should consider upgrading via the 'C:\\Users\\zelkh\\AppData\\Local\\Programs\\Python\\Python310\\python.exe -m pip install --upgrade pip' command.\n"
     ]
    },
    {
     "name": "stdout",
     "output_type": "stream",
     "text": [
      "Requirement already satisfied: ipywidgets in c:\\users\\zelkh\\appdata\\local\\programs\\python\\python310\\lib\\site-packages (8.1.7)\n",
      "Requirement already satisfied: ipython>=6.1.0 in c:\\users\\zelkh\\appdata\\local\\programs\\python\\python310\\lib\\site-packages (from ipywidgets) (8.37.0)\n",
      "Requirement already satisfied: widgetsnbextension~=4.0.14 in c:\\users\\zelkh\\appdata\\local\\programs\\python\\python310\\lib\\site-packages (from ipywidgets) (4.0.14)\n",
      "Requirement already satisfied: traitlets>=4.3.1 in c:\\users\\zelkh\\appdata\\local\\programs\\python\\python310\\lib\\site-packages (from ipywidgets) (5.14.3)\n",
      "Requirement already satisfied: jupyterlab_widgets~=3.0.15 in c:\\users\\zelkh\\appdata\\local\\programs\\python\\python310\\lib\\site-packages (from ipywidgets) (3.0.15)\n",
      "Requirement already satisfied: comm>=0.1.3 in c:\\users\\zelkh\\appdata\\local\\programs\\python\\python310\\lib\\site-packages (from ipywidgets) (0.2.3)\n",
      "Requirement already satisfied: pygments>=2.4.0 in c:\\users\\zelkh\\appdata\\local\\programs\\python\\python310\\lib\\site-packages (from ipython>=6.1.0->ipywidgets) (2.19.2)\n",
      "Requirement already satisfied: typing_extensions>=4.6 in c:\\users\\zelkh\\appdata\\local\\programs\\python\\python310\\lib\\site-packages (from ipython>=6.1.0->ipywidgets) (4.14.1)\n",
      "Requirement already satisfied: prompt_toolkit<3.1.0,>=3.0.41 in c:\\users\\zelkh\\appdata\\local\\programs\\python\\python310\\lib\\site-packages (from ipython>=6.1.0->ipywidgets) (3.0.51)\n",
      "Requirement already satisfied: jedi>=0.16 in c:\\users\\zelkh\\appdata\\local\\programs\\python\\python310\\lib\\site-packages (from ipython>=6.1.0->ipywidgets) (0.19.2)\n",
      "Requirement already satisfied: decorator in c:\\users\\zelkh\\appdata\\local\\programs\\python\\python310\\lib\\site-packages (from ipython>=6.1.0->ipywidgets) (5.2.1)\n",
      "Requirement already satisfied: colorama in c:\\users\\zelkh\\appdata\\local\\programs\\python\\python310\\lib\\site-packages (from ipython>=6.1.0->ipywidgets) (0.4.6)\n",
      "Requirement already satisfied: exceptiongroup in c:\\users\\zelkh\\appdata\\local\\programs\\python\\python310\\lib\\site-packages (from ipython>=6.1.0->ipywidgets) (1.3.0)\n",
      "Requirement already satisfied: stack_data in c:\\users\\zelkh\\appdata\\local\\programs\\python\\python310\\lib\\site-packages (from ipython>=6.1.0->ipywidgets) (0.6.3)\n",
      "Requirement already satisfied: matplotlib-inline in c:\\users\\zelkh\\appdata\\local\\programs\\python\\python310\\lib\\site-packages (from ipython>=6.1.0->ipywidgets) (0.1.7)\n",
      "Requirement already satisfied: parso<0.9.0,>=0.8.4 in c:\\users\\zelkh\\appdata\\local\\programs\\python\\python310\\lib\\site-packages (from jedi>=0.16->ipython>=6.1.0->ipywidgets) (0.8.4)\n",
      "Requirement already satisfied: wcwidth in c:\\users\\zelkh\\appdata\\local\\programs\\python\\python310\\lib\\site-packages (from prompt_toolkit<3.1.0,>=3.0.41->ipython>=6.1.0->ipywidgets) (0.2.13)\n",
      "Requirement already satisfied: asttokens>=2.1.0 in c:\\users\\zelkh\\appdata\\local\\programs\\python\\python310\\lib\\site-packages (from stack_data->ipython>=6.1.0->ipywidgets) (3.0.0)\n",
      "Requirement already satisfied: pure-eval in c:\\users\\zelkh\\appdata\\local\\programs\\python\\python310\\lib\\site-packages (from stack_data->ipython>=6.1.0->ipywidgets) (0.2.3)\n",
      "Requirement already satisfied: executing>=1.2.0 in c:\\users\\zelkh\\appdata\\local\\programs\\python\\python310\\lib\\site-packages (from stack_data->ipython>=6.1.0->ipywidgets) (2.2.0)\n"
     ]
    },
    {
     "name": "stderr",
     "output_type": "stream",
     "text": [
      "WARNING: You are using pip version 21.2.3; however, version 25.2 is available.\n",
      "You should consider upgrading via the 'C:\\Users\\zelkh\\AppData\\Local\\Programs\\Python\\Python310\\python.exe -m pip install --upgrade pip' command.\n"
     ]
    },
    {
     "name": "stdout",
     "output_type": "stream",
     "text": [
      "Requirement already satisfied: tqdm in c:\\users\\zelkh\\appdata\\local\\programs\\python\\python310\\lib\\site-packages (4.67.1)\n",
      "Requirement already satisfied: colorama in c:\\users\\zelkh\\appdata\\local\\programs\\python\\python310\\lib\\site-packages (from tqdm) (0.4.6)\n"
     ]
    },
    {
     "name": "stderr",
     "output_type": "stream",
     "text": [
      "WARNING: You are using pip version 21.2.3; however, version 25.2 is available.\n",
      "You should consider upgrading via the 'C:\\Users\\zelkh\\AppData\\Local\\Programs\\Python\\Python310\\python.exe -m pip install --upgrade pip' command.\n"
     ]
    }
   ],
   "source": [
    "!pip install torch torchvision tqdm\n",
    "!pip install --upgrade ipywidgets\n",
    "!pip install --upgrade tqdm\n"
   ]
  },
  {
   "cell_type": "code",
   "execution_count": 8,
   "id": "9402f86e-109d-4d24-a695-822e3c6c65ba",
   "metadata": {
    "scrolled": true
   },
   "outputs": [
    {
     "name": "stdout",
     "output_type": "stream",
     "text": [
      "Files already downloaded and verified\n",
      "Files already downloaded and verified\n"
     ]
    },
    {
     "name": "stderr",
     "output_type": "stream",
     "text": [
      "C:\\Users\\zelkh\\AppData\\Local\\Temp\\ipykernel_50056\\2198769688.py:155: FutureWarning: `torch.cuda.amp.GradScaler(args...)` is deprecated. Please use `torch.amp.GradScaler('cuda', args...)` instead.\n",
      "  scaler = torch.cuda.amp.GradScaler(enabled=use_cuda)\n"
     ]
    },
    {
     "data": {
      "application/vnd.jupyter.widget-view+json": {
       "model_id": "a2d230ac4a2e40a0a5c6ed3e491baabb",
       "version_major": 2,
       "version_minor": 0
      },
      "text/plain": [
       "Epoch 1/350:   0%|          | 0/391 [00:00<?, ?it/s]"
      ]
     },
     "metadata": {},
     "output_type": "display_data"
    },
    {
     "name": "stderr",
     "output_type": "stream",
     "text": [
      "C:\\Users\\zelkh\\AppData\\Local\\Temp\\ipykernel_50056\\2198769688.py:234: FutureWarning: `torch.cuda.amp.autocast(args...)` is deprecated. Please use `torch.amp.autocast('cuda', args...)` instead.\n",
      "  with torch.cuda.amp.autocast(enabled=use_cuda):\n",
      "C:\\Users\\zelkh\\AppData\\Local\\Temp\\ipykernel_50056\\2198769688.py:211: FutureWarning: `torch.cuda.amp.autocast(args...)` is deprecated. Please use `torch.amp.autocast('cuda', args...)` instead.\n",
      "  with torch.cuda.amp.autocast(enabled=use_cuda):\n"
     ]
    },
    {
     "name": "stdout",
     "output_type": "stream",
     "text": [
      "Epoch [1/350] | Train Loss: 2.1761 | Val Loss: 2.3675 | Val Acc: 10.00%\n"
     ]
    },
    {
     "data": {
      "application/vnd.jupyter.widget-view+json": {
       "model_id": "2fe5c00bb9dd48c38925a701a3350530",
       "version_major": 2,
       "version_minor": 0
      },
      "text/plain": [
       "Epoch 2/350:   0%|          | 0/391 [00:00<?, ?it/s]"
      ]
     },
     "metadata": {},
     "output_type": "display_data"
    },
    {
     "name": "stdout",
     "output_type": "stream",
     "text": [
      "Epoch [2/350] | Train Loss: 1.8069 | Val Loss: 2.3036 | Val Acc: 10.00%\n"
     ]
    },
    {
     "data": {
      "application/vnd.jupyter.widget-view+json": {
       "model_id": "63ea59f27fd946b0bedd79e761666b84",
       "version_major": 2,
       "version_minor": 0
      },
      "text/plain": [
       "Epoch 3/350:   0%|          | 0/391 [00:00<?, ?it/s]"
      ]
     },
     "metadata": {},
     "output_type": "display_data"
    },
    {
     "name": "stdout",
     "output_type": "stream",
     "text": [
      "Epoch [3/350] | Train Loss: 1.6028 | Val Loss: 2.3051 | Val Acc: 11.13%\n"
     ]
    },
    {
     "data": {
      "application/vnd.jupyter.widget-view+json": {
       "model_id": "21f8951bf06f46c9915e363c28c52e92",
       "version_major": 2,
       "version_minor": 0
      },
      "text/plain": [
       "Epoch 4/350:   0%|          | 0/391 [00:00<?, ?it/s]"
      ]
     },
     "metadata": {},
     "output_type": "display_data"
    },
    {
     "name": "stdout",
     "output_type": "stream",
     "text": [
      "Epoch [4/350] | Train Loss: 1.5010 | Val Loss: 2.3048 | Val Acc: 10.00%\n"
     ]
    },
    {
     "data": {
      "application/vnd.jupyter.widget-view+json": {
       "model_id": "46987906ea70427b901a0ad8ddcd5e62",
       "version_major": 2,
       "version_minor": 0
      },
      "text/plain": [
       "Epoch 5/350:   0%|          | 0/391 [00:00<?, ?it/s]"
      ]
     },
     "metadata": {},
     "output_type": "display_data"
    },
    {
     "name": "stderr",
     "output_type": "stream",
     "text": [
      "C:\\Users\\zelkh\\research\\lib\\site-packages\\torch\\optim\\lr_scheduler.py:240: UserWarning: The epoch parameter in `scheduler.step()` was not necessary and is being deprecated where possible. Please use `scheduler.step()` to step the scheduler. During the deprecation, if epoch is different from None, the closed form is used instead of the new chainable form, where available. Please open an issue if you are unable to replicate your use case: https://github.com/pytorch/pytorch/issues/new/choose.\n",
      "  warnings.warn(EPOCH_DEPRECATION_WARNING, UserWarning)\n"
     ]
    },
    {
     "name": "stdout",
     "output_type": "stream",
     "text": [
      "Epoch [5/350] | Train Loss: 1.4462 | Val Loss: 2.2841 | Val Acc: 10.02%\n"
     ]
    },
    {
     "data": {
      "application/vnd.jupyter.widget-view+json": {
       "model_id": "42f5d3aec6724bc3b36388168dc2bfa5",
       "version_major": 2,
       "version_minor": 0
      },
      "text/plain": [
       "Epoch 6/350:   0%|          | 0/391 [00:00<?, ?it/s]"
      ]
     },
     "metadata": {},
     "output_type": "display_data"
    },
    {
     "name": "stdout",
     "output_type": "stream",
     "text": [
      "Epoch [6/350] | Train Loss: 1.4332 | Val Loss: 2.1638 | Val Acc: 24.13%\n"
     ]
    },
    {
     "data": {
      "application/vnd.jupyter.widget-view+json": {
       "model_id": "869a82615e9f4b90999f2191fb207eb5",
       "version_major": 2,
       "version_minor": 0
      },
      "text/plain": [
       "Epoch 7/350:   0%|          | 0/391 [00:00<?, ?it/s]"
      ]
     },
     "metadata": {},
     "output_type": "display_data"
    },
    {
     "name": "stdout",
     "output_type": "stream",
     "text": [
      "Epoch [7/350] | Train Loss: 1.4140 | Val Loss: 1.5374 | Val Acc: 70.75%\n"
     ]
    },
    {
     "data": {
      "application/vnd.jupyter.widget-view+json": {
       "model_id": "8d69772b99e64dae98e845dcb81fa935",
       "version_major": 2,
       "version_minor": 0
      },
      "text/plain": [
       "Epoch 8/350:   0%|          | 0/391 [00:00<?, ?it/s]"
      ]
     },
     "metadata": {},
     "output_type": "display_data"
    },
    {
     "name": "stdout",
     "output_type": "stream",
     "text": [
      "Epoch [8/350] | Train Loss: 1.3694 | Val Loss: 1.1615 | Val Acc: 73.69%\n"
     ]
    },
    {
     "data": {
      "application/vnd.jupyter.widget-view+json": {
       "model_id": "8d9cf37389464a2d839a81146eb9672c",
       "version_major": 2,
       "version_minor": 0
      },
      "text/plain": [
       "Epoch 9/350:   0%|          | 0/391 [00:00<?, ?it/s]"
      ]
     },
     "metadata": {},
     "output_type": "display_data"
    },
    {
     "name": "stdout",
     "output_type": "stream",
     "text": [
      "Epoch [9/350] | Train Loss: 1.3846 | Val Loss: 1.1385 | Val Acc: 72.35%\n"
     ]
    },
    {
     "data": {
      "application/vnd.jupyter.widget-view+json": {
       "model_id": "457c9d71c66f4895917be11d24ca9ee3",
       "version_major": 2,
       "version_minor": 0
      },
      "text/plain": [
       "Epoch 10/350:   0%|          | 0/391 [00:00<?, ?it/s]"
      ]
     },
     "metadata": {},
     "output_type": "display_data"
    },
    {
     "name": "stdout",
     "output_type": "stream",
     "text": [
      "Epoch [10/350] | Train Loss: 1.3525 | Val Loss: 1.2092 | Val Acc: 71.13%\n"
     ]
    },
    {
     "data": {
      "application/vnd.jupyter.widget-view+json": {
       "model_id": "7e1c1006476849eaa2887ebaa6c9ccb0",
       "version_major": 2,
       "version_minor": 0
      },
      "text/plain": [
       "Epoch 11/350:   0%|          | 0/391 [00:00<?, ?it/s]"
      ]
     },
     "metadata": {},
     "output_type": "display_data"
    },
    {
     "name": "stdout",
     "output_type": "stream",
     "text": [
      "Epoch [11/350] | Train Loss: 1.3389 | Val Loss: 1.2066 | Val Acc: 71.67%\n"
     ]
    },
    {
     "data": {
      "application/vnd.jupyter.widget-view+json": {
       "model_id": "7e7981642b8d44f09f7bd44ee92e3c83",
       "version_major": 2,
       "version_minor": 0
      },
      "text/plain": [
       "Epoch 12/350:   0%|          | 0/391 [00:00<?, ?it/s]"
      ]
     },
     "metadata": {},
     "output_type": "display_data"
    },
    {
     "name": "stdout",
     "output_type": "stream",
     "text": [
      "Epoch [12/350] | Train Loss: 1.3598 | Val Loss: 1.1953 | Val Acc: 72.56%\n"
     ]
    },
    {
     "data": {
      "application/vnd.jupyter.widget-view+json": {
       "model_id": "61a0c774104b4bb2a7fbbc8627c6e150",
       "version_major": 2,
       "version_minor": 0
      },
      "text/plain": [
       "Epoch 13/350:   0%|          | 0/391 [00:00<?, ?it/s]"
      ]
     },
     "metadata": {},
     "output_type": "display_data"
    },
    {
     "name": "stdout",
     "output_type": "stream",
     "text": [
      "Epoch [13/350] | Train Loss: 1.3365 | Val Loss: 1.1743 | Val Acc: 74.14%\n"
     ]
    },
    {
     "data": {
      "application/vnd.jupyter.widget-view+json": {
       "model_id": "81512ab9a4a9426b801801b7efb552bb",
       "version_major": 2,
       "version_minor": 0
      },
      "text/plain": [
       "Epoch 14/350:   0%|          | 0/391 [00:00<?, ?it/s]"
      ]
     },
     "metadata": {},
     "output_type": "display_data"
    },
    {
     "name": "stdout",
     "output_type": "stream",
     "text": [
      "Epoch [14/350] | Train Loss: 1.3216 | Val Loss: 1.1303 | Val Acc: 77.67%\n"
     ]
    },
    {
     "data": {
      "application/vnd.jupyter.widget-view+json": {
       "model_id": "4aecc200a6d34ae28ca6439b79fd5636",
       "version_major": 2,
       "version_minor": 0
      },
      "text/plain": [
       "Epoch 15/350:   0%|          | 0/391 [00:00<?, ?it/s]"
      ]
     },
     "metadata": {},
     "output_type": "display_data"
    },
    {
     "name": "stdout",
     "output_type": "stream",
     "text": [
      "Epoch [15/350] | Train Loss: 1.2858 | Val Loss: 1.0820 | Val Acc: 78.81%\n"
     ]
    },
    {
     "data": {
      "application/vnd.jupyter.widget-view+json": {
       "model_id": "013cf3b2d24c4efe8b320010e3af13c5",
       "version_major": 2,
       "version_minor": 0
      },
      "text/plain": [
       "Epoch 16/350:   0%|          | 0/391 [00:00<?, ?it/s]"
      ]
     },
     "metadata": {},
     "output_type": "display_data"
    },
    {
     "name": "stdout",
     "output_type": "stream",
     "text": [
      "Epoch [16/350] | Train Loss: 1.2919 | Val Loss: 1.0082 | Val Acc: 80.41%\n"
     ]
    },
    {
     "data": {
      "application/vnd.jupyter.widget-view+json": {
       "model_id": "9034e74a7e8f47dcb1497bdf0c4d7c4e",
       "version_major": 2,
       "version_minor": 0
      },
      "text/plain": [
       "Epoch 17/350:   0%|          | 0/391 [00:00<?, ?it/s]"
      ]
     },
     "metadata": {},
     "output_type": "display_data"
    },
    {
     "name": "stdout",
     "output_type": "stream",
     "text": [
      "Epoch [17/350] | Train Loss: 1.3111 | Val Loss: 0.9688 | Val Acc: 80.62%\n"
     ]
    },
    {
     "data": {
      "application/vnd.jupyter.widget-view+json": {
       "model_id": "a8496b96e06541a28e79ef2b2dc13cfe",
       "version_major": 2,
       "version_minor": 0
      },
      "text/plain": [
       "Epoch 18/350:   0%|          | 0/391 [00:00<?, ?it/s]"
      ]
     },
     "metadata": {},
     "output_type": "display_data"
    },
    {
     "name": "stdout",
     "output_type": "stream",
     "text": [
      "Epoch [18/350] | Train Loss: 1.2921 | Val Loss: 0.9538 | Val Acc: 81.46%\n"
     ]
    },
    {
     "data": {
      "application/vnd.jupyter.widget-view+json": {
       "model_id": "3eeefb08813742b3b724aa6b5014ca5d",
       "version_major": 2,
       "version_minor": 0
      },
      "text/plain": [
       "Epoch 19/350:   0%|          | 0/391 [00:00<?, ?it/s]"
      ]
     },
     "metadata": {},
     "output_type": "display_data"
    },
    {
     "name": "stdout",
     "output_type": "stream",
     "text": [
      "Epoch [19/350] | Train Loss: 1.2829 | Val Loss: 0.9505 | Val Acc: 81.58%\n"
     ]
    },
    {
     "data": {
      "application/vnd.jupyter.widget-view+json": {
       "model_id": "601c5e44288749e69b6bb691d41e49e3",
       "version_major": 2,
       "version_minor": 0
      },
      "text/plain": [
       "Epoch 20/350:   0%|          | 0/391 [00:00<?, ?it/s]"
      ]
     },
     "metadata": {},
     "output_type": "display_data"
    },
    {
     "name": "stdout",
     "output_type": "stream",
     "text": [
      "Epoch [20/350] | Train Loss: 1.2620 | Val Loss: 0.9541 | Val Acc: 81.78%\n"
     ]
    },
    {
     "data": {
      "application/vnd.jupyter.widget-view+json": {
       "model_id": "41c69775541a42c596e99e5838b28776",
       "version_major": 2,
       "version_minor": 0
      },
      "text/plain": [
       "Epoch 21/350:   0%|          | 0/391 [00:00<?, ?it/s]"
      ]
     },
     "metadata": {},
     "output_type": "display_data"
    },
    {
     "name": "stdout",
     "output_type": "stream",
     "text": [
      "Epoch [21/350] | Train Loss: 1.2875 | Val Loss: 0.9489 | Val Acc: 82.01%\n"
     ]
    },
    {
     "data": {
      "application/vnd.jupyter.widget-view+json": {
       "model_id": "4db532c18686405395065afc053bcdac",
       "version_major": 2,
       "version_minor": 0
      },
      "text/plain": [
       "Epoch 22/350:   0%|          | 0/391 [00:00<?, ?it/s]"
      ]
     },
     "metadata": {},
     "output_type": "display_data"
    },
    {
     "name": "stdout",
     "output_type": "stream",
     "text": [
      "Epoch [22/350] | Train Loss: 1.3018 | Val Loss: 0.9499 | Val Acc: 82.08%\n"
     ]
    },
    {
     "data": {
      "application/vnd.jupyter.widget-view+json": {
       "model_id": "cf54894745a440798a9a009c70591039",
       "version_major": 2,
       "version_minor": 0
      },
      "text/plain": [
       "Epoch 23/350:   0%|          | 0/391 [00:00<?, ?it/s]"
      ]
     },
     "metadata": {},
     "output_type": "display_data"
    },
    {
     "name": "stdout",
     "output_type": "stream",
     "text": [
      "Epoch [23/350] | Train Loss: 1.2525 | Val Loss: 0.9482 | Val Acc: 82.69%\n"
     ]
    },
    {
     "data": {
      "application/vnd.jupyter.widget-view+json": {
       "model_id": "89c0998cf19d48aba182dee57d020541",
       "version_major": 2,
       "version_minor": 0
      },
      "text/plain": [
       "Epoch 24/350:   0%|          | 0/391 [00:00<?, ?it/s]"
      ]
     },
     "metadata": {},
     "output_type": "display_data"
    },
    {
     "name": "stdout",
     "output_type": "stream",
     "text": [
      "Epoch [24/350] | Train Loss: 1.2798 | Val Loss: 0.9473 | Val Acc: 82.81%\n"
     ]
    },
    {
     "data": {
      "application/vnd.jupyter.widget-view+json": {
       "model_id": "be57f023a9d84b118747cf4be39c0777",
       "version_major": 2,
       "version_minor": 0
      },
      "text/plain": [
       "Epoch 25/350:   0%|          | 0/391 [00:00<?, ?it/s]"
      ]
     },
     "metadata": {},
     "output_type": "display_data"
    },
    {
     "name": "stdout",
     "output_type": "stream",
     "text": [
      "Epoch [25/350] | Train Loss: 1.2591 | Val Loss: 0.9617 | Val Acc: 82.48%\n"
     ]
    },
    {
     "data": {
      "application/vnd.jupyter.widget-view+json": {
       "model_id": "9c405b50350748f79b9b1b5404c39eee",
       "version_major": 2,
       "version_minor": 0
      },
      "text/plain": [
       "Epoch 26/350:   0%|          | 0/391 [00:00<?, ?it/s]"
      ]
     },
     "metadata": {},
     "output_type": "display_data"
    },
    {
     "name": "stdout",
     "output_type": "stream",
     "text": [
      "Epoch [26/350] | Train Loss: 1.2789 | Val Loss: 0.9847 | Val Acc: 82.49%\n"
     ]
    },
    {
     "data": {
      "application/vnd.jupyter.widget-view+json": {
       "model_id": "8bc5e0e6c771432aa1438f3cf85c3667",
       "version_major": 2,
       "version_minor": 0
      },
      "text/plain": [
       "Epoch 27/350:   0%|          | 0/391 [00:00<?, ?it/s]"
      ]
     },
     "metadata": {},
     "output_type": "display_data"
    },
    {
     "name": "stdout",
     "output_type": "stream",
     "text": [
      "Epoch [27/350] | Train Loss: 1.2655 | Val Loss: 0.9626 | Val Acc: 82.72%\n"
     ]
    },
    {
     "data": {
      "application/vnd.jupyter.widget-view+json": {
       "model_id": "7af3be96f8814456aca40988e85d7bc6",
       "version_major": 2,
       "version_minor": 0
      },
      "text/plain": [
       "Epoch 28/350:   0%|          | 0/391 [00:00<?, ?it/s]"
      ]
     },
     "metadata": {},
     "output_type": "display_data"
    },
    {
     "name": "stdout",
     "output_type": "stream",
     "text": [
      "Epoch [28/350] | Train Loss: 1.2704 | Val Loss: 0.9748 | Val Acc: 82.39%\n"
     ]
    },
    {
     "data": {
      "application/vnd.jupyter.widget-view+json": {
       "model_id": "66a253f9a6bf403ca2746e686fd85810",
       "version_major": 2,
       "version_minor": 0
      },
      "text/plain": [
       "Epoch 29/350:   0%|          | 0/391 [00:00<?, ?it/s]"
      ]
     },
     "metadata": {},
     "output_type": "display_data"
    },
    {
     "name": "stdout",
     "output_type": "stream",
     "text": [
      "Epoch [29/350] | Train Loss: 1.2770 | Val Loss: 0.9230 | Val Acc: 83.12%\n"
     ]
    },
    {
     "data": {
      "application/vnd.jupyter.widget-view+json": {
       "model_id": "fca57cc5c341497f859fdca9dfd56a54",
       "version_major": 2,
       "version_minor": 0
      },
      "text/plain": [
       "Epoch 30/350:   0%|          | 0/391 [00:00<?, ?it/s]"
      ]
     },
     "metadata": {},
     "output_type": "display_data"
    },
    {
     "name": "stdout",
     "output_type": "stream",
     "text": [
      "Epoch [30/350] | Train Loss: 1.2754 | Val Loss: 0.9226 | Val Acc: 83.01%\n"
     ]
    },
    {
     "data": {
      "application/vnd.jupyter.widget-view+json": {
       "model_id": "79ee52511b1f429b806e80a36c32808e",
       "version_major": 2,
       "version_minor": 0
      },
      "text/plain": [
       "Epoch 31/350:   0%|          | 0/391 [00:00<?, ?it/s]"
      ]
     },
     "metadata": {},
     "output_type": "display_data"
    },
    {
     "name": "stdout",
     "output_type": "stream",
     "text": [
      "Epoch [31/350] | Train Loss: 1.2843 | Val Loss: 0.9583 | Val Acc: 83.03%\n"
     ]
    },
    {
     "data": {
      "application/vnd.jupyter.widget-view+json": {
       "model_id": "7a8b1465906f4ed7b3df596edc50bb3d",
       "version_major": 2,
       "version_minor": 0
      },
      "text/plain": [
       "Epoch 32/350:   0%|          | 0/391 [00:00<?, ?it/s]"
      ]
     },
     "metadata": {},
     "output_type": "display_data"
    },
    {
     "name": "stdout",
     "output_type": "stream",
     "text": [
      "Epoch [32/350] | Train Loss: 1.2897 | Val Loss: 0.9479 | Val Acc: 82.90%\n"
     ]
    },
    {
     "data": {
      "application/vnd.jupyter.widget-view+json": {
       "model_id": "edbf6cbc926548378e70873029409173",
       "version_major": 2,
       "version_minor": 0
      },
      "text/plain": [
       "Epoch 33/350:   0%|          | 0/391 [00:00<?, ?it/s]"
      ]
     },
     "metadata": {},
     "output_type": "display_data"
    },
    {
     "name": "stdout",
     "output_type": "stream",
     "text": [
      "Epoch [33/350] | Train Loss: 1.2455 | Val Loss: 0.9289 | Val Acc: 83.07%\n"
     ]
    },
    {
     "data": {
      "application/vnd.jupyter.widget-view+json": {
       "model_id": "22d7337693fa436b8465da91c3dbdd24",
       "version_major": 2,
       "version_minor": 0
      },
      "text/plain": [
       "Epoch 34/350:   0%|          | 0/391 [00:00<?, ?it/s]"
      ]
     },
     "metadata": {},
     "output_type": "display_data"
    },
    {
     "name": "stdout",
     "output_type": "stream",
     "text": [
      "Epoch [34/350] | Train Loss: 1.2444 | Val Loss: 0.9477 | Val Acc: 83.18%\n"
     ]
    },
    {
     "data": {
      "application/vnd.jupyter.widget-view+json": {
       "model_id": "24950fc47f8a41c18b5be43cc5422145",
       "version_major": 2,
       "version_minor": 0
      },
      "text/plain": [
       "Epoch 35/350:   0%|          | 0/391 [00:00<?, ?it/s]"
      ]
     },
     "metadata": {},
     "output_type": "display_data"
    },
    {
     "name": "stdout",
     "output_type": "stream",
     "text": [
      "Epoch [35/350] | Train Loss: 1.2710 | Val Loss: 0.9610 | Val Acc: 83.12%\n"
     ]
    },
    {
     "data": {
      "application/vnd.jupyter.widget-view+json": {
       "model_id": "4f91bfdff5ea47fcba1b8173d4cf0e36",
       "version_major": 2,
       "version_minor": 0
      },
      "text/plain": [
       "Epoch 36/350:   0%|          | 0/391 [00:00<?, ?it/s]"
      ]
     },
     "metadata": {},
     "output_type": "display_data"
    },
    {
     "name": "stdout",
     "output_type": "stream",
     "text": [
      "Epoch [36/350] | Train Loss: 1.2644 | Val Loss: 0.9055 | Val Acc: 83.55%\n"
     ]
    },
    {
     "data": {
      "application/vnd.jupyter.widget-view+json": {
       "model_id": "279e411cd98b459ba3dd0f72dc7b19c0",
       "version_major": 2,
       "version_minor": 0
      },
      "text/plain": [
       "Epoch 37/350:   0%|          | 0/391 [00:00<?, ?it/s]"
      ]
     },
     "metadata": {},
     "output_type": "display_data"
    },
    {
     "name": "stdout",
     "output_type": "stream",
     "text": [
      "Epoch [37/350] | Train Loss: 1.2677 | Val Loss: 0.9258 | Val Acc: 83.57%\n"
     ]
    },
    {
     "data": {
      "application/vnd.jupyter.widget-view+json": {
       "model_id": "041857f529f94ddaadfc67f5659b57e5",
       "version_major": 2,
       "version_minor": 0
      },
      "text/plain": [
       "Epoch 38/350:   0%|          | 0/391 [00:00<?, ?it/s]"
      ]
     },
     "metadata": {},
     "output_type": "display_data"
    },
    {
     "name": "stdout",
     "output_type": "stream",
     "text": [
      "Epoch [38/350] | Train Loss: 1.2660 | Val Loss: 0.9364 | Val Acc: 83.49%\n"
     ]
    },
    {
     "data": {
      "application/vnd.jupyter.widget-view+json": {
       "model_id": "675578bbed7d49e48c4d6f02a1081ec5",
       "version_major": 2,
       "version_minor": 0
      },
      "text/plain": [
       "Epoch 39/350:   0%|          | 0/391 [00:00<?, ?it/s]"
      ]
     },
     "metadata": {},
     "output_type": "display_data"
    },
    {
     "name": "stdout",
     "output_type": "stream",
     "text": [
      "Epoch [39/350] | Train Loss: 1.2553 | Val Loss: 0.9277 | Val Acc: 83.29%\n"
     ]
    },
    {
     "data": {
      "application/vnd.jupyter.widget-view+json": {
       "model_id": "5eb84cba99644e45a1ae8746324314a7",
       "version_major": 2,
       "version_minor": 0
      },
      "text/plain": [
       "Epoch 40/350:   0%|          | 0/391 [00:00<?, ?it/s]"
      ]
     },
     "metadata": {},
     "output_type": "display_data"
    },
    {
     "name": "stdout",
     "output_type": "stream",
     "text": [
      "Epoch [40/350] | Train Loss: 1.2483 | Val Loss: 0.9258 | Val Acc: 83.78%\n"
     ]
    },
    {
     "data": {
      "application/vnd.jupyter.widget-view+json": {
       "model_id": "647e826cb4e440648e34b2ca2d5b415e",
       "version_major": 2,
       "version_minor": 0
      },
      "text/plain": [
       "Epoch 41/350:   0%|          | 0/391 [00:00<?, ?it/s]"
      ]
     },
     "metadata": {},
     "output_type": "display_data"
    },
    {
     "name": "stdout",
     "output_type": "stream",
     "text": [
      "Epoch [41/350] | Train Loss: 1.2664 | Val Loss: 0.9120 | Val Acc: 83.44%\n"
     ]
    },
    {
     "data": {
      "application/vnd.jupyter.widget-view+json": {
       "model_id": "58bbc8758c364258a7c6b35c3edaed23",
       "version_major": 2,
       "version_minor": 0
      },
      "text/plain": [
       "Epoch 42/350:   0%|          | 0/391 [00:00<?, ?it/s]"
      ]
     },
     "metadata": {},
     "output_type": "display_data"
    },
    {
     "name": "stdout",
     "output_type": "stream",
     "text": [
      "Epoch [42/350] | Train Loss: 1.2360 | Val Loss: 0.9345 | Val Acc: 83.67%\n"
     ]
    },
    {
     "data": {
      "application/vnd.jupyter.widget-view+json": {
       "model_id": "035394f94fb54f08b4a65a7d95f46589",
       "version_major": 2,
       "version_minor": 0
      },
      "text/plain": [
       "Epoch 43/350:   0%|          | 0/391 [00:00<?, ?it/s]"
      ]
     },
     "metadata": {},
     "output_type": "display_data"
    },
    {
     "name": "stdout",
     "output_type": "stream",
     "text": [
      "Epoch [43/350] | Train Loss: 1.2365 | Val Loss: 0.9346 | Val Acc: 83.39%\n"
     ]
    },
    {
     "data": {
      "application/vnd.jupyter.widget-view+json": {
       "model_id": "01a76eac28eb40c4ad3e32dbdc7b4275",
       "version_major": 2,
       "version_minor": 0
      },
      "text/plain": [
       "Epoch 44/350:   0%|          | 0/391 [00:00<?, ?it/s]"
      ]
     },
     "metadata": {},
     "output_type": "display_data"
    },
    {
     "name": "stdout",
     "output_type": "stream",
     "text": [
      "Epoch [44/350] | Train Loss: 1.2414 | Val Loss: 0.9323 | Val Acc: 83.80%\n"
     ]
    },
    {
     "data": {
      "application/vnd.jupyter.widget-view+json": {
       "model_id": "57728827841445548328e7009f382a29",
       "version_major": 2,
       "version_minor": 0
      },
      "text/plain": [
       "Epoch 45/350:   0%|          | 0/391 [00:00<?, ?it/s]"
      ]
     },
     "metadata": {},
     "output_type": "display_data"
    },
    {
     "name": "stdout",
     "output_type": "stream",
     "text": [
      "Epoch [45/350] | Train Loss: 1.2442 | Val Loss: 0.9507 | Val Acc: 83.64%\n"
     ]
    },
    {
     "data": {
      "application/vnd.jupyter.widget-view+json": {
       "model_id": "7761f2103fa94262b626770e3d292743",
       "version_major": 2,
       "version_minor": 0
      },
      "text/plain": [
       "Epoch 46/350:   0%|          | 0/391 [00:00<?, ?it/s]"
      ]
     },
     "metadata": {},
     "output_type": "display_data"
    },
    {
     "name": "stdout",
     "output_type": "stream",
     "text": [
      "Epoch [46/350] | Train Loss: 1.2362 | Val Loss: 0.9232 | Val Acc: 84.06%\n"
     ]
    },
    {
     "data": {
      "application/vnd.jupyter.widget-view+json": {
       "model_id": "b41ab0901492408eab5ab71c6cbde9a3",
       "version_major": 2,
       "version_minor": 0
      },
      "text/plain": [
       "Epoch 47/350:   0%|          | 0/391 [00:00<?, ?it/s]"
      ]
     },
     "metadata": {},
     "output_type": "display_data"
    },
    {
     "name": "stdout",
     "output_type": "stream",
     "text": [
      "Epoch [47/350] | Train Loss: 1.2678 | Val Loss: 0.9035 | Val Acc: 84.05%\n"
     ]
    },
    {
     "data": {
      "application/vnd.jupyter.widget-view+json": {
       "model_id": "23c1341fa7d64fd2b5251710ff0b97ca",
       "version_major": 2,
       "version_minor": 0
      },
      "text/plain": [
       "Epoch 48/350:   0%|          | 0/391 [00:00<?, ?it/s]"
      ]
     },
     "metadata": {},
     "output_type": "display_data"
    },
    {
     "name": "stdout",
     "output_type": "stream",
     "text": [
      "Epoch [48/350] | Train Loss: 1.2365 | Val Loss: 0.9005 | Val Acc: 84.00%\n"
     ]
    },
    {
     "data": {
      "application/vnd.jupyter.widget-view+json": {
       "model_id": "9f8bad42ad07494a9840f947e61fc3b6",
       "version_major": 2,
       "version_minor": 0
      },
      "text/plain": [
       "Epoch 49/350:   0%|          | 0/391 [00:00<?, ?it/s]"
      ]
     },
     "metadata": {},
     "output_type": "display_data"
    },
    {
     "name": "stdout",
     "output_type": "stream",
     "text": [
      "Epoch [49/350] | Train Loss: 1.2641 | Val Loss: 0.9291 | Val Acc: 83.87%\n"
     ]
    },
    {
     "data": {
      "application/vnd.jupyter.widget-view+json": {
       "model_id": "4d78bc67726142ef993fe73aecbdbb7c",
       "version_major": 2,
       "version_minor": 0
      },
      "text/plain": [
       "Epoch 50/350:   0%|          | 0/391 [00:00<?, ?it/s]"
      ]
     },
     "metadata": {},
     "output_type": "display_data"
    },
    {
     "name": "stdout",
     "output_type": "stream",
     "text": [
      "Epoch [50/350] | Train Loss: 1.2377 | Val Loss: 0.9183 | Val Acc: 84.01%\n"
     ]
    },
    {
     "data": {
      "application/vnd.jupyter.widget-view+json": {
       "model_id": "6fc4d01918db43dcb4b3a3c6d9a1f2cd",
       "version_major": 2,
       "version_minor": 0
      },
      "text/plain": [
       "Epoch 51/350:   0%|          | 0/391 [00:00<?, ?it/s]"
      ]
     },
     "metadata": {},
     "output_type": "display_data"
    },
    {
     "name": "stdout",
     "output_type": "stream",
     "text": [
      "Epoch [51/350] | Train Loss: 1.2454 | Val Loss: 0.8939 | Val Acc: 84.27%\n"
     ]
    },
    {
     "data": {
      "application/vnd.jupyter.widget-view+json": {
       "model_id": "879f4d3e6e714859bedd418ffe794692",
       "version_major": 2,
       "version_minor": 0
      },
      "text/plain": [
       "Epoch 52/350:   0%|          | 0/391 [00:00<?, ?it/s]"
      ]
     },
     "metadata": {},
     "output_type": "display_data"
    },
    {
     "name": "stdout",
     "output_type": "stream",
     "text": [
      "Epoch [52/350] | Train Loss: 1.2631 | Val Loss: 0.9126 | Val Acc: 83.96%\n"
     ]
    },
    {
     "data": {
      "application/vnd.jupyter.widget-view+json": {
       "model_id": "baed562b74494f7f85bc9b20e6283604",
       "version_major": 2,
       "version_minor": 0
      },
      "text/plain": [
       "Epoch 53/350:   0%|          | 0/391 [00:00<?, ?it/s]"
      ]
     },
     "metadata": {},
     "output_type": "display_data"
    },
    {
     "name": "stdout",
     "output_type": "stream",
     "text": [
      "Epoch [53/350] | Train Loss: 1.2495 | Val Loss: 0.9085 | Val Acc: 84.25%\n"
     ]
    },
    {
     "data": {
      "application/vnd.jupyter.widget-view+json": {
       "model_id": "291649ee43c9407d9c0223fbea753ae1",
       "version_major": 2,
       "version_minor": 0
      },
      "text/plain": [
       "Epoch 54/350:   0%|          | 0/391 [00:00<?, ?it/s]"
      ]
     },
     "metadata": {},
     "output_type": "display_data"
    },
    {
     "name": "stdout",
     "output_type": "stream",
     "text": [
      "Epoch [54/350] | Train Loss: 1.2506 | Val Loss: 0.9153 | Val Acc: 84.34%\n"
     ]
    },
    {
     "data": {
      "application/vnd.jupyter.widget-view+json": {
       "model_id": "b8a8f116ef404f96b98a4003a75f8476",
       "version_major": 2,
       "version_minor": 0
      },
      "text/plain": [
       "Epoch 55/350:   0%|          | 0/391 [00:00<?, ?it/s]"
      ]
     },
     "metadata": {},
     "output_type": "display_data"
    },
    {
     "name": "stdout",
     "output_type": "stream",
     "text": [
      "Epoch [55/350] | Train Loss: 1.2706 | Val Loss: 0.9236 | Val Acc: 84.08%\n"
     ]
    },
    {
     "data": {
      "application/vnd.jupyter.widget-view+json": {
       "model_id": "7f44b9ef789d492d93182192a13bccdd",
       "version_major": 2,
       "version_minor": 0
      },
      "text/plain": [
       "Epoch 56/350:   0%|          | 0/391 [00:00<?, ?it/s]"
      ]
     },
     "metadata": {},
     "output_type": "display_data"
    },
    {
     "name": "stdout",
     "output_type": "stream",
     "text": [
      "Epoch [56/350] | Train Loss: 1.2393 | Val Loss: 0.9235 | Val Acc: 84.13%\n"
     ]
    },
    {
     "data": {
      "application/vnd.jupyter.widget-view+json": {
       "model_id": "145b2b279f2d4df8a4815a45f6df70cf",
       "version_major": 2,
       "version_minor": 0
      },
      "text/plain": [
       "Epoch 57/350:   0%|          | 0/391 [00:00<?, ?it/s]"
      ]
     },
     "metadata": {},
     "output_type": "display_data"
    },
    {
     "name": "stdout",
     "output_type": "stream",
     "text": [
      "Epoch [57/350] | Train Loss: 1.2343 | Val Loss: 0.9345 | Val Acc: 83.89%\n"
     ]
    },
    {
     "data": {
      "application/vnd.jupyter.widget-view+json": {
       "model_id": "43838b0a058b47cc98f84dd8e11b0c2d",
       "version_major": 2,
       "version_minor": 0
      },
      "text/plain": [
       "Epoch 58/350:   0%|          | 0/391 [00:00<?, ?it/s]"
      ]
     },
     "metadata": {},
     "output_type": "display_data"
    },
    {
     "name": "stdout",
     "output_type": "stream",
     "text": [
      "Epoch [58/350] | Train Loss: 1.2478 | Val Loss: 0.9150 | Val Acc: 83.97%\n"
     ]
    },
    {
     "data": {
      "application/vnd.jupyter.widget-view+json": {
       "model_id": "9e77538592d949fca8e791b6e29c7228",
       "version_major": 2,
       "version_minor": 0
      },
      "text/plain": [
       "Epoch 59/350:   0%|          | 0/391 [00:00<?, ?it/s]"
      ]
     },
     "metadata": {},
     "output_type": "display_data"
    },
    {
     "name": "stdout",
     "output_type": "stream",
     "text": [
      "Epoch [59/350] | Train Loss: 1.2433 | Val Loss: 0.8985 | Val Acc: 84.01%\n"
     ]
    },
    {
     "data": {
      "application/vnd.jupyter.widget-view+json": {
       "model_id": "0e3e2825e8394bc38844365106db3ca5",
       "version_major": 2,
       "version_minor": 0
      },
      "text/plain": [
       "Epoch 60/350:   0%|          | 0/391 [00:00<?, ?it/s]"
      ]
     },
     "metadata": {},
     "output_type": "display_data"
    },
    {
     "name": "stdout",
     "output_type": "stream",
     "text": [
      "Epoch [60/350] | Train Loss: 1.1913 | Val Loss: 0.8914 | Val Acc: 84.31%\n"
     ]
    },
    {
     "data": {
      "application/vnd.jupyter.widget-view+json": {
       "model_id": "e0edb49785ac4b849898478eb121cf78",
       "version_major": 2,
       "version_minor": 0
      },
      "text/plain": [
       "Epoch 61/350:   0%|          | 0/391 [00:00<?, ?it/s]"
      ]
     },
     "metadata": {},
     "output_type": "display_data"
    },
    {
     "name": "stdout",
     "output_type": "stream",
     "text": [
      "Epoch [61/350] | Train Loss: 1.2399 | Val Loss: 0.8929 | Val Acc: 84.31%\n"
     ]
    },
    {
     "data": {
      "application/vnd.jupyter.widget-view+json": {
       "model_id": "e8678d5f3f3149389a9173441686baa8",
       "version_major": 2,
       "version_minor": 0
      },
      "text/plain": [
       "Epoch 62/350:   0%|          | 0/391 [00:00<?, ?it/s]"
      ]
     },
     "metadata": {},
     "output_type": "display_data"
    },
    {
     "name": "stdout",
     "output_type": "stream",
     "text": [
      "Epoch [62/350] | Train Loss: 1.2249 | Val Loss: 0.9100 | Val Acc: 84.45%\n"
     ]
    },
    {
     "data": {
      "application/vnd.jupyter.widget-view+json": {
       "model_id": "c26216a382904b939b106c3212beaee5",
       "version_major": 2,
       "version_minor": 0
      },
      "text/plain": [
       "Epoch 63/350:   0%|          | 0/391 [00:00<?, ?it/s]"
      ]
     },
     "metadata": {},
     "output_type": "display_data"
    },
    {
     "ename": "KeyboardInterrupt",
     "evalue": "",
     "output_type": "error",
     "traceback": [
      "\u001b[1;31m---------------------------------------------------------------------------\u001b[0m",
      "\u001b[1;31mKeyboardInterrupt\u001b[0m                         Traceback (most recent call last)",
      "Cell \u001b[1;32mIn[8], line 227\u001b[0m\n\u001b[0;32m    225\u001b[0m running \u001b[38;5;241m=\u001b[39m \u001b[38;5;241m0.0\u001b[39m\n\u001b[0;32m    226\u001b[0m loop \u001b[38;5;241m=\u001b[39m tqdm(trainloader, desc\u001b[38;5;241m=\u001b[39m\u001b[38;5;124mf\u001b[39m\u001b[38;5;124m'\u001b[39m\u001b[38;5;124mEpoch \u001b[39m\u001b[38;5;132;01m{\u001b[39;00mepoch\u001b[38;5;241m+\u001b[39m\u001b[38;5;241m1\u001b[39m\u001b[38;5;132;01m}\u001b[39;00m\u001b[38;5;124m/\u001b[39m\u001b[38;5;132;01m{\u001b[39;00mnum_epochs\u001b[38;5;132;01m}\u001b[39;00m\u001b[38;5;124m'\u001b[39m, leave\u001b[38;5;241m=\u001b[39m\u001b[38;5;28;01mFalse\u001b[39;00m)\n\u001b[1;32m--> 227\u001b[0m \u001b[38;5;28;01mfor\u001b[39;00m x, y \u001b[38;5;129;01min\u001b[39;00m loop:\n\u001b[0;32m    228\u001b[0m     x \u001b[38;5;241m=\u001b[39m x\u001b[38;5;241m.\u001b[39mto(device, non_blocking\u001b[38;5;241m=\u001b[39mpin_mem_flag)\n\u001b[0;32m    229\u001b[0m     y \u001b[38;5;241m=\u001b[39m y\u001b[38;5;241m.\u001b[39mto(device, non_blocking\u001b[38;5;241m=\u001b[39mpin_mem_flag)\n",
      "File \u001b[1;32m~\\research\\lib\\site-packages\\tqdm\\notebook.py:250\u001b[0m, in \u001b[0;36mtqdm_notebook.__iter__\u001b[1;34m(self)\u001b[0m\n\u001b[0;32m    248\u001b[0m \u001b[38;5;28;01mtry\u001b[39;00m:\n\u001b[0;32m    249\u001b[0m     it \u001b[38;5;241m=\u001b[39m \u001b[38;5;28msuper\u001b[39m()\u001b[38;5;241m.\u001b[39m\u001b[38;5;21m__iter__\u001b[39m()\n\u001b[1;32m--> 250\u001b[0m     \u001b[38;5;28;01mfor\u001b[39;00m obj \u001b[38;5;129;01min\u001b[39;00m it:\n\u001b[0;32m    251\u001b[0m         \u001b[38;5;66;03m# return super(tqdm...) will not catch exception\u001b[39;00m\n\u001b[0;32m    252\u001b[0m         \u001b[38;5;28;01myield\u001b[39;00m obj\n\u001b[0;32m    253\u001b[0m \u001b[38;5;66;03m# NB: except ... [ as ...] breaks IPython async KeyboardInterrupt\u001b[39;00m\n",
      "File \u001b[1;32m~\\research\\lib\\site-packages\\tqdm\\std.py:1181\u001b[0m, in \u001b[0;36mtqdm.__iter__\u001b[1;34m(self)\u001b[0m\n\u001b[0;32m   1178\u001b[0m time \u001b[38;5;241m=\u001b[39m \u001b[38;5;28mself\u001b[39m\u001b[38;5;241m.\u001b[39m_time\n\u001b[0;32m   1180\u001b[0m \u001b[38;5;28;01mtry\u001b[39;00m:\n\u001b[1;32m-> 1181\u001b[0m     \u001b[38;5;28;01mfor\u001b[39;00m obj \u001b[38;5;129;01min\u001b[39;00m iterable:\n\u001b[0;32m   1182\u001b[0m         \u001b[38;5;28;01myield\u001b[39;00m obj\n\u001b[0;32m   1183\u001b[0m         \u001b[38;5;66;03m# Update and possibly print the progressbar.\u001b[39;00m\n\u001b[0;32m   1184\u001b[0m         \u001b[38;5;66;03m# Note: does not call self.update(1) for speed optimisation.\u001b[39;00m\n",
      "File \u001b[1;32m~\\research\\lib\\site-packages\\torch\\utils\\data\\dataloader.py:484\u001b[0m, in \u001b[0;36mDataLoader.__iter__\u001b[1;34m(self)\u001b[0m\n\u001b[0;32m    482\u001b[0m     \u001b[38;5;28;01mreturn\u001b[39;00m \u001b[38;5;28mself\u001b[39m\u001b[38;5;241m.\u001b[39m_iterator\n\u001b[0;32m    483\u001b[0m \u001b[38;5;28;01melse\u001b[39;00m:\n\u001b[1;32m--> 484\u001b[0m     \u001b[38;5;28;01mreturn\u001b[39;00m \u001b[38;5;28;43mself\u001b[39;49m\u001b[38;5;241;43m.\u001b[39;49m\u001b[43m_get_iterator\u001b[49m\u001b[43m(\u001b[49m\u001b[43m)\u001b[49m\n",
      "File \u001b[1;32m~\\research\\lib\\site-packages\\torch\\utils\\data\\dataloader.py:415\u001b[0m, in \u001b[0;36mDataLoader._get_iterator\u001b[1;34m(self)\u001b[0m\n\u001b[0;32m    413\u001b[0m \u001b[38;5;28;01melse\u001b[39;00m:\n\u001b[0;32m    414\u001b[0m     \u001b[38;5;28mself\u001b[39m\u001b[38;5;241m.\u001b[39mcheck_worker_number_rationality()\n\u001b[1;32m--> 415\u001b[0m     \u001b[38;5;28;01mreturn\u001b[39;00m \u001b[43m_MultiProcessingDataLoaderIter\u001b[49m\u001b[43m(\u001b[49m\u001b[38;5;28;43mself\u001b[39;49m\u001b[43m)\u001b[49m\n",
      "File \u001b[1;32m~\\research\\lib\\site-packages\\torch\\utils\\data\\dataloader.py:1138\u001b[0m, in \u001b[0;36m_MultiProcessingDataLoaderIter.__init__\u001b[1;34m(self, loader)\u001b[0m\n\u001b[0;32m   1131\u001b[0m w\u001b[38;5;241m.\u001b[39mdaemon \u001b[38;5;241m=\u001b[39m \u001b[38;5;28;01mTrue\u001b[39;00m\n\u001b[0;32m   1132\u001b[0m \u001b[38;5;66;03m# NB: Process.start() actually take some time as it needs to\u001b[39;00m\n\u001b[0;32m   1133\u001b[0m \u001b[38;5;66;03m#     start a process and pass the arguments over via a pipe.\u001b[39;00m\n\u001b[0;32m   1134\u001b[0m \u001b[38;5;66;03m#     Therefore, we only add a worker to self._workers list after\u001b[39;00m\n\u001b[0;32m   1135\u001b[0m \u001b[38;5;66;03m#     it started, so that we do not call .join() if program dies\u001b[39;00m\n\u001b[0;32m   1136\u001b[0m \u001b[38;5;66;03m#     before it starts, and __del__ tries to join but will get:\u001b[39;00m\n\u001b[0;32m   1137\u001b[0m \u001b[38;5;66;03m#     AssertionError: can only join a started process.\u001b[39;00m\n\u001b[1;32m-> 1138\u001b[0m \u001b[43mw\u001b[49m\u001b[38;5;241;43m.\u001b[39;49m\u001b[43mstart\u001b[49m\u001b[43m(\u001b[49m\u001b[43m)\u001b[49m\n\u001b[0;32m   1139\u001b[0m \u001b[38;5;28mself\u001b[39m\u001b[38;5;241m.\u001b[39m_index_queues\u001b[38;5;241m.\u001b[39mappend(index_queue)\n\u001b[0;32m   1140\u001b[0m \u001b[38;5;28mself\u001b[39m\u001b[38;5;241m.\u001b[39m_workers\u001b[38;5;241m.\u001b[39mappend(w)\n",
      "File \u001b[1;32m~\\AppData\\Local\\Programs\\Python\\Python310\\lib\\multiprocessing\\process.py:121\u001b[0m, in \u001b[0;36mBaseProcess.start\u001b[1;34m(self)\u001b[0m\n\u001b[0;32m    118\u001b[0m \u001b[38;5;28;01massert\u001b[39;00m \u001b[38;5;129;01mnot\u001b[39;00m _current_process\u001b[38;5;241m.\u001b[39m_config\u001b[38;5;241m.\u001b[39mget(\u001b[38;5;124m'\u001b[39m\u001b[38;5;124mdaemon\u001b[39m\u001b[38;5;124m'\u001b[39m), \\\n\u001b[0;32m    119\u001b[0m        \u001b[38;5;124m'\u001b[39m\u001b[38;5;124mdaemonic processes are not allowed to have children\u001b[39m\u001b[38;5;124m'\u001b[39m\n\u001b[0;32m    120\u001b[0m _cleanup()\n\u001b[1;32m--> 121\u001b[0m \u001b[38;5;28mself\u001b[39m\u001b[38;5;241m.\u001b[39m_popen \u001b[38;5;241m=\u001b[39m \u001b[38;5;28;43mself\u001b[39;49m\u001b[38;5;241;43m.\u001b[39;49m\u001b[43m_Popen\u001b[49m\u001b[43m(\u001b[49m\u001b[38;5;28;43mself\u001b[39;49m\u001b[43m)\u001b[49m\n\u001b[0;32m    122\u001b[0m \u001b[38;5;28mself\u001b[39m\u001b[38;5;241m.\u001b[39m_sentinel \u001b[38;5;241m=\u001b[39m \u001b[38;5;28mself\u001b[39m\u001b[38;5;241m.\u001b[39m_popen\u001b[38;5;241m.\u001b[39msentinel\n\u001b[0;32m    123\u001b[0m \u001b[38;5;66;03m# Avoid a refcycle if the target function holds an indirect\u001b[39;00m\n\u001b[0;32m    124\u001b[0m \u001b[38;5;66;03m# reference to the process object (see bpo-30775)\u001b[39;00m\n",
      "File \u001b[1;32m~\\AppData\\Local\\Programs\\Python\\Python310\\lib\\multiprocessing\\context.py:224\u001b[0m, in \u001b[0;36mProcess._Popen\u001b[1;34m(process_obj)\u001b[0m\n\u001b[0;32m    222\u001b[0m \u001b[38;5;129m@staticmethod\u001b[39m\n\u001b[0;32m    223\u001b[0m \u001b[38;5;28;01mdef\u001b[39;00m\u001b[38;5;250m \u001b[39m\u001b[38;5;21m_Popen\u001b[39m(process_obj):\n\u001b[1;32m--> 224\u001b[0m     \u001b[38;5;28;01mreturn\u001b[39;00m \u001b[43m_default_context\u001b[49m\u001b[38;5;241;43m.\u001b[39;49m\u001b[43mget_context\u001b[49m\u001b[43m(\u001b[49m\u001b[43m)\u001b[49m\u001b[38;5;241;43m.\u001b[39;49m\u001b[43mProcess\u001b[49m\u001b[38;5;241;43m.\u001b[39;49m\u001b[43m_Popen\u001b[49m\u001b[43m(\u001b[49m\u001b[43mprocess_obj\u001b[49m\u001b[43m)\u001b[49m\n",
      "File \u001b[1;32m~\\AppData\\Local\\Programs\\Python\\Python310\\lib\\multiprocessing\\context.py:327\u001b[0m, in \u001b[0;36mSpawnProcess._Popen\u001b[1;34m(process_obj)\u001b[0m\n\u001b[0;32m    324\u001b[0m \u001b[38;5;129m@staticmethod\u001b[39m\n\u001b[0;32m    325\u001b[0m \u001b[38;5;28;01mdef\u001b[39;00m\u001b[38;5;250m \u001b[39m\u001b[38;5;21m_Popen\u001b[39m(process_obj):\n\u001b[0;32m    326\u001b[0m     \u001b[38;5;28;01mfrom\u001b[39;00m\u001b[38;5;250m \u001b[39m\u001b[38;5;21;01m.\u001b[39;00m\u001b[38;5;21;01mpopen_spawn_win32\u001b[39;00m\u001b[38;5;250m \u001b[39m\u001b[38;5;28;01mimport\u001b[39;00m Popen\n\u001b[1;32m--> 327\u001b[0m     \u001b[38;5;28;01mreturn\u001b[39;00m \u001b[43mPopen\u001b[49m\u001b[43m(\u001b[49m\u001b[43mprocess_obj\u001b[49m\u001b[43m)\u001b[49m\n",
      "File \u001b[1;32m~\\AppData\\Local\\Programs\\Python\\Python310\\lib\\multiprocessing\\popen_spawn_win32.py:93\u001b[0m, in \u001b[0;36mPopen.__init__\u001b[1;34m(self, process_obj)\u001b[0m\n\u001b[0;32m     91\u001b[0m \u001b[38;5;28;01mtry\u001b[39;00m:\n\u001b[0;32m     92\u001b[0m     reduction\u001b[38;5;241m.\u001b[39mdump(prep_data, to_child)\n\u001b[1;32m---> 93\u001b[0m     \u001b[43mreduction\u001b[49m\u001b[38;5;241;43m.\u001b[39;49m\u001b[43mdump\u001b[49m\u001b[43m(\u001b[49m\u001b[43mprocess_obj\u001b[49m\u001b[43m,\u001b[49m\u001b[43m \u001b[49m\u001b[43mto_child\u001b[49m\u001b[43m)\u001b[49m\n\u001b[0;32m     94\u001b[0m \u001b[38;5;28;01mfinally\u001b[39;00m:\n\u001b[0;32m     95\u001b[0m     set_spawning_popen(\u001b[38;5;28;01mNone\u001b[39;00m)\n",
      "File \u001b[1;32m~\\AppData\\Local\\Programs\\Python\\Python310\\lib\\multiprocessing\\reduction.py:60\u001b[0m, in \u001b[0;36mdump\u001b[1;34m(obj, file, protocol)\u001b[0m\n\u001b[0;32m     58\u001b[0m \u001b[38;5;28;01mdef\u001b[39;00m\u001b[38;5;250m \u001b[39m\u001b[38;5;21mdump\u001b[39m(obj, file, protocol\u001b[38;5;241m=\u001b[39m\u001b[38;5;28;01mNone\u001b[39;00m):\n\u001b[0;32m     59\u001b[0m \u001b[38;5;250m    \u001b[39m\u001b[38;5;124;03m'''Replacement for pickle.dump() using ForkingPickler.'''\u001b[39;00m\n\u001b[1;32m---> 60\u001b[0m     \u001b[43mForkingPickler\u001b[49m\u001b[43m(\u001b[49m\u001b[43mfile\u001b[49m\u001b[43m,\u001b[49m\u001b[43m \u001b[49m\u001b[43mprotocol\u001b[49m\u001b[43m)\u001b[49m\u001b[38;5;241;43m.\u001b[39;49m\u001b[43mdump\u001b[49m\u001b[43m(\u001b[49m\u001b[43mobj\u001b[49m\u001b[43m)\u001b[49m\n",
      "File \u001b[1;32m~\\research\\lib\\site-packages\\numpy\\_core\\__init__.py:148\u001b[0m, in \u001b[0;36m_DType_reduce\u001b[1;34m(DType)\u001b[0m\n\u001b[0;32m    146\u001b[0m \u001b[38;5;28;01mdef\u001b[39;00m\u001b[38;5;250m \u001b[39m\u001b[38;5;21m_DType_reduce\u001b[39m(DType):\n\u001b[0;32m    147\u001b[0m     \u001b[38;5;66;03m# As types/classes, most DTypes can simply be pickled by their name:\u001b[39;00m\n\u001b[1;32m--> 148\u001b[0m     \u001b[38;5;28;01mif\u001b[39;00m \u001b[38;5;129;01mnot\u001b[39;00m DType\u001b[38;5;241m.\u001b[39m_legacy \u001b[38;5;129;01mor\u001b[39;00m DType\u001b[38;5;241m.\u001b[39m\u001b[38;5;18m__module__\u001b[39m \u001b[38;5;241m==\u001b[39m \u001b[38;5;124m\"\u001b[39m\u001b[38;5;124mnumpy.dtypes\u001b[39m\u001b[38;5;124m\"\u001b[39m:\n\u001b[0;32m    149\u001b[0m         \u001b[38;5;28;01mreturn\u001b[39;00m DType\u001b[38;5;241m.\u001b[39m\u001b[38;5;18m__name__\u001b[39m\n\u001b[0;32m    151\u001b[0m     \u001b[38;5;66;03m# However, user defined legacy dtypes (like rational) do not end up in\u001b[39;00m\n\u001b[0;32m    152\u001b[0m     \u001b[38;5;66;03m# `numpy.dtypes` as module and do not have a public class at all.\u001b[39;00m\n\u001b[0;32m    153\u001b[0m     \u001b[38;5;66;03m# For these, we pickle them by reconstructing them from the scalar type:\u001b[39;00m\n",
      "\u001b[1;31mKeyboardInterrupt\u001b[0m: "
     ]
    }
   ],
   "source": [
    "# MODEL (with training recipe upgrades)\n",
    "\n",
    "# MODEL + TRAIN (CIFAR-10, poly-softplus, SGD+cosine, MixUp, EMA)\n",
    "\n",
    "import math, copy, numpy as np\n",
    "import torch\n",
    "import torch.nn as nn\n",
    "import torch.optim as optim\n",
    "import torchvision\n",
    "import torchvision.transforms as transforms\n",
    "from tqdm.notebook import tqdm\n",
    "from torch.optim.lr_scheduler import CosineAnnealingLR, SequentialLR, LinearLR\n",
    "\n",
    "# ----------------------------------\n",
    "# 1) DATA\n",
    "# ----------------------------------\n",
    "transform = transforms.Compose([\n",
    "    transforms.RandomCrop(32, padding=4),\n",
    "    transforms.RandomHorizontalFlip(),\n",
    "    transforms.ToTensor(),\n",
    "    transforms.Normalize((0.4914, 0.4822, 0.4465),\n",
    "                         (0.2023, 0.1994, 0.2010))\n",
    "])\n",
    "\n",
    "batch_size   = 128\n",
    "num_workers  = 2\n",
    "use_cuda     = torch.cuda.is_available()\n",
    "device       = torch.device('cuda' if use_cuda else 'cpu')\n",
    "pin_mem_flag = True if use_cuda else False\n",
    "\n",
    "trainset   = torchvision.datasets.CIFAR10(root='./data', train=True,  download=True, transform=transform)\n",
    "testset    = torchvision.datasets.CIFAR10(root='./data', train=False, download=True, transform=transform)\n",
    "trainloader = torch.utils.data.DataLoader(trainset, batch_size=batch_size, shuffle=True,\n",
    "                                          num_workers=num_workers, pin_memory=pin_mem_flag)\n",
    "testloader  = torch.utils.data.DataLoader(testset,  batch_size=batch_size, shuffle=False,\n",
    "                                          num_workers=num_workers, pin_memory=pin_mem_flag)\n",
    "\n",
    "# ----------------------------------\n",
    "# 2) POLY ACT (Softplus-like, degree 4) with learnable affine\n",
    "# ----------------------------------\n",
    "class PolyAct4(nn.Module):\n",
    "    \"\"\"\n",
    "    y = s * (A x^4 + B x^3 + C x^2 + D x + E) + b, where x is clamped to [clamp_min, clamp_max].\n",
    "    A..E are fixed buffers (from your fit); s,b are tiny learnable scalars to absorb residual scale/bias.\n",
    "    \"\"\"\n",
    "    def __init__(self, A, B, C, D, E, clamp_min=-6.0, clamp_max=6.0, init_scale=1.0, init_bias=0.0):\n",
    "        super().__init__()\n",
    "        self.register_buffer('A', torch.tensor(float(A)))\n",
    "        self.register_buffer('B', torch.tensor(float(B)))\n",
    "        self.register_buffer('C', torch.tensor(float(C)))\n",
    "        self.register_buffer('D', torch.tensor(float(D)))\n",
    "        self.register_buffer('E', torch.tensor(float(E)))\n",
    "        self.clamp_min = clamp_min\n",
    "        self.clamp_max = clamp_max\n",
    "        self.scale = nn.Parameter(torch.tensor(float(init_scale)))\n",
    "        self.bias  = nn.Parameter(torch.tensor(float(init_bias)))\n",
    "\n",
    "    def forward(self, x):\n",
    "        x = torch.clamp(x, min=self.clamp_min, max=self.clamp_max)\n",
    "        y = self.A * x**4 + self.B * x**3 + self.C * x**2 + self.D * x + self.E\n",
    "        return self.scale * y + self.bias\n",
    "\n",
    "# ----------------------------------\n",
    "# 3) MODEL (VGG-ish)\n",
    "# ----------------------------------\n",
    "def conv3x3(in_ch, out_ch):\n",
    "    # BN follows -> bias not needed\n",
    "    return nn.Conv2d(in_ch, out_ch, kernel_size=3, stride=1, padding=1, bias=False)\n",
    "\n",
    "class CIFAR_CNN(nn.Module):\n",
    "    def __init__(self, activation_fn: nn.Module):\n",
    "        super().__init__()\n",
    "        act = activation_fn  # shared instance (keeps HE-compat simplicity)\n",
    "\n",
    "        self.block1 = nn.Sequential(\n",
    "            conv3x3(3, 48),  nn.BatchNorm2d(48),  act,\n",
    "            conv3x3(48, 48), nn.BatchNorm2d(48),  act,\n",
    "            nn.AvgPool2d(2, 2)   # 32 -> 16\n",
    "        )\n",
    "\n",
    "        self.block2 = nn.Sequential(\n",
    "            conv3x3(48, 96),  nn.BatchNorm2d(96),  act,\n",
    "            conv3x3(96, 96),  nn.BatchNorm2d(96),  act,\n",
    "            nn.AvgPool2d(2, 2)   # 16 -> 8\n",
    "        )\n",
    "\n",
    "        self.block3 = nn.Sequential(\n",
    "            conv3x3(96, 192),  nn.BatchNorm2d(192), act,\n",
    "            conv3x3(192, 192), nn.BatchNorm2d(192), act\n",
    "        )\n",
    "\n",
    "        # optional light downsample to stabilize scales\n",
    "        self.ds3 = nn.AvgPool2d(2, 2)  # 8 -> 4\n",
    "\n",
    "        self.block4 = nn.Sequential(\n",
    "            conv3x3(192, 256), nn.BatchNorm2d(256), act,\n",
    "            conv3x3(256, 256), nn.BatchNorm2d(256), act\n",
    "        )\n",
    "\n",
    "        self.gap     = nn.AdaptiveAvgPool2d((1, 1))\n",
    "        self.fc1     = nn.Linear(256, 512, bias=False)  # BN follows\n",
    "        self.fc_bn   = nn.BatchNorm1d(512)\n",
    "        self.head_act= activation_fn\n",
    "        self.dropout = nn.Dropout(0.3)\n",
    "        self.fc2     = nn.Linear(512, 10)\n",
    "\n",
    "        # init\n",
    "        for m in self.modules():\n",
    "            if isinstance(m, nn.Conv2d):\n",
    "                nn.init.kaiming_normal_(m.weight, mode='fan_out', nonlinearity='relu')\n",
    "            elif isinstance(m, nn.Linear):\n",
    "                nn.init.kaiming_uniform_(m.weight, a=math.sqrt(5))\n",
    "\n",
    "    def forward(self, x):\n",
    "        x = self.block1(x)\n",
    "        x = self.block2(x)\n",
    "        x = self.block3(x)\n",
    "        x = self.ds3(x)\n",
    "        x = self.block4(x)\n",
    "        x = self.gap(x).flatten(1)\n",
    "        x = self.fc1(x)\n",
    "        x = self.fc_bn(x)\n",
    "        x = self.head_act(x)\n",
    "        x = self.dropout(x)\n",
    "        x = self.fc2(x)\n",
    "        return x\n",
    "\n",
    "# ----------------------------------\n",
    "# 4) Build model, loss, optimizer, sched\n",
    "# ----------------------------------\n",
    "poly4 = PolyAct4(\n",
    "    A=-2.22734060e-03,\n",
    "    B=3.70901207e-17,\n",
    "    C=1.15754806e-01,\n",
    "    D=5.00000000e-01,   # <-- corrected (0.5)\n",
    "    E=7.00459235e-01,\n",
    "    clamp_min=-6.0, clamp_max=6.0,\n",
    "    init_scale=1.0, init_bias=0.0\n",
    ")\n",
    "\n",
    "model = CIFAR_CNN(activation_fn=poly4).to(device)\n",
    "\n",
    "criterion = nn.CrossEntropyLoss(label_smoothing=0.1)\n",
    "\n",
    "base_lr        = 0.1\n",
    "optimizer      = optim.SGD(model.parameters(), lr=base_lr, momentum=0.9,\n",
    "                           weight_decay=5e-4, nesterov=True)\n",
    "num_epochs     = 350\n",
    "warmup_epochs  = 5\n",
    "warmup_sched   = LinearLR(optimizer, start_factor=1e-3, end_factor=1.0, total_iters=warmup_epochs)\n",
    "cosine_sched   = CosineAnnealingLR(optimizer, T_max=num_epochs - warmup_epochs, eta_min=1e-4)\n",
    "scheduler      = SequentialLR(optimizer, schedulers=[warmup_sched, cosine_sched],\n",
    "                              milestones=[warmup_epochs])\n",
    "\n",
    "scaler = torch.cuda.amp.GradScaler(enabled=use_cuda)\n",
    "\n",
    "# ----------------------------------\n",
    "# 5) MixUp utilities (set alpha=0.0 to disable)\n",
    "# ----------------------------------\n",
    "MIXUP_ALPHA = 0.2\n",
    "\n",
    "def mixup_data(x, y, alpha=MIXUP_ALPHA):\n",
    "    if alpha <= 0.0:\n",
    "        return x, y, 1.0, None\n",
    "    lam = np.random.beta(alpha, alpha)\n",
    "    bs  = x.size(0)\n",
    "    idx = torch.randperm(bs, device=x.device)\n",
    "    mixed_x = lam * x + (1 - lam) * x[idx]\n",
    "    y_a, y_b = y, y[idx]\n",
    "    return mixed_x, (y_a, y_b), lam, idx\n",
    "\n",
    "def mixup_criterion(crit, pred, ytuple_lam):\n",
    "    y_a, y_b, lam = ytuple_lam\n",
    "    return lam * crit(pred, y_a) + (1 - lam) * crit(pred, y_b)\n",
    "\n",
    "# ----------------------------------\n",
    "# 6) EMA (deepcopy to avoid constructor args)\n",
    "# ----------------------------------\n",
    "class ModelEMA:\n",
    "    def __init__(self, model, decay=0.999):\n",
    "        self.ema = copy.deepcopy(model).to(device)\n",
    "        for p in self.ema.parameters():\n",
    "            p.requires_grad_(False)\n",
    "        self.decay = decay\n",
    "\n",
    "    @torch.no_grad()\n",
    "    def update(self, model):\n",
    "        d = self.decay\n",
    "        msd = model.state_dict()\n",
    "        for k, v in self.ema.state_dict().items():\n",
    "            if v.dtype.is_floating_point:\n",
    "                v.mul_(d).add_((1.0 - d) * msd[k])\n",
    "            else:\n",
    "                v.copy_(msd[k])\n",
    "\n",
    "    def state_dict(self):\n",
    "        return self.ema.state_dict()\n",
    "\n",
    "ema = ModelEMA(model, decay=0.999)\n",
    "\n",
    "# ----------------------------------\n",
    "# 7) Eval helper (uses given model, e.g., ema.ema)\n",
    "# ----------------------------------\n",
    "@torch.no_grad()\n",
    "def evaluate(eval_model):\n",
    "    eval_model.eval()\n",
    "    tot_loss, correct, total = 0.0, 0, 0\n",
    "    for inputs, labels in testloader:\n",
    "        inputs = inputs.to(device, non_blocking=pin_mem_flag)\n",
    "        labels = labels.to(device, non_blocking=pin_mem_flag)\n",
    "        with torch.cuda.amp.autocast(enabled=use_cuda):\n",
    "            outputs = eval_model(inputs)\n",
    "            loss = criterion(outputs, labels)\n",
    "        tot_loss += loss.item()\n",
    "        pred = outputs.argmax(dim=1)\n",
    "        correct += (pred == labels).sum().item()\n",
    "        total   += labels.size(0)\n",
    "    return tot_loss / len(testloader), 100.0 * correct / total\n",
    "\n",
    "# ----------------------------------\n",
    "# 8) TRAIN\n",
    "# ----------------------------------\n",
    "for epoch in range(num_epochs):\n",
    "    model.train()\n",
    "    running = 0.0\n",
    "    loop = tqdm(trainloader, desc=f'Epoch {epoch+1}/{num_epochs}', leave=False)\n",
    "    for x, y in loop:\n",
    "        x = x.to(device, non_blocking=pin_mem_flag)\n",
    "        y = y.to(device, non_blocking=pin_mem_flag)\n",
    "\n",
    "        x, (ya, yb), lam, _ = mixup_data(x, y, alpha=MIXUP_ALPHA)\n",
    "\n",
    "        optimizer.zero_grad(set_to_none=True)\n",
    "        with torch.cuda.amp.autocast(enabled=use_cuda):\n",
    "            out  = model(x)\n",
    "            loss = mixup_criterion(criterion, out, (ya, yb, lam))\n",
    "        scaler.scale(loss).backward()\n",
    "        scaler.step(optimizer)\n",
    "        scaler.update()\n",
    "\n",
    "        ema.update(model)\n",
    "\n",
    "        running += loss.item()\n",
    "        loop.set_postfix(train_loss=loss.item(), lr=optimizer.param_groups[0]['lr'])\n",
    "\n",
    "    scheduler.step()\n",
    "    train_loss = running / len(trainloader)\n",
    "\n",
    "    val_loss, val_acc = evaluate(ema.ema)   # eval EMA weights\n",
    "    print(f\"Epoch [{epoch+1}/{num_epochs}] | Train Loss: {train_loss:.4f} | \"\n",
    "          f\"Val Loss: {val_loss:.4f} | Val Acc: {val_acc:.2f}%\")\n",
    "\n",
    "# ----------------------------------\n",
    "# 9) FINAL EVAL + SAVE (EMA)\n",
    "# ----------------------------------\n",
    "final_loss, final_acc = evaluate(ema.ema)\n",
    "print(f\"\\nFinal Test Accuracy (EMA): {final_acc:.2f}%\")\n",
    "\n",
    "torch.save(ema.state_dict(), 'test_cifar10_trained_model_ema.pth')\n",
    "print(\"Saved: test_cifar10_trained_model_ema.pth ✅\")\n",
    "\n",
    "\n"
   ]
  },
  {
   "cell_type": "code",
   "execution_count": 10,
   "id": "a61f329b-37ff-4dff-aa01-087304312a62",
   "metadata": {},
   "outputs": [
    {
     "name": "stdout",
     "output_type": "stream",
     "text": [
      "Files already downloaded and verified\n",
      "Files already downloaded and verified\n"
     ]
    },
    {
     "data": {
      "application/vnd.jupyter.widget-view+json": {
       "model_id": "5a5decd22f3c4097a06953a792b83145",
       "version_major": 2,
       "version_minor": 0
      },
      "text/plain": [
       "Epoch 1/350 [LIGHT]:   0%|          | 0/391 [00:20<?, ?it/s]"
      ]
     },
     "metadata": {},
     "output_type": "display_data"
    },
    {
     "name": "stdout",
     "output_type": "stream",
     "text": [
      "Epoch [1/350] | Train Loss: 1.6640 | Val Loss: 1.7936 | Val Acc: 36.33% | MixUp α: 0.000\n"
     ]
    },
    {
     "data": {
      "application/vnd.jupyter.widget-view+json": {
       "model_id": "9956afb212794d5684967218234822f2",
       "version_major": 2,
       "version_minor": 0
      },
      "text/plain": [
       "Epoch 2/350 [LIGHT]:   0%|          | 0/391 [00:00<?, ?it/s]"
      ]
     },
     "metadata": {},
     "output_type": "display_data"
    },
    {
     "name": "stdout",
     "output_type": "stream",
     "text": [
      "Epoch [2/350] | Train Loss: 1.3105 | Val Loss: 1.2515 | Val Acc: 54.42% | MixUp α: 0.000\n"
     ]
    },
    {
     "data": {
      "application/vnd.jupyter.widget-view+json": {
       "model_id": "9eaeb748587c434a8be99e7a4135b980",
       "version_major": 2,
       "version_minor": 0
      },
      "text/plain": [
       "Epoch 3/350 [LIGHT]:   0%|          | 0/391 [00:00<?, ?it/s]"
      ]
     },
     "metadata": {},
     "output_type": "display_data"
    },
    {
     "name": "stdout",
     "output_type": "stream",
     "text": [
      "Epoch [3/350] | Train Loss: 1.0903 | Val Loss: 1.9050 | Val Acc: 42.44% | MixUp α: 0.000\n"
     ]
    },
    {
     "data": {
      "application/vnd.jupyter.widget-view+json": {
       "model_id": "ac8b7b74f4684f0ea26fdda23e171ea5",
       "version_major": 2,
       "version_minor": 0
      },
      "text/plain": [
       "Epoch 4/350 [LIGHT]:   0%|          | 0/391 [00:00<?, ?it/s]"
      ]
     },
     "metadata": {},
     "output_type": "display_data"
    },
    {
     "name": "stdout",
     "output_type": "stream",
     "text": [
      "Epoch [4/350] | Train Loss: 0.9496 | Val Loss: 2.4728 | Val Acc: 9.99% | MixUp α: 0.000\n"
     ]
    },
    {
     "data": {
      "application/vnd.jupyter.widget-view+json": {
       "model_id": "f4e0eeed60a6400295069d9fea059864",
       "version_major": 2,
       "version_minor": 0
      },
      "text/plain": [
       "Epoch 5/350 [LIGHT]:   0%|          | 0/391 [00:00<?, ?it/s]"
      ]
     },
     "metadata": {},
     "output_type": "display_data"
    },
    {
     "name": "stdout",
     "output_type": "stream",
     "text": [
      "Epoch [5/350] | Train Loss: 0.8335 | Val Loss: 2.4952 | Val Acc: 10.59% | MixUp α: 0.000\n"
     ]
    },
    {
     "data": {
      "application/vnd.jupyter.widget-view+json": {
       "model_id": "ac3aaaa5034745c09261777972008746",
       "version_major": 2,
       "version_minor": 0
      },
      "text/plain": [
       "Epoch 6/350 [LIGHT]:   0%|          | 0/391 [00:00<?, ?it/s]"
      ]
     },
     "metadata": {},
     "output_type": "display_data"
    },
    {
     "name": "stdout",
     "output_type": "stream",
     "text": [
      "Epoch [6/350] | Train Loss: 0.7507 | Val Loss: 2.3532 | Val Acc: 14.33% | MixUp α: 0.000\n"
     ]
    },
    {
     "data": {
      "application/vnd.jupyter.widget-view+json": {
       "model_id": "bf5bf5b21c5b4c3fa721380225f290e7",
       "version_major": 2,
       "version_minor": 0
      },
      "text/plain": [
       "Epoch 7/350 [LIGHT]:   0%|          | 0/391 [00:00<?, ?it/s]"
      ]
     },
     "metadata": {},
     "output_type": "display_data"
    },
    {
     "name": "stdout",
     "output_type": "stream",
     "text": [
      "Epoch [7/350] | Train Loss: 0.6842 | Val Loss: 1.9519 | Val Acc: 29.08% | MixUp α: 0.000\n"
     ]
    },
    {
     "data": {
      "application/vnd.jupyter.widget-view+json": {
       "model_id": "bab4553174824f79ac741d14537bd13b",
       "version_major": 2,
       "version_minor": 0
      },
      "text/plain": [
       "Epoch 8/350 [LIGHT]:   0%|          | 0/391 [00:00<?, ?it/s]"
      ]
     },
     "metadata": {},
     "output_type": "display_data"
    },
    {
     "name": "stdout",
     "output_type": "stream",
     "text": [
      "Epoch [8/350] | Train Loss: 0.6363 | Val Loss: 1.4485 | Val Acc: 50.07% | MixUp α: 0.000\n"
     ]
    },
    {
     "data": {
      "application/vnd.jupyter.widget-view+json": {
       "model_id": "90d5c3b89ac243f29fbf95da3437788b",
       "version_major": 2,
       "version_minor": 0
      },
      "text/plain": [
       "Epoch 9/350 [LIGHT]:   0%|          | 0/391 [00:00<?, ?it/s]"
      ]
     },
     "metadata": {},
     "output_type": "display_data"
    },
    {
     "name": "stdout",
     "output_type": "stream",
     "text": [
      "Epoch [9/350] | Train Loss: 0.5903 | Val Loss: 1.0347 | Val Acc: 65.72% | MixUp α: 0.000\n"
     ]
    },
    {
     "data": {
      "application/vnd.jupyter.widget-view+json": {
       "model_id": "89cddcf003e743d2a4cccdcdbbedc720",
       "version_major": 2,
       "version_minor": 0
      },
      "text/plain": [
       "Epoch 10/350 [LIGHT]:   0%|          | 0/391 [00:00<?, ?it/s]"
      ]
     },
     "metadata": {},
     "output_type": "display_data"
    },
    {
     "name": "stdout",
     "output_type": "stream",
     "text": [
      "Epoch [10/350] | Train Loss: 0.5512 | Val Loss: 0.7697 | Val Acc: 75.29% | MixUp α: 0.000\n"
     ]
    },
    {
     "data": {
      "application/vnd.jupyter.widget-view+json": {
       "model_id": "19a64a573e2a46cdb1980472c9d4b930",
       "version_major": 2,
       "version_minor": 0
      },
      "text/plain": [
       "Epoch 11/350 [LIGHT]:   0%|          | 0/391 [00:00<?, ?it/s]"
      ]
     },
     "metadata": {},
     "output_type": "display_data"
    },
    {
     "name": "stdout",
     "output_type": "stream",
     "text": [
      "Epoch [11/350] | Train Loss: 0.5200 | Val Loss: 0.6153 | Val Acc: 80.07% | MixUp α: 0.000\n"
     ]
    },
    {
     "data": {
      "application/vnd.jupyter.widget-view+json": {
       "model_id": "4b886371a40f4c9a9e1a60890cce361d",
       "version_major": 2,
       "version_minor": 0
      },
      "text/plain": [
       "Epoch 12/350 [LIGHT]:   0%|          | 0/391 [00:00<?, ?it/s]"
      ]
     },
     "metadata": {},
     "output_type": "display_data"
    },
    {
     "name": "stdout",
     "output_type": "stream",
     "text": [
      "Epoch [12/350] | Train Loss: 0.4860 | Val Loss: 0.5278 | Val Acc: 82.72% | MixUp α: 0.000\n"
     ]
    },
    {
     "data": {
      "application/vnd.jupyter.widget-view+json": {
       "model_id": "34ee53ff505f4758a73f4e6a89491e9d",
       "version_major": 2,
       "version_minor": 0
      },
      "text/plain": [
       "Epoch 13/350 [LIGHT]:   0%|          | 0/391 [00:00<?, ?it/s]"
      ]
     },
     "metadata": {},
     "output_type": "display_data"
    },
    {
     "name": "stdout",
     "output_type": "stream",
     "text": [
      "Epoch [13/350] | Train Loss: 0.4617 | Val Loss: 0.4722 | Val Acc: 84.38% | MixUp α: 0.000\n"
     ]
    },
    {
     "data": {
      "application/vnd.jupyter.widget-view+json": {
       "model_id": "9cfbe04554014b4baba7c936f6251683",
       "version_major": 2,
       "version_minor": 0
      },
      "text/plain": [
       "Epoch 14/350 [LIGHT]:   0%|          | 0/391 [00:00<?, ?it/s]"
      ]
     },
     "metadata": {},
     "output_type": "display_data"
    },
    {
     "name": "stdout",
     "output_type": "stream",
     "text": [
      "Epoch [14/350] | Train Loss: 0.4326 | Val Loss: 0.4323 | Val Acc: 85.61% | MixUp α: 0.000\n"
     ]
    },
    {
     "data": {
      "application/vnd.jupyter.widget-view+json": {
       "model_id": "c39e1b346f6d47c4bf7f39341baf472c",
       "version_major": 2,
       "version_minor": 0
      },
      "text/plain": [
       "Epoch 15/350 [LIGHT]:   0%|          | 0/391 [00:00<?, ?it/s]"
      ]
     },
     "metadata": {},
     "output_type": "display_data"
    },
    {
     "name": "stdout",
     "output_type": "stream",
     "text": [
      "Epoch [15/350] | Train Loss: 0.4199 | Val Loss: 0.4049 | Val Acc: 86.32% | MixUp α: 0.000\n"
     ]
    },
    {
     "data": {
      "application/vnd.jupyter.widget-view+json": {
       "model_id": "2b3ed5703872497191ebf32ada9d40da",
       "version_major": 2,
       "version_minor": 0
      },
      "text/plain": [
       "Epoch 16/350 [LIGHT]:   0%|          | 0/391 [00:00<?, ?it/s]"
      ]
     },
     "metadata": {},
     "output_type": "display_data"
    },
    {
     "name": "stdout",
     "output_type": "stream",
     "text": [
      "Epoch [16/350] | Train Loss: 0.3955 | Val Loss: 0.3827 | Val Acc: 87.24% | MixUp α: 0.000\n"
     ]
    },
    {
     "data": {
      "application/vnd.jupyter.widget-view+json": {
       "model_id": "1b508a39ff914aed8a61f29a02483401",
       "version_major": 2,
       "version_minor": 0
      },
      "text/plain": [
       "Epoch 17/350 [LIGHT]:   0%|          | 0/391 [00:00<?, ?it/s]"
      ]
     },
     "metadata": {},
     "output_type": "display_data"
    },
    {
     "name": "stdout",
     "output_type": "stream",
     "text": [
      "Epoch [17/350] | Train Loss: 0.3792 | Val Loss: 0.3648 | Val Acc: 87.87% | MixUp α: 0.000\n"
     ]
    },
    {
     "data": {
      "application/vnd.jupyter.widget-view+json": {
       "model_id": "20f4eec6bde8481aab25e2ccf97b0be5",
       "version_major": 2,
       "version_minor": 0
      },
      "text/plain": [
       "Epoch 18/350 [LIGHT]:   0%|          | 0/391 [00:00<?, ?it/s]"
      ]
     },
     "metadata": {},
     "output_type": "display_data"
    },
    {
     "name": "stdout",
     "output_type": "stream",
     "text": [
      "Epoch [18/350] | Train Loss: 0.3584 | Val Loss: 0.3505 | Val Acc: 88.18% | MixUp α: 0.000\n"
     ]
    },
    {
     "data": {
      "application/vnd.jupyter.widget-view+json": {
       "model_id": "f4abf76df5f54c97a231f6016e5caef5",
       "version_major": 2,
       "version_minor": 0
      },
      "text/plain": [
       "Epoch 19/350 [LIGHT]:   0%|          | 0/391 [00:00<?, ?it/s]"
      ]
     },
     "metadata": {},
     "output_type": "display_data"
    },
    {
     "name": "stdout",
     "output_type": "stream",
     "text": [
      "Epoch [19/350] | Train Loss: 0.3406 | Val Loss: 0.3381 | Val Acc: 88.66% | MixUp α: 0.000\n"
     ]
    },
    {
     "data": {
      "application/vnd.jupyter.widget-view+json": {
       "model_id": "1fc30899e21b498f8c981cdeb6bd5218",
       "version_major": 2,
       "version_minor": 0
      },
      "text/plain": [
       "Epoch 20/350 [LIGHT]:   0%|          | 0/391 [00:00<?, ?it/s]"
      ]
     },
     "metadata": {},
     "output_type": "display_data"
    },
    {
     "name": "stdout",
     "output_type": "stream",
     "text": [
      "Epoch [20/350] | Train Loss: 0.3270 | Val Loss: 0.3272 | Val Acc: 88.99% | MixUp α: 0.000\n"
     ]
    },
    {
     "data": {
      "application/vnd.jupyter.widget-view+json": {
       "model_id": "c13d4926c8004341a3681b25e34ebe74",
       "version_major": 2,
       "version_minor": 0
      },
      "text/plain": [
       "Epoch 21/350 [STRONG]:   0%|          | 0/391 [00:00<?, ?it/s]"
      ]
     },
     "metadata": {},
     "output_type": "display_data"
    },
    {
     "name": "stdout",
     "output_type": "stream",
     "text": [
      "Epoch [21/350] | Train Loss: 0.4548 | Val Loss: 0.3151 | Val Acc: 89.15% | MixUp α: 0.040\n"
     ]
    },
    {
     "data": {
      "application/vnd.jupyter.widget-view+json": {
       "model_id": "321d99ad4f834a579d7caeb1e51d6460",
       "version_major": 2,
       "version_minor": 0
      },
      "text/plain": [
       "Epoch 22/350 [STRONG]:   0%|          | 0/391 [00:00<?, ?it/s]"
      ]
     },
     "metadata": {},
     "output_type": "display_data"
    },
    {
     "name": "stdout",
     "output_type": "stream",
     "text": [
      "Epoch [22/350] | Train Loss: 0.5502 | Val Loss: 0.3051 | Val Acc: 89.65% | MixUp α: 0.080\n"
     ]
    },
    {
     "data": {
      "application/vnd.jupyter.widget-view+json": {
       "model_id": "7874399f116b4596b290d67920587d6d",
       "version_major": 2,
       "version_minor": 0
      },
      "text/plain": [
       "Epoch 23/350 [STRONG]:   0%|          | 0/391 [00:00<?, ?it/s]"
      ]
     },
     "metadata": {},
     "output_type": "display_data"
    },
    {
     "name": "stdout",
     "output_type": "stream",
     "text": [
      "Epoch [23/350] | Train Loss: 0.5841 | Val Loss: 0.2993 | Val Acc: 89.87% | MixUp α: 0.120\n"
     ]
    },
    {
     "data": {
      "application/vnd.jupyter.widget-view+json": {
       "model_id": "c474c7424019446c8a489469b57e7a6e",
       "version_major": 2,
       "version_minor": 0
      },
      "text/plain": [
       "Epoch 24/350 [STRONG]:   0%|          | 0/391 [00:00<?, ?it/s]"
      ]
     },
     "metadata": {},
     "output_type": "display_data"
    },
    {
     "name": "stdout",
     "output_type": "stream",
     "text": [
      "Epoch [24/350] | Train Loss: 0.6639 | Val Loss: 0.2959 | Val Acc: 90.28% | MixUp α: 0.160\n"
     ]
    },
    {
     "data": {
      "application/vnd.jupyter.widget-view+json": {
       "model_id": "c8726d3e4b2543f18dfb552fcc9a4876",
       "version_major": 2,
       "version_minor": 0
      },
      "text/plain": [
       "Epoch 25/350 [STRONG]:   0%|          | 0/391 [00:00<?, ?it/s]"
      ]
     },
     "metadata": {},
     "output_type": "display_data"
    },
    {
     "name": "stdout",
     "output_type": "stream",
     "text": [
      "Epoch [25/350] | Train Loss: 0.7547 | Val Loss: 0.2963 | Val Acc: 90.45% | MixUp α: 0.200\n"
     ]
    },
    {
     "data": {
      "application/vnd.jupyter.widget-view+json": {
       "model_id": "f6f984a378564cd39aa8e2f973f9aa8c",
       "version_major": 2,
       "version_minor": 0
      },
      "text/plain": [
       "Epoch 26/350 [STRONG]:   0%|          | 0/391 [00:00<?, ?it/s]"
      ]
     },
     "metadata": {},
     "output_type": "display_data"
    },
    {
     "name": "stdout",
     "output_type": "stream",
     "text": [
      "Epoch [26/350] | Train Loss: 0.7229 | Val Loss: 0.2952 | Val Acc: 90.69% | MixUp α: 0.200\n"
     ]
    },
    {
     "data": {
      "application/vnd.jupyter.widget-view+json": {
       "model_id": "eeb977f783104eea8579963442b23922",
       "version_major": 2,
       "version_minor": 0
      },
      "text/plain": [
       "Epoch 27/350 [STRONG]:   0%|          | 0/391 [00:00<?, ?it/s]"
      ]
     },
     "metadata": {},
     "output_type": "display_data"
    },
    {
     "name": "stdout",
     "output_type": "stream",
     "text": [
      "Epoch [27/350] | Train Loss: 0.6712 | Val Loss: 0.2949 | Val Acc: 90.73% | MixUp α: 0.200\n"
     ]
    },
    {
     "data": {
      "application/vnd.jupyter.widget-view+json": {
       "model_id": "01655a0882e3493792e19f9277850f53",
       "version_major": 2,
       "version_minor": 0
      },
      "text/plain": [
       "Epoch 28/350 [STRONG]:   0%|          | 0/391 [00:00<?, ?it/s]"
      ]
     },
     "metadata": {},
     "output_type": "display_data"
    },
    {
     "name": "stdout",
     "output_type": "stream",
     "text": [
      "Epoch [28/350] | Train Loss: 0.6578 | Val Loss: 0.2936 | Val Acc: 90.96% | MixUp α: 0.200\n"
     ]
    },
    {
     "data": {
      "application/vnd.jupyter.widget-view+json": {
       "model_id": "2001f98fd57543d08f0b7c2d03f54527",
       "version_major": 2,
       "version_minor": 0
      },
      "text/plain": [
       "Epoch 29/350 [STRONG]:   0%|          | 0/391 [00:00<?, ?it/s]"
      ]
     },
     "metadata": {},
     "output_type": "display_data"
    },
    {
     "name": "stdout",
     "output_type": "stream",
     "text": [
      "Epoch [29/350] | Train Loss: 0.6615 | Val Loss: 0.2945 | Val Acc: 91.04% | MixUp α: 0.200\n"
     ]
    },
    {
     "data": {
      "application/vnd.jupyter.widget-view+json": {
       "model_id": "998e204bbb234291ad8ab949e3814303",
       "version_major": 2,
       "version_minor": 0
      },
      "text/plain": [
       "Epoch 30/350 [STRONG]:   0%|          | 0/391 [00:00<?, ?it/s]"
      ]
     },
     "metadata": {},
     "output_type": "display_data"
    },
    {
     "name": "stdout",
     "output_type": "stream",
     "text": [
      "Epoch [30/350] | Train Loss: 0.6790 | Val Loss: 0.2948 | Val Acc: 91.13% | MixUp α: 0.200\n"
     ]
    },
    {
     "data": {
      "application/vnd.jupyter.widget-view+json": {
       "model_id": "e298619829664a1b8549f1c7c56aa790",
       "version_major": 2,
       "version_minor": 0
      },
      "text/plain": [
       "Epoch 31/350 [STRONG]:   0%|          | 0/391 [00:00<?, ?it/s]"
      ]
     },
     "metadata": {},
     "output_type": "display_data"
    },
    {
     "name": "stdout",
     "output_type": "stream",
     "text": [
      "Epoch [31/350] | Train Loss: 0.6636 | Val Loss: 0.2926 | Val Acc: 91.25% | MixUp α: 0.200\n"
     ]
    },
    {
     "data": {
      "application/vnd.jupyter.widget-view+json": {
       "model_id": "3e27e3178b3b4dce9dbb868570e5a614",
       "version_major": 2,
       "version_minor": 0
      },
      "text/plain": [
       "Epoch 32/350 [STRONG]:   0%|          | 0/391 [00:00<?, ?it/s]"
      ]
     },
     "metadata": {},
     "output_type": "display_data"
    },
    {
     "name": "stdout",
     "output_type": "stream",
     "text": [
      "Epoch [32/350] | Train Loss: 0.5965 | Val Loss: 0.2857 | Val Acc: 91.63% | MixUp α: 0.200\n"
     ]
    },
    {
     "data": {
      "application/vnd.jupyter.widget-view+json": {
       "model_id": "94c7386779484c0684b8d09548075376",
       "version_major": 2,
       "version_minor": 0
      },
      "text/plain": [
       "Epoch 33/350 [STRONG]:   0%|          | 0/391 [00:00<?, ?it/s]"
      ]
     },
     "metadata": {},
     "output_type": "display_data"
    },
    {
     "name": "stdout",
     "output_type": "stream",
     "text": [
      "Epoch [33/350] | Train Loss: 0.5840 | Val Loss: 0.2790 | Val Acc: 91.71% | MixUp α: 0.200\n"
     ]
    },
    {
     "data": {
      "application/vnd.jupyter.widget-view+json": {
       "model_id": "09aa7b3e9ced40a099b363fb97f57db6",
       "version_major": 2,
       "version_minor": 0
      },
      "text/plain": [
       "Epoch 34/350 [STRONG]:   0%|          | 0/391 [00:00<?, ?it/s]"
      ]
     },
     "metadata": {},
     "output_type": "display_data"
    },
    {
     "name": "stdout",
     "output_type": "stream",
     "text": [
      "Epoch [34/350] | Train Loss: 0.5963 | Val Loss: 0.2748 | Val Acc: 91.80% | MixUp α: 0.200\n"
     ]
    },
    {
     "data": {
      "application/vnd.jupyter.widget-view+json": {
       "model_id": "f77d07312d84490bbf222f882cadcb4f",
       "version_major": 2,
       "version_minor": 0
      },
      "text/plain": [
       "Epoch 35/350 [STRONG]:   0%|          | 0/391 [00:00<?, ?it/s]"
      ]
     },
     "metadata": {},
     "output_type": "display_data"
    },
    {
     "name": "stdout",
     "output_type": "stream",
     "text": [
      "Epoch [35/350] | Train Loss: 0.6040 | Val Loss: 0.2723 | Val Acc: 92.00% | MixUp α: 0.200\n"
     ]
    },
    {
     "data": {
      "application/vnd.jupyter.widget-view+json": {
       "model_id": "d44b8710331c4cacb8c1bfe65fd54207",
       "version_major": 2,
       "version_minor": 0
      },
      "text/plain": [
       "Epoch 36/350 [STRONG]:   0%|          | 0/391 [00:00<?, ?it/s]"
      ]
     },
     "metadata": {},
     "output_type": "display_data"
    },
    {
     "name": "stdout",
     "output_type": "stream",
     "text": [
      "Epoch [36/350] | Train Loss: 0.5945 | Val Loss: 0.2703 | Val Acc: 92.12% | MixUp α: 0.200\n"
     ]
    },
    {
     "data": {
      "application/vnd.jupyter.widget-view+json": {
       "model_id": "0bad11225f4a4671ac330730b5d7b9a8",
       "version_major": 2,
       "version_minor": 0
      },
      "text/plain": [
       "Epoch 37/350 [STRONG]:   0%|          | 0/391 [00:00<?, ?it/s]"
      ]
     },
     "metadata": {},
     "output_type": "display_data"
    },
    {
     "name": "stdout",
     "output_type": "stream",
     "text": [
      "Epoch [37/350] | Train Loss: 0.6084 | Val Loss: 0.2688 | Val Acc: 92.37% | MixUp α: 0.200\n"
     ]
    },
    {
     "data": {
      "application/vnd.jupyter.widget-view+json": {
       "model_id": "fabf614fc7a545ca9095d1d79ef451ad",
       "version_major": 2,
       "version_minor": 0
      },
      "text/plain": [
       "Epoch 38/350 [STRONG]:   0%|          | 0/391 [00:00<?, ?it/s]"
      ]
     },
     "metadata": {},
     "output_type": "display_data"
    },
    {
     "name": "stdout",
     "output_type": "stream",
     "text": [
      "Epoch [38/350] | Train Loss: 0.5385 | Val Loss: 0.2625 | Val Acc: 92.55% | MixUp α: 0.200\n"
     ]
    },
    {
     "data": {
      "application/vnd.jupyter.widget-view+json": {
       "model_id": "bfac1a24fe5e406496a0b0e85d4ba37f",
       "version_major": 2,
       "version_minor": 0
      },
      "text/plain": [
       "Epoch 39/350 [STRONG]:   0%|          | 0/391 [00:00<?, ?it/s]"
      ]
     },
     "metadata": {},
     "output_type": "display_data"
    },
    {
     "name": "stdout",
     "output_type": "stream",
     "text": [
      "Epoch [39/350] | Train Loss: 0.5648 | Val Loss: 0.2595 | Val Acc: 92.47% | MixUp α: 0.200\n"
     ]
    },
    {
     "data": {
      "application/vnd.jupyter.widget-view+json": {
       "model_id": "45b6ce8a6a36496aaf59f6289e5d67b0",
       "version_major": 2,
       "version_minor": 0
      },
      "text/plain": [
       "Epoch 40/350 [STRONG]:   0%|          | 0/391 [00:00<?, ?it/s]"
      ]
     },
     "metadata": {},
     "output_type": "display_data"
    },
    {
     "name": "stdout",
     "output_type": "stream",
     "text": [
      "Epoch [40/350] | Train Loss: 0.5867 | Val Loss: 0.2589 | Val Acc: 92.60% | MixUp α: 0.200\n"
     ]
    },
    {
     "data": {
      "application/vnd.jupyter.widget-view+json": {
       "model_id": "3ffc2665d91e42678f23411da34e07ac",
       "version_major": 2,
       "version_minor": 0
      },
      "text/plain": [
       "Epoch 41/350 [STRONG]:   0%|          | 0/391 [00:00<?, ?it/s]"
      ]
     },
     "metadata": {},
     "output_type": "display_data"
    },
    {
     "name": "stdout",
     "output_type": "stream",
     "text": [
      "Epoch [41/350] | Train Loss: 0.5622 | Val Loss: 0.2562 | Val Acc: 92.65% | MixUp α: 0.200\n"
     ]
    },
    {
     "data": {
      "application/vnd.jupyter.widget-view+json": {
       "model_id": "71107eb45a6f4b168c0ae607750cf7d5",
       "version_major": 2,
       "version_minor": 0
      },
      "text/plain": [
       "Epoch 42/350 [STRONG]:   0%|          | 0/391 [00:00<?, ?it/s]"
      ]
     },
     "metadata": {},
     "output_type": "display_data"
    },
    {
     "name": "stdout",
     "output_type": "stream",
     "text": [
      "Epoch [42/350] | Train Loss: 0.5320 | Val Loss: 0.2526 | Val Acc: 92.76% | MixUp α: 0.200\n"
     ]
    },
    {
     "data": {
      "application/vnd.jupyter.widget-view+json": {
       "model_id": "fc81eabd1666462f9232e6727830f43c",
       "version_major": 2,
       "version_minor": 0
      },
      "text/plain": [
       "Epoch 43/350 [STRONG]:   0%|          | 0/391 [00:00<?, ?it/s]"
      ]
     },
     "metadata": {},
     "output_type": "display_data"
    },
    {
     "name": "stdout",
     "output_type": "stream",
     "text": [
      "Epoch [43/350] | Train Loss: 0.5517 | Val Loss: 0.2526 | Val Acc: 92.87% | MixUp α: 0.200\n"
     ]
    },
    {
     "data": {
      "application/vnd.jupyter.widget-view+json": {
       "model_id": "aa8e3e565e5347cb8653ee8572590ddd",
       "version_major": 2,
       "version_minor": 0
      },
      "text/plain": [
       "Epoch 44/350 [STRONG]:   0%|          | 0/391 [00:00<?, ?it/s]"
      ]
     },
     "metadata": {},
     "output_type": "display_data"
    },
    {
     "name": "stdout",
     "output_type": "stream",
     "text": [
      "Epoch [44/350] | Train Loss: 0.5115 | Val Loss: 0.2492 | Val Acc: 92.91% | MixUp α: 0.200\n"
     ]
    },
    {
     "data": {
      "application/vnd.jupyter.widget-view+json": {
       "model_id": "54adf1bfe4354b7a80f78e8926f73f8a",
       "version_major": 2,
       "version_minor": 0
      },
      "text/plain": [
       "Epoch 45/350 [STRONG]:   0%|          | 0/391 [00:00<?, ?it/s]"
      ]
     },
     "metadata": {},
     "output_type": "display_data"
    },
    {
     "name": "stdout",
     "output_type": "stream",
     "text": [
      "Epoch [45/350] | Train Loss: 0.5196 | Val Loss: 0.2472 | Val Acc: 92.96% | MixUp α: 0.200\n"
     ]
    },
    {
     "data": {
      "application/vnd.jupyter.widget-view+json": {
       "model_id": "efc8117136994c75a98cd17c74b1955a",
       "version_major": 2,
       "version_minor": 0
      },
      "text/plain": [
       "Epoch 46/350 [STRONG]:   0%|          | 0/391 [00:00<?, ?it/s]"
      ]
     },
     "metadata": {},
     "output_type": "display_data"
    },
    {
     "name": "stdout",
     "output_type": "stream",
     "text": [
      "Epoch [46/350] | Train Loss: 0.5254 | Val Loss: 0.2459 | Val Acc: 92.98% | MixUp α: 0.200\n"
     ]
    },
    {
     "data": {
      "application/vnd.jupyter.widget-view+json": {
       "model_id": "77dbfe71d975403c9a4fc1d8f1ae5b61",
       "version_major": 2,
       "version_minor": 0
      },
      "text/plain": [
       "Epoch 47/350 [STRONG]:   0%|          | 0/391 [00:00<?, ?it/s]"
      ]
     },
     "metadata": {},
     "output_type": "display_data"
    },
    {
     "name": "stdout",
     "output_type": "stream",
     "text": [
      "Epoch [47/350] | Train Loss: 0.5635 | Val Loss: 0.2467 | Val Acc: 93.01% | MixUp α: 0.200\n"
     ]
    },
    {
     "data": {
      "application/vnd.jupyter.widget-view+json": {
       "model_id": "4a4d1dee7cc349d59d3d8b4a8255f6bc",
       "version_major": 2,
       "version_minor": 0
      },
      "text/plain": [
       "Epoch 48/350 [STRONG]:   0%|          | 0/391 [00:00<?, ?it/s]"
      ]
     },
     "metadata": {},
     "output_type": "display_data"
    },
    {
     "name": "stdout",
     "output_type": "stream",
     "text": [
      "Epoch [48/350] | Train Loss: 0.5083 | Val Loss: 0.2444 | Val Acc: 93.09% | MixUp α: 0.200\n"
     ]
    },
    {
     "data": {
      "application/vnd.jupyter.widget-view+json": {
       "model_id": "e6426005f79540f29272f3b4a323eaa3",
       "version_major": 2,
       "version_minor": 0
      },
      "text/plain": [
       "Epoch 49/350 [STRONG]:   0%|          | 0/391 [00:00<?, ?it/s]"
      ]
     },
     "metadata": {},
     "output_type": "display_data"
    },
    {
     "name": "stdout",
     "output_type": "stream",
     "text": [
      "Epoch [49/350] | Train Loss: 0.5553 | Val Loss: 0.2455 | Val Acc: 93.24% | MixUp α: 0.200\n"
     ]
    },
    {
     "data": {
      "application/vnd.jupyter.widget-view+json": {
       "model_id": "bb023edb878c4028b65a5d3b3071b748",
       "version_major": 2,
       "version_minor": 0
      },
      "text/plain": [
       "Epoch 50/350 [STRONG]:   0%|          | 0/391 [00:00<?, ?it/s]"
      ]
     },
     "metadata": {},
     "output_type": "display_data"
    },
    {
     "name": "stdout",
     "output_type": "stream",
     "text": [
      "Epoch [50/350] | Train Loss: 0.5224 | Val Loss: 0.2451 | Val Acc: 93.39% | MixUp α: 0.200\n"
     ]
    },
    {
     "data": {
      "application/vnd.jupyter.widget-view+json": {
       "model_id": "548733ce63174d8db1b9768c850442da",
       "version_major": 2,
       "version_minor": 0
      },
      "text/plain": [
       "Epoch 51/350 [STRONG]:   0%|          | 0/391 [00:00<?, ?it/s]"
      ]
     },
     "metadata": {},
     "output_type": "display_data"
    },
    {
     "name": "stdout",
     "output_type": "stream",
     "text": [
      "Epoch [51/350] | Train Loss: 0.4862 | Val Loss: 0.2423 | Val Acc: 93.38% | MixUp α: 0.200\n"
     ]
    },
    {
     "data": {
      "application/vnd.jupyter.widget-view+json": {
       "model_id": "612869f33cc74e12999e0bbeb539215f",
       "version_major": 2,
       "version_minor": 0
      },
      "text/plain": [
       "Epoch 52/350 [STRONG]:   0%|          | 0/391 [00:00<?, ?it/s]"
      ]
     },
     "metadata": {},
     "output_type": "display_data"
    },
    {
     "name": "stdout",
     "output_type": "stream",
     "text": [
      "Epoch [52/350] | Train Loss: 0.4957 | Val Loss: 0.2397 | Val Acc: 93.39% | MixUp α: 0.200\n"
     ]
    },
    {
     "data": {
      "application/vnd.jupyter.widget-view+json": {
       "model_id": "3d3c17aa77dd46c88011bf3c728e7fea",
       "version_major": 2,
       "version_minor": 0
      },
      "text/plain": [
       "Epoch 53/350 [STRONG]:   0%|          | 0/391 [00:00<?, ?it/s]"
      ]
     },
     "metadata": {},
     "output_type": "display_data"
    },
    {
     "name": "stdout",
     "output_type": "stream",
     "text": [
      "Epoch [53/350] | Train Loss: 0.5184 | Val Loss: 0.2397 | Val Acc: 93.30% | MixUp α: 0.200\n"
     ]
    },
    {
     "data": {
      "application/vnd.jupyter.widget-view+json": {
       "model_id": "786dbeafecee47298d44807900a2d448",
       "version_major": 2,
       "version_minor": 0
      },
      "text/plain": [
       "Epoch 54/350 [STRONG]:   0%|          | 0/391 [00:00<?, ?it/s]"
      ]
     },
     "metadata": {},
     "output_type": "display_data"
    },
    {
     "name": "stdout",
     "output_type": "stream",
     "text": [
      "Epoch [54/350] | Train Loss: 0.5223 | Val Loss: 0.2411 | Val Acc: 93.27% | MixUp α: 0.200\n"
     ]
    },
    {
     "data": {
      "application/vnd.jupyter.widget-view+json": {
       "model_id": "47ecadb4b74b414fb2dae0640ceeef79",
       "version_major": 2,
       "version_minor": 0
      },
      "text/plain": [
       "Epoch 55/350 [STRONG]:   0%|          | 0/391 [00:00<?, ?it/s]"
      ]
     },
     "metadata": {},
     "output_type": "display_data"
    },
    {
     "name": "stdout",
     "output_type": "stream",
     "text": [
      "Epoch [55/350] | Train Loss: 0.5000 | Val Loss: 0.2405 | Val Acc: 93.36% | MixUp α: 0.200\n"
     ]
    },
    {
     "data": {
      "application/vnd.jupyter.widget-view+json": {
       "model_id": "88652681922a4e9a8b93a491bdeae505",
       "version_major": 2,
       "version_minor": 0
      },
      "text/plain": [
       "Epoch 56/350 [STRONG]:   0%|          | 0/391 [00:00<?, ?it/s]"
      ]
     },
     "metadata": {},
     "output_type": "display_data"
    },
    {
     "name": "stdout",
     "output_type": "stream",
     "text": [
      "Epoch [56/350] | Train Loss: 0.5245 | Val Loss: 0.2416 | Val Acc: 93.40% | MixUp α: 0.200\n"
     ]
    },
    {
     "data": {
      "application/vnd.jupyter.widget-view+json": {
       "model_id": "8773d3b6deca4fd09f8a6327f5ce89c6",
       "version_major": 2,
       "version_minor": 0
      },
      "text/plain": [
       "Epoch 57/350 [STRONG]:   0%|          | 0/391 [00:00<?, ?it/s]"
      ]
     },
     "metadata": {},
     "output_type": "display_data"
    },
    {
     "name": "stdout",
     "output_type": "stream",
     "text": [
      "Epoch [57/350] | Train Loss: 0.4811 | Val Loss: 0.2392 | Val Acc: 93.45% | MixUp α: 0.200\n"
     ]
    },
    {
     "data": {
      "application/vnd.jupyter.widget-view+json": {
       "model_id": "5ffaf3ace2fc47da8f0170fd99bc033e",
       "version_major": 2,
       "version_minor": 0
      },
      "text/plain": [
       "Epoch 58/350 [STRONG]:   0%|          | 0/391 [00:00<?, ?it/s]"
      ]
     },
     "metadata": {},
     "output_type": "display_data"
    },
    {
     "name": "stdout",
     "output_type": "stream",
     "text": [
      "Epoch [58/350] | Train Loss: 0.5382 | Val Loss: 0.2407 | Val Acc: 93.51% | MixUp α: 0.200\n"
     ]
    },
    {
     "data": {
      "application/vnd.jupyter.widget-view+json": {
       "model_id": "f459ca89f53f4b2e9cba263ddad92d5b",
       "version_major": 2,
       "version_minor": 0
      },
      "text/plain": [
       "Epoch 59/350 [STRONG]:   0%|          | 0/391 [00:00<?, ?it/s]"
      ]
     },
     "metadata": {},
     "output_type": "display_data"
    },
    {
     "name": "stdout",
     "output_type": "stream",
     "text": [
      "Epoch [59/350] | Train Loss: 0.4872 | Val Loss: 0.2406 | Val Acc: 93.49% | MixUp α: 0.200\n"
     ]
    },
    {
     "data": {
      "application/vnd.jupyter.widget-view+json": {
       "model_id": "93528a19295e4eee87d2c3b180476446",
       "version_major": 2,
       "version_minor": 0
      },
      "text/plain": [
       "Epoch 60/350 [STRONG]:   0%|          | 0/391 [00:00<?, ?it/s]"
      ]
     },
     "metadata": {},
     "output_type": "display_data"
    },
    {
     "name": "stdout",
     "output_type": "stream",
     "text": [
      "Epoch [60/350] | Train Loss: 0.4853 | Val Loss: 0.2396 | Val Acc: 93.59% | MixUp α: 0.200\n"
     ]
    },
    {
     "data": {
      "application/vnd.jupyter.widget-view+json": {
       "model_id": "6594e54979ab438dab573537a11ca87e",
       "version_major": 2,
       "version_minor": 0
      },
      "text/plain": [
       "Epoch 61/350 [STRONG]:   0%|          | 0/391 [00:00<?, ?it/s]"
      ]
     },
     "metadata": {},
     "output_type": "display_data"
    },
    {
     "name": "stdout",
     "output_type": "stream",
     "text": [
      "Epoch [61/350] | Train Loss: 0.4798 | Val Loss: 0.2383 | Val Acc: 93.71% | MixUp α: 0.200\n"
     ]
    },
    {
     "data": {
      "application/vnd.jupyter.widget-view+json": {
       "model_id": "2046a348ce174d59812112ae3d548a23",
       "version_major": 2,
       "version_minor": 0
      },
      "text/plain": [
       "Epoch 62/350 [STRONG]:   0%|          | 0/391 [00:00<?, ?it/s]"
      ]
     },
     "metadata": {},
     "output_type": "display_data"
    },
    {
     "name": "stdout",
     "output_type": "stream",
     "text": [
      "Epoch [62/350] | Train Loss: 0.4797 | Val Loss: 0.2375 | Val Acc: 93.71% | MixUp α: 0.200\n"
     ]
    },
    {
     "data": {
      "application/vnd.jupyter.widget-view+json": {
       "model_id": "24f33b1f912f4fb99f6b7f69767f75a8",
       "version_major": 2,
       "version_minor": 0
      },
      "text/plain": [
       "Epoch 63/350 [STRONG]:   0%|          | 0/391 [00:00<?, ?it/s]"
      ]
     },
     "metadata": {},
     "output_type": "display_data"
    },
    {
     "name": "stdout",
     "output_type": "stream",
     "text": [
      "Epoch [63/350] | Train Loss: 0.4644 | Val Loss: 0.2366 | Val Acc: 93.74% | MixUp α: 0.200\n"
     ]
    },
    {
     "data": {
      "application/vnd.jupyter.widget-view+json": {
       "model_id": "c987177282b24b708c9976663b9d047b",
       "version_major": 2,
       "version_minor": 0
      },
      "text/plain": [
       "Epoch 64/350 [STRONG]:   0%|          | 0/391 [00:00<?, ?it/s]"
      ]
     },
     "metadata": {},
     "output_type": "display_data"
    },
    {
     "name": "stdout",
     "output_type": "stream",
     "text": [
      "Epoch [64/350] | Train Loss: 0.4770 | Val Loss: 0.2364 | Val Acc: 93.66% | MixUp α: 0.200\n"
     ]
    },
    {
     "data": {
      "application/vnd.jupyter.widget-view+json": {
       "model_id": "3697d55a87b7498eb9bb3f34b89350ec",
       "version_major": 2,
       "version_minor": 0
      },
      "text/plain": [
       "Epoch 65/350 [STRONG]:   0%|          | 0/391 [00:00<?, ?it/s]"
      ]
     },
     "metadata": {},
     "output_type": "display_data"
    },
    {
     "name": "stdout",
     "output_type": "stream",
     "text": [
      "Epoch [65/350] | Train Loss: 0.5153 | Val Loss: 0.2397 | Val Acc: 93.57% | MixUp α: 0.200\n"
     ]
    },
    {
     "data": {
      "application/vnd.jupyter.widget-view+json": {
       "model_id": "68ca395c48af460080f2bdf562fb7a90",
       "version_major": 2,
       "version_minor": 0
      },
      "text/plain": [
       "Epoch 66/350 [STRONG]:   0%|          | 0/391 [00:00<?, ?it/s]"
      ]
     },
     "metadata": {},
     "output_type": "display_data"
    },
    {
     "name": "stdout",
     "output_type": "stream",
     "text": [
      "Epoch [66/350] | Train Loss: 0.4343 | Val Loss: 0.2365 | Val Acc: 93.59% | MixUp α: 0.200\n"
     ]
    },
    {
     "data": {
      "application/vnd.jupyter.widget-view+json": {
       "model_id": "3c9ee63972674982916c9ef7a15f57dc",
       "version_major": 2,
       "version_minor": 0
      },
      "text/plain": [
       "Epoch 67/350 [STRONG]:   0%|          | 0/391 [00:00<?, ?it/s]"
      ]
     },
     "metadata": {},
     "output_type": "display_data"
    },
    {
     "name": "stdout",
     "output_type": "stream",
     "text": [
      "Epoch [67/350] | Train Loss: 0.4973 | Val Loss: 0.2378 | Val Acc: 93.68% | MixUp α: 0.200\n"
     ]
    },
    {
     "data": {
      "application/vnd.jupyter.widget-view+json": {
       "model_id": "a991a9fb13514ac4ac65429fd493364a",
       "version_major": 2,
       "version_minor": 0
      },
      "text/plain": [
       "Epoch 68/350 [STRONG]:   0%|          | 0/391 [00:00<?, ?it/s]"
      ]
     },
     "metadata": {},
     "output_type": "display_data"
    },
    {
     "name": "stdout",
     "output_type": "stream",
     "text": [
      "Epoch [68/350] | Train Loss: 0.4327 | Val Loss: 0.2352 | Val Acc: 93.71% | MixUp α: 0.200\n"
     ]
    },
    {
     "data": {
      "application/vnd.jupyter.widget-view+json": {
       "model_id": "c892e6e4ed554c619239f380ec674043",
       "version_major": 2,
       "version_minor": 0
      },
      "text/plain": [
       "Epoch 69/350 [STRONG]:   0%|          | 0/391 [00:00<?, ?it/s]"
      ]
     },
     "metadata": {},
     "output_type": "display_data"
    },
    {
     "name": "stdout",
     "output_type": "stream",
     "text": [
      "Epoch [69/350] | Train Loss: 0.4661 | Val Loss: 0.2362 | Val Acc: 93.69% | MixUp α: 0.200\n"
     ]
    },
    {
     "data": {
      "application/vnd.jupyter.widget-view+json": {
       "model_id": "1a047859036341c9b6c0c4bd47d5fccc",
       "version_major": 2,
       "version_minor": 0
      },
      "text/plain": [
       "Epoch 70/350 [STRONG]:   0%|          | 0/391 [00:00<?, ?it/s]"
      ]
     },
     "metadata": {},
     "output_type": "display_data"
    },
    {
     "name": "stdout",
     "output_type": "stream",
     "text": [
      "Epoch [70/350] | Train Loss: 0.4642 | Val Loss: 0.2360 | Val Acc: 93.77% | MixUp α: 0.200\n"
     ]
    },
    {
     "data": {
      "application/vnd.jupyter.widget-view+json": {
       "model_id": "107925d88f744be0808e3203b077c7d0",
       "version_major": 2,
       "version_minor": 0
      },
      "text/plain": [
       "Epoch 71/350 [STRONG]:   0%|          | 0/391 [00:00<?, ?it/s]"
      ]
     },
     "metadata": {},
     "output_type": "display_data"
    },
    {
     "name": "stdout",
     "output_type": "stream",
     "text": [
      "Epoch [71/350] | Train Loss: 0.4357 | Val Loss: 0.2342 | Val Acc: 93.81% | MixUp α: 0.200\n"
     ]
    },
    {
     "data": {
      "application/vnd.jupyter.widget-view+json": {
       "model_id": "d15f11ee00b541f996d719c5478d9dd9",
       "version_major": 2,
       "version_minor": 0
      },
      "text/plain": [
       "Epoch 72/350 [STRONG]:   0%|          | 0/391 [00:00<?, ?it/s]"
      ]
     },
     "metadata": {},
     "output_type": "display_data"
    },
    {
     "name": "stdout",
     "output_type": "stream",
     "text": [
      "Epoch [72/350] | Train Loss: 0.4798 | Val Loss: 0.2357 | Val Acc: 93.84% | MixUp α: 0.200\n"
     ]
    },
    {
     "data": {
      "application/vnd.jupyter.widget-view+json": {
       "model_id": "b51eb45fc08245b3af3f9280d6ccaf95",
       "version_major": 2,
       "version_minor": 0
      },
      "text/plain": [
       "Epoch 73/350 [STRONG]:   0%|          | 0/391 [00:00<?, ?it/s]"
      ]
     },
     "metadata": {},
     "output_type": "display_data"
    },
    {
     "name": "stdout",
     "output_type": "stream",
     "text": [
      "Epoch [73/350] | Train Loss: 0.4843 | Val Loss: 0.2376 | Val Acc: 93.87% | MixUp α: 0.200\n"
     ]
    },
    {
     "data": {
      "application/vnd.jupyter.widget-view+json": {
       "model_id": "36b8c3efaacd4c1f9a5399541ba8ceff",
       "version_major": 2,
       "version_minor": 0
      },
      "text/plain": [
       "Epoch 74/350 [STRONG]:   0%|          | 0/391 [00:00<?, ?it/s]"
      ]
     },
     "metadata": {},
     "output_type": "display_data"
    },
    {
     "name": "stdout",
     "output_type": "stream",
     "text": [
      "Epoch [74/350] | Train Loss: 0.4200 | Val Loss: 0.2336 | Val Acc: 93.90% | MixUp α: 0.200\n"
     ]
    },
    {
     "data": {
      "application/vnd.jupyter.widget-view+json": {
       "model_id": "6f26eb8caf9f450ca70021bfc2dc1ad3",
       "version_major": 2,
       "version_minor": 0
      },
      "text/plain": [
       "Epoch 75/350 [STRONG]:   0%|          | 0/391 [00:00<?, ?it/s]"
      ]
     },
     "metadata": {},
     "output_type": "display_data"
    },
    {
     "name": "stdout",
     "output_type": "stream",
     "text": [
      "Epoch [75/350] | Train Loss: 0.4891 | Val Loss: 0.2357 | Val Acc: 93.87% | MixUp α: 0.200\n"
     ]
    },
    {
     "data": {
      "application/vnd.jupyter.widget-view+json": {
       "model_id": "dfca3500da5445948ee40b490f5b04f8",
       "version_major": 2,
       "version_minor": 0
      },
      "text/plain": [
       "Epoch 76/350 [STRONG]:   0%|          | 0/391 [00:00<?, ?it/s]"
      ]
     },
     "metadata": {},
     "output_type": "display_data"
    },
    {
     "name": "stdout",
     "output_type": "stream",
     "text": [
      "Epoch [76/350] | Train Loss: 0.4375 | Val Loss: 0.2345 | Val Acc: 93.78% | MixUp α: 0.200\n"
     ]
    },
    {
     "data": {
      "application/vnd.jupyter.widget-view+json": {
       "model_id": "f190d85f7118446981a42017cb51e0a5",
       "version_major": 2,
       "version_minor": 0
      },
      "text/plain": [
       "Epoch 77/350 [STRONG]:   0%|          | 0/391 [00:00<?, ?it/s]"
      ]
     },
     "metadata": {},
     "output_type": "display_data"
    },
    {
     "name": "stdout",
     "output_type": "stream",
     "text": [
      "Epoch [77/350] | Train Loss: 0.4041 | Val Loss: 0.2318 | Val Acc: 93.69% | MixUp α: 0.200\n"
     ]
    },
    {
     "data": {
      "application/vnd.jupyter.widget-view+json": {
       "model_id": "34d6af07cdc445549b1e3979dd4ac88a",
       "version_major": 2,
       "version_minor": 0
      },
      "text/plain": [
       "Epoch 78/350 [STRONG]:   0%|          | 0/391 [00:00<?, ?it/s]"
      ]
     },
     "metadata": {},
     "output_type": "display_data"
    },
    {
     "name": "stdout",
     "output_type": "stream",
     "text": [
      "Epoch [78/350] | Train Loss: 0.4130 | Val Loss: 0.2302 | Val Acc: 93.74% | MixUp α: 0.200\n"
     ]
    },
    {
     "data": {
      "application/vnd.jupyter.widget-view+json": {
       "model_id": "1a03c39ba7864fcf87ec0770401cf26a",
       "version_major": 2,
       "version_minor": 0
      },
      "text/plain": [
       "Epoch 79/350 [STRONG]:   0%|          | 0/391 [00:00<?, ?it/s]"
      ]
     },
     "metadata": {},
     "output_type": "display_data"
    },
    {
     "name": "stdout",
     "output_type": "stream",
     "text": [
      "Epoch [79/350] | Train Loss: 0.4393 | Val Loss: 0.2296 | Val Acc: 93.76% | MixUp α: 0.200\n"
     ]
    },
    {
     "data": {
      "application/vnd.jupyter.widget-view+json": {
       "model_id": "55c56f4463df4b54bb75b5f51248bc15",
       "version_major": 2,
       "version_minor": 0
      },
      "text/plain": [
       "Epoch 80/350 [STRONG]:   0%|          | 0/391 [00:00<?, ?it/s]"
      ]
     },
     "metadata": {},
     "output_type": "display_data"
    },
    {
     "name": "stdout",
     "output_type": "stream",
     "text": [
      "Epoch [80/350] | Train Loss: 0.4432 | Val Loss: 0.2312 | Val Acc: 93.76% | MixUp α: 0.200\n"
     ]
    },
    {
     "data": {
      "application/vnd.jupyter.widget-view+json": {
       "model_id": "be1c62eeccbf4efea48a0c871df749a7",
       "version_major": 2,
       "version_minor": 0
      },
      "text/plain": [
       "Epoch 81/350 [STRONG]:   0%|          | 0/391 [00:00<?, ?it/s]"
      ]
     },
     "metadata": {},
     "output_type": "display_data"
    },
    {
     "name": "stdout",
     "output_type": "stream",
     "text": [
      "Epoch [81/350] | Train Loss: 0.4667 | Val Loss: 0.2334 | Val Acc: 93.86% | MixUp α: 0.200\n"
     ]
    },
    {
     "data": {
      "application/vnd.jupyter.widget-view+json": {
       "model_id": "d513e8b1c50b4f8ca1d76dd173a04275",
       "version_major": 2,
       "version_minor": 0
      },
      "text/plain": [
       "Epoch 82/350 [STRONG]:   0%|          | 0/391 [00:00<?, ?it/s]"
      ]
     },
     "metadata": {},
     "output_type": "display_data"
    },
    {
     "name": "stdout",
     "output_type": "stream",
     "text": [
      "Epoch [82/350] | Train Loss: 0.4675 | Val Loss: 0.2334 | Val Acc: 93.89% | MixUp α: 0.200\n"
     ]
    },
    {
     "data": {
      "application/vnd.jupyter.widget-view+json": {
       "model_id": "1b27c274d733446b8a571351144eb526",
       "version_major": 2,
       "version_minor": 0
      },
      "text/plain": [
       "Epoch 83/350 [STRONG]:   0%|          | 0/391 [00:00<?, ?it/s]"
      ]
     },
     "metadata": {},
     "output_type": "display_data"
    },
    {
     "name": "stdout",
     "output_type": "stream",
     "text": [
      "Epoch [83/350] | Train Loss: 0.4951 | Val Loss: 0.2362 | Val Acc: 93.90% | MixUp α: 0.200\n"
     ]
    },
    {
     "data": {
      "application/vnd.jupyter.widget-view+json": {
       "model_id": "94323d9e44914988b57e11ccab721be5",
       "version_major": 2,
       "version_minor": 0
      },
      "text/plain": [
       "Epoch 84/350 [STRONG]:   0%|          | 0/391 [00:00<?, ?it/s]"
      ]
     },
     "metadata": {},
     "output_type": "display_data"
    },
    {
     "name": "stdout",
     "output_type": "stream",
     "text": [
      "Epoch [84/350] | Train Loss: 0.4173 | Val Loss: 0.2341 | Val Acc: 93.96% | MixUp α: 0.200\n"
     ]
    },
    {
     "data": {
      "application/vnd.jupyter.widget-view+json": {
       "model_id": "bf859ba736b14510b5eb39b26e2cf701",
       "version_major": 2,
       "version_minor": 0
      },
      "text/plain": [
       "Epoch 85/350 [STRONG]:   0%|          | 0/391 [00:00<?, ?it/s]"
      ]
     },
     "metadata": {},
     "output_type": "display_data"
    },
    {
     "name": "stdout",
     "output_type": "stream",
     "text": [
      "Epoch [85/350] | Train Loss: 0.4451 | Val Loss: 0.2343 | Val Acc: 94.00% | MixUp α: 0.200\n"
     ]
    },
    {
     "data": {
      "application/vnd.jupyter.widget-view+json": {
       "model_id": "2c84547248d24f6bae2c17f2dad08fb7",
       "version_major": 2,
       "version_minor": 0
      },
      "text/plain": [
       "Epoch 86/350 [STRONG]:   0%|          | 0/391 [00:00<?, ?it/s]"
      ]
     },
     "metadata": {},
     "output_type": "display_data"
    },
    {
     "name": "stdout",
     "output_type": "stream",
     "text": [
      "Epoch [86/350] | Train Loss: 0.4658 | Val Loss: 0.2354 | Val Acc: 94.01% | MixUp α: 0.200\n"
     ]
    },
    {
     "data": {
      "application/vnd.jupyter.widget-view+json": {
       "model_id": "9f865cf0088e4a63b3952b483bf88d7f",
       "version_major": 2,
       "version_minor": 0
      },
      "text/plain": [
       "Epoch 87/350 [STRONG]:   0%|          | 0/391 [00:00<?, ?it/s]"
      ]
     },
     "metadata": {},
     "output_type": "display_data"
    },
    {
     "name": "stdout",
     "output_type": "stream",
     "text": [
      "Epoch [87/350] | Train Loss: 0.4057 | Val Loss: 0.2334 | Val Acc: 94.07% | MixUp α: 0.200\n"
     ]
    },
    {
     "data": {
      "application/vnd.jupyter.widget-view+json": {
       "model_id": "479f26f326494e859c42ed9d92d9e5ca",
       "version_major": 2,
       "version_minor": 0
      },
      "text/plain": [
       "Epoch 88/350 [STRONG]:   0%|          | 0/391 [00:00<?, ?it/s]"
      ]
     },
     "metadata": {},
     "output_type": "display_data"
    },
    {
     "name": "stdout",
     "output_type": "stream",
     "text": [
      "Epoch [88/350] | Train Loss: 0.4611 | Val Loss: 0.2342 | Val Acc: 94.04% | MixUp α: 0.200\n"
     ]
    },
    {
     "data": {
      "application/vnd.jupyter.widget-view+json": {
       "model_id": "d935602cab08461bb0b522947bea4ba2",
       "version_major": 2,
       "version_minor": 0
      },
      "text/plain": [
       "Epoch 89/350 [STRONG]:   0%|          | 0/391 [00:00<?, ?it/s]"
      ]
     },
     "metadata": {},
     "output_type": "display_data"
    },
    {
     "name": "stdout",
     "output_type": "stream",
     "text": [
      "Epoch [89/350] | Train Loss: 0.4437 | Val Loss: 0.2345 | Val Acc: 94.07% | MixUp α: 0.200\n"
     ]
    },
    {
     "data": {
      "application/vnd.jupyter.widget-view+json": {
       "model_id": "7aa9c306680d4ca48286b19be1b2b3a8",
       "version_major": 2,
       "version_minor": 0
      },
      "text/plain": [
       "Epoch 90/350 [STRONG]:   0%|          | 0/391 [00:00<?, ?it/s]"
      ]
     },
     "metadata": {},
     "output_type": "display_data"
    },
    {
     "name": "stdout",
     "output_type": "stream",
     "text": [
      "Epoch [90/350] | Train Loss: 0.4417 | Val Loss: 0.2342 | Val Acc: 94.14% | MixUp α: 0.200\n"
     ]
    },
    {
     "data": {
      "application/vnd.jupyter.widget-view+json": {
       "model_id": "f1a624f285e14309862c1cae2ec5f0fb",
       "version_major": 2,
       "version_minor": 0
      },
      "text/plain": [
       "Epoch 91/350 [STRONG]:   0%|          | 0/391 [00:00<?, ?it/s]"
      ]
     },
     "metadata": {},
     "output_type": "display_data"
    },
    {
     "name": "stdout",
     "output_type": "stream",
     "text": [
      "Epoch [91/350] | Train Loss: 0.4104 | Val Loss: 0.2324 | Val Acc: 94.06% | MixUp α: 0.200\n"
     ]
    },
    {
     "data": {
      "application/vnd.jupyter.widget-view+json": {
       "model_id": "cc5e2d3738d94ac79d685dbca7f2d246",
       "version_major": 2,
       "version_minor": 0
      },
      "text/plain": [
       "Epoch 92/350 [STRONG]:   0%|          | 0/391 [00:00<?, ?it/s]"
      ]
     },
     "metadata": {},
     "output_type": "display_data"
    },
    {
     "name": "stdout",
     "output_type": "stream",
     "text": [
      "Epoch [92/350] | Train Loss: 0.4586 | Val Loss: 0.2346 | Val Acc: 94.08% | MixUp α: 0.200\n"
     ]
    },
    {
     "data": {
      "application/vnd.jupyter.widget-view+json": {
       "model_id": "82ab96ea1e254dcea67d83966215324c",
       "version_major": 2,
       "version_minor": 0
      },
      "text/plain": [
       "Epoch 93/350 [STRONG]:   0%|          | 0/391 [00:00<?, ?it/s]"
      ]
     },
     "metadata": {},
     "output_type": "display_data"
    },
    {
     "name": "stdout",
     "output_type": "stream",
     "text": [
      "Epoch [93/350] | Train Loss: 0.3945 | Val Loss: 0.2326 | Val Acc: 94.19% | MixUp α: 0.200\n"
     ]
    },
    {
     "data": {
      "application/vnd.jupyter.widget-view+json": {
       "model_id": "f07aea824af1458ca506edd56013a53a",
       "version_major": 2,
       "version_minor": 0
      },
      "text/plain": [
       "Epoch 94/350 [STRONG]:   0%|          | 0/391 [00:00<?, ?it/s]"
      ]
     },
     "metadata": {},
     "output_type": "display_data"
    },
    {
     "name": "stdout",
     "output_type": "stream",
     "text": [
      "Epoch [94/350] | Train Loss: 0.4478 | Val Loss: 0.2317 | Val Acc: 94.09% | MixUp α: 0.200\n"
     ]
    },
    {
     "data": {
      "application/vnd.jupyter.widget-view+json": {
       "model_id": "19a903ef99da4036934c39a09d441f4c",
       "version_major": 2,
       "version_minor": 0
      },
      "text/plain": [
       "Epoch 95/350 [STRONG]:   0%|          | 0/391 [00:00<?, ?it/s]"
      ]
     },
     "metadata": {},
     "output_type": "display_data"
    },
    {
     "name": "stdout",
     "output_type": "stream",
     "text": [
      "Epoch [95/350] | Train Loss: 0.4423 | Val Loss: 0.2322 | Val Acc: 94.17% | MixUp α: 0.200\n"
     ]
    },
    {
     "data": {
      "application/vnd.jupyter.widget-view+json": {
       "model_id": "7a426a9b7dff4465b823091defa3f631",
       "version_major": 2,
       "version_minor": 0
      },
      "text/plain": [
       "Epoch 96/350 [STRONG]:   0%|          | 0/391 [00:00<?, ?it/s]"
      ]
     },
     "metadata": {},
     "output_type": "display_data"
    },
    {
     "name": "stdout",
     "output_type": "stream",
     "text": [
      "Epoch [96/350] | Train Loss: 0.4024 | Val Loss: 0.2313 | Val Acc: 94.14% | MixUp α: 0.200\n"
     ]
    },
    {
     "data": {
      "application/vnd.jupyter.widget-view+json": {
       "model_id": "d6aaa9e6c6bf4c9ab494d739d1939b0c",
       "version_major": 2,
       "version_minor": 0
      },
      "text/plain": [
       "Epoch 97/350 [STRONG]:   0%|          | 0/391 [00:00<?, ?it/s]"
      ]
     },
     "metadata": {},
     "output_type": "display_data"
    },
    {
     "name": "stdout",
     "output_type": "stream",
     "text": [
      "Epoch [97/350] | Train Loss: 0.4694 | Val Loss: 0.2344 | Val Acc: 94.04% | MixUp α: 0.200\n"
     ]
    },
    {
     "data": {
      "application/vnd.jupyter.widget-view+json": {
       "model_id": "5ad01816a02a4e14a95bf4ec7c6ac253",
       "version_major": 2,
       "version_minor": 0
      },
      "text/plain": [
       "Epoch 98/350 [STRONG]:   0%|          | 0/391 [00:00<?, ?it/s]"
      ]
     },
     "metadata": {},
     "output_type": "display_data"
    },
    {
     "name": "stdout",
     "output_type": "stream",
     "text": [
      "Epoch [98/350] | Train Loss: 0.4505 | Val Loss: 0.2360 | Val Acc: 94.07% | MixUp α: 0.200\n"
     ]
    },
    {
     "data": {
      "application/vnd.jupyter.widget-view+json": {
       "model_id": "3d8b3da91e4e46aaa44ce41a5952b90d",
       "version_major": 2,
       "version_minor": 0
      },
      "text/plain": [
       "Epoch 99/350 [STRONG]:   0%|          | 0/391 [00:00<?, ?it/s]"
      ]
     },
     "metadata": {},
     "output_type": "display_data"
    },
    {
     "name": "stdout",
     "output_type": "stream",
     "text": [
      "Epoch [99/350] | Train Loss: 0.4165 | Val Loss: 0.2342 | Val Acc: 94.11% | MixUp α: 0.200\n"
     ]
    },
    {
     "data": {
      "application/vnd.jupyter.widget-view+json": {
       "model_id": "f91a954d19544ebfb57734eda07c8e1f",
       "version_major": 2,
       "version_minor": 0
      },
      "text/plain": [
       "Epoch 100/350 [STRONG]:   0%|          | 0/391 [00:00<?, ?it/s]"
      ]
     },
     "metadata": {},
     "output_type": "display_data"
    },
    {
     "name": "stdout",
     "output_type": "stream",
     "text": [
      "Epoch [100/350] | Train Loss: 0.4268 | Val Loss: 0.2331 | Val Acc: 94.08% | MixUp α: 0.200\n"
     ]
    },
    {
     "data": {
      "application/vnd.jupyter.widget-view+json": {
       "model_id": "1eafa5d19d634ca49de57ecbab2edeeb",
       "version_major": 2,
       "version_minor": 0
      },
      "text/plain": [
       "Epoch 101/350 [STRONG]:   0%|          | 0/391 [00:00<?, ?it/s]"
      ]
     },
     "metadata": {},
     "output_type": "display_data"
    },
    {
     "name": "stdout",
     "output_type": "stream",
     "text": [
      "Epoch [101/350] | Train Loss: 0.4468 | Val Loss: 0.2336 | Val Acc: 94.18% | MixUp α: 0.200\n"
     ]
    },
    {
     "data": {
      "application/vnd.jupyter.widget-view+json": {
       "model_id": "8f8b702a12244a4980aa93a245393f9f",
       "version_major": 2,
       "version_minor": 0
      },
      "text/plain": [
       "Epoch 102/350 [STRONG]:   0%|          | 0/391 [00:00<?, ?it/s]"
      ]
     },
     "metadata": {},
     "output_type": "display_data"
    },
    {
     "name": "stdout",
     "output_type": "stream",
     "text": [
      "Epoch [102/350] | Train Loss: 0.4318 | Val Loss: 0.2334 | Val Acc: 94.19% | MixUp α: 0.200\n"
     ]
    },
    {
     "data": {
      "application/vnd.jupyter.widget-view+json": {
       "model_id": "8adb5d3f0799412a82ea68dec827b544",
       "version_major": 2,
       "version_minor": 0
      },
      "text/plain": [
       "Epoch 103/350 [STRONG]:   0%|          | 0/391 [00:00<?, ?it/s]"
      ]
     },
     "metadata": {},
     "output_type": "display_data"
    },
    {
     "name": "stdout",
     "output_type": "stream",
     "text": [
      "Epoch [103/350] | Train Loss: 0.4336 | Val Loss: 0.2335 | Val Acc: 94.18% | MixUp α: 0.200\n"
     ]
    },
    {
     "data": {
      "application/vnd.jupyter.widget-view+json": {
       "model_id": "4aa0315e253b4c25848bea29ba6082e7",
       "version_major": 2,
       "version_minor": 0
      },
      "text/plain": [
       "Epoch 104/350 [STRONG]:   0%|          | 0/391 [00:00<?, ?it/s]"
      ]
     },
     "metadata": {},
     "output_type": "display_data"
    },
    {
     "name": "stdout",
     "output_type": "stream",
     "text": [
      "Epoch [104/350] | Train Loss: 0.4100 | Val Loss: 0.2329 | Val Acc: 94.20% | MixUp α: 0.200\n"
     ]
    },
    {
     "data": {
      "application/vnd.jupyter.widget-view+json": {
       "model_id": "3ce380576af94f4c8a5adc548b495190",
       "version_major": 2,
       "version_minor": 0
      },
      "text/plain": [
       "Epoch 105/350 [STRONG]:   0%|          | 0/391 [00:00<?, ?it/s]"
      ]
     },
     "metadata": {},
     "output_type": "display_data"
    },
    {
     "name": "stdout",
     "output_type": "stream",
     "text": [
      "Epoch [105/350] | Train Loss: 0.4012 | Val Loss: 0.2319 | Val Acc: 94.25% | MixUp α: 0.200\n"
     ]
    },
    {
     "data": {
      "application/vnd.jupyter.widget-view+json": {
       "model_id": "eab4bd611a3c4b4e9a3a5a8cd8569daf",
       "version_major": 2,
       "version_minor": 0
      },
      "text/plain": [
       "Epoch 106/350 [STRONG]:   0%|          | 0/391 [00:00<?, ?it/s]"
      ]
     },
     "metadata": {},
     "output_type": "display_data"
    },
    {
     "name": "stdout",
     "output_type": "stream",
     "text": [
      "Epoch [106/350] | Train Loss: 0.4114 | Val Loss: 0.2316 | Val Acc: 94.23% | MixUp α: 0.200\n"
     ]
    },
    {
     "data": {
      "application/vnd.jupyter.widget-view+json": {
       "model_id": "040e498367a54189bd0ebf0fb41de30e",
       "version_major": 2,
       "version_minor": 0
      },
      "text/plain": [
       "Epoch 107/350 [STRONG]:   0%|          | 0/391 [00:00<?, ?it/s]"
      ]
     },
     "metadata": {},
     "output_type": "display_data"
    },
    {
     "name": "stdout",
     "output_type": "stream",
     "text": [
      "Epoch [107/350] | Train Loss: 0.4078 | Val Loss: 0.2301 | Val Acc: 94.25% | MixUp α: 0.200\n"
     ]
    },
    {
     "data": {
      "application/vnd.jupyter.widget-view+json": {
       "model_id": "f1be0b2d963f4f8ca1e34242c641333d",
       "version_major": 2,
       "version_minor": 0
      },
      "text/plain": [
       "Epoch 108/350 [STRONG]:   0%|          | 0/391 [00:00<?, ?it/s]"
      ]
     },
     "metadata": {},
     "output_type": "display_data"
    },
    {
     "name": "stdout",
     "output_type": "stream",
     "text": [
      "Epoch [108/350] | Train Loss: 0.3679 | Val Loss: 0.2276 | Val Acc: 94.28% | MixUp α: 0.200\n"
     ]
    },
    {
     "data": {
      "application/vnd.jupyter.widget-view+json": {
       "model_id": "00b0c5a79a7d48068a67138df25653f8",
       "version_major": 2,
       "version_minor": 0
      },
      "text/plain": [
       "Epoch 109/350 [STRONG]:   0%|          | 0/391 [00:00<?, ?it/s]"
      ]
     },
     "metadata": {},
     "output_type": "display_data"
    },
    {
     "name": "stdout",
     "output_type": "stream",
     "text": [
      "Epoch [109/350] | Train Loss: 0.4220 | Val Loss: 0.2289 | Val Acc: 94.34% | MixUp α: 0.200\n"
     ]
    },
    {
     "data": {
      "application/vnd.jupyter.widget-view+json": {
       "model_id": "9084871aead74b5f87c24fa213c6e9e7",
       "version_major": 2,
       "version_minor": 0
      },
      "text/plain": [
       "Epoch 110/350 [STRONG]:   0%|          | 0/391 [00:00<?, ?it/s]"
      ]
     },
     "metadata": {},
     "output_type": "display_data"
    },
    {
     "name": "stdout",
     "output_type": "stream",
     "text": [
      "Epoch [110/350] | Train Loss: 0.3772 | Val Loss: 0.2261 | Val Acc: 94.33% | MixUp α: 0.200\n"
     ]
    },
    {
     "data": {
      "application/vnd.jupyter.widget-view+json": {
       "model_id": "97a02f7001cf4fb9b9a84c2d5c4504ab",
       "version_major": 2,
       "version_minor": 0
      },
      "text/plain": [
       "Epoch 111/350 [STRONG]:   0%|          | 0/391 [00:00<?, ?it/s]"
      ]
     },
     "metadata": {},
     "output_type": "display_data"
    },
    {
     "name": "stdout",
     "output_type": "stream",
     "text": [
      "Epoch [111/350] | Train Loss: 0.4169 | Val Loss: 0.2263 | Val Acc: 94.25% | MixUp α: 0.200\n"
     ]
    },
    {
     "data": {
      "application/vnd.jupyter.widget-view+json": {
       "model_id": "00106115a5604abfaf2e61eda59e78a0",
       "version_major": 2,
       "version_minor": 0
      },
      "text/plain": [
       "Epoch 112/350 [STRONG]:   0%|          | 0/391 [00:00<?, ?it/s]"
      ]
     },
     "metadata": {},
     "output_type": "display_data"
    },
    {
     "name": "stdout",
     "output_type": "stream",
     "text": [
      "Epoch [112/350] | Train Loss: 0.4169 | Val Loss: 0.2278 | Val Acc: 94.23% | MixUp α: 0.200\n"
     ]
    },
    {
     "data": {
      "application/vnd.jupyter.widget-view+json": {
       "model_id": "5dc6cb5e354542b499b68ebd8013f1a2",
       "version_major": 2,
       "version_minor": 0
      },
      "text/plain": [
       "Epoch 113/350 [STRONG]:   0%|          | 0/391 [00:00<?, ?it/s]"
      ]
     },
     "metadata": {},
     "output_type": "display_data"
    },
    {
     "name": "stdout",
     "output_type": "stream",
     "text": [
      "Epoch [113/350] | Train Loss: 0.3941 | Val Loss: 0.2270 | Val Acc: 94.29% | MixUp α: 0.200\n"
     ]
    },
    {
     "data": {
      "application/vnd.jupyter.widget-view+json": {
       "model_id": "ba01c448525e41d699bfa843cde18ee8",
       "version_major": 2,
       "version_minor": 0
      },
      "text/plain": [
       "Epoch 114/350 [STRONG]:   0%|          | 0/391 [00:00<?, ?it/s]"
      ]
     },
     "metadata": {},
     "output_type": "display_data"
    },
    {
     "name": "stdout",
     "output_type": "stream",
     "text": [
      "Epoch [114/350] | Train Loss: 0.4371 | Val Loss: 0.2286 | Val Acc: 94.43% | MixUp α: 0.200\n"
     ]
    },
    {
     "data": {
      "application/vnd.jupyter.widget-view+json": {
       "model_id": "5a15c4728a4b45a98b888dc9a73b4c83",
       "version_major": 2,
       "version_minor": 0
      },
      "text/plain": [
       "Epoch 115/350 [STRONG]:   0%|          | 0/391 [00:00<?, ?it/s]"
      ]
     },
     "metadata": {},
     "output_type": "display_data"
    },
    {
     "name": "stdout",
     "output_type": "stream",
     "text": [
      "Epoch [115/350] | Train Loss: 0.3791 | Val Loss: 0.2266 | Val Acc: 94.33% | MixUp α: 0.200\n"
     ]
    },
    {
     "data": {
      "application/vnd.jupyter.widget-view+json": {
       "model_id": "cea736590469451ca1d16af316a3d569",
       "version_major": 2,
       "version_minor": 0
      },
      "text/plain": [
       "Epoch 116/350 [STRONG]:   0%|          | 0/391 [00:00<?, ?it/s]"
      ]
     },
     "metadata": {},
     "output_type": "display_data"
    },
    {
     "name": "stdout",
     "output_type": "stream",
     "text": [
      "Epoch [116/350] | Train Loss: 0.4328 | Val Loss: 0.2275 | Val Acc: 94.31% | MixUp α: 0.200\n"
     ]
    },
    {
     "data": {
      "application/vnd.jupyter.widget-view+json": {
       "model_id": "b28a33bdc0924871bf36fc40fb7f7075",
       "version_major": 2,
       "version_minor": 0
      },
      "text/plain": [
       "Epoch 117/350 [STRONG]:   0%|          | 0/391 [00:00<?, ?it/s]"
      ]
     },
     "metadata": {},
     "output_type": "display_data"
    },
    {
     "name": "stdout",
     "output_type": "stream",
     "text": [
      "Epoch [117/350] | Train Loss: 0.3949 | Val Loss: 0.2271 | Val Acc: 94.38% | MixUp α: 0.200\n"
     ]
    },
    {
     "data": {
      "application/vnd.jupyter.widget-view+json": {
       "model_id": "fecb494a6dba4fc0b9827216d0914b02",
       "version_major": 2,
       "version_minor": 0
      },
      "text/plain": [
       "Epoch 118/350 [STRONG]:   0%|          | 0/391 [00:00<?, ?it/s]"
      ]
     },
     "metadata": {},
     "output_type": "display_data"
    },
    {
     "name": "stdout",
     "output_type": "stream",
     "text": [
      "Epoch [118/350] | Train Loss: 0.3905 | Val Loss: 0.2264 | Val Acc: 94.42% | MixUp α: 0.200\n"
     ]
    },
    {
     "data": {
      "application/vnd.jupyter.widget-view+json": {
       "model_id": "cf068bece0fc4a5087fd2c406114b110",
       "version_major": 2,
       "version_minor": 0
      },
      "text/plain": [
       "Epoch 119/350 [STRONG]:   0%|          | 0/391 [00:00<?, ?it/s]"
      ]
     },
     "metadata": {},
     "output_type": "display_data"
    },
    {
     "name": "stdout",
     "output_type": "stream",
     "text": [
      "Epoch [119/350] | Train Loss: 0.4290 | Val Loss: 0.2263 | Val Acc: 94.35% | MixUp α: 0.200\n"
     ]
    },
    {
     "data": {
      "application/vnd.jupyter.widget-view+json": {
       "model_id": "52ad35cced594d13852b8bddfc9cefd7",
       "version_major": 2,
       "version_minor": 0
      },
      "text/plain": [
       "Epoch 120/350 [STRONG]:   0%|          | 0/391 [00:00<?, ?it/s]"
      ]
     },
     "metadata": {},
     "output_type": "display_data"
    },
    {
     "name": "stdout",
     "output_type": "stream",
     "text": [
      "Epoch [120/350] | Train Loss: 0.3861 | Val Loss: 0.2247 | Val Acc: 94.32% | MixUp α: 0.200\n"
     ]
    },
    {
     "data": {
      "application/vnd.jupyter.widget-view+json": {
       "model_id": "339ad5a928fd492db1c319f23a07d162",
       "version_major": 2,
       "version_minor": 0
      },
      "text/plain": [
       "Epoch 121/350 [STRONG]:   0%|          | 0/391 [00:00<?, ?it/s]"
      ]
     },
     "metadata": {},
     "output_type": "display_data"
    },
    {
     "name": "stdout",
     "output_type": "stream",
     "text": [
      "Epoch [121/350] | Train Loss: 0.4148 | Val Loss: 0.2252 | Val Acc: 94.39% | MixUp α: 0.200\n"
     ]
    },
    {
     "data": {
      "application/vnd.jupyter.widget-view+json": {
       "model_id": "0b4ec186b1d14c68b4a79ce1e4bfa384",
       "version_major": 2,
       "version_minor": 0
      },
      "text/plain": [
       "Epoch 122/350 [STRONG]:   0%|          | 0/391 [00:00<?, ?it/s]"
      ]
     },
     "metadata": {},
     "output_type": "display_data"
    },
    {
     "name": "stdout",
     "output_type": "stream",
     "text": [
      "Epoch [122/350] | Train Loss: 0.4231 | Val Loss: 0.2262 | Val Acc: 94.39% | MixUp α: 0.200\n"
     ]
    },
    {
     "data": {
      "application/vnd.jupyter.widget-view+json": {
       "model_id": "03232b01fff242088a723ed060df01fc",
       "version_major": 2,
       "version_minor": 0
      },
      "text/plain": [
       "Epoch 123/350 [STRONG]:   0%|          | 0/391 [00:00<?, ?it/s]"
      ]
     },
     "metadata": {},
     "output_type": "display_data"
    },
    {
     "name": "stdout",
     "output_type": "stream",
     "text": [
      "Epoch [123/350] | Train Loss: 0.3807 | Val Loss: 0.2250 | Val Acc: 94.43% | MixUp α: 0.200\n"
     ]
    },
    {
     "data": {
      "application/vnd.jupyter.widget-view+json": {
       "model_id": "88dbd91c47d048d995f6364288cc3e01",
       "version_major": 2,
       "version_minor": 0
      },
      "text/plain": [
       "Epoch 124/350 [STRONG]:   0%|          | 0/391 [00:00<?, ?it/s]"
      ]
     },
     "metadata": {},
     "output_type": "display_data"
    },
    {
     "name": "stdout",
     "output_type": "stream",
     "text": [
      "Epoch [124/350] | Train Loss: 0.3891 | Val Loss: 0.2250 | Val Acc: 94.50% | MixUp α: 0.200\n"
     ]
    },
    {
     "data": {
      "application/vnd.jupyter.widget-view+json": {
       "model_id": "d1bf4234bdbb409681dbe5d19d946374",
       "version_major": 2,
       "version_minor": 0
      },
      "text/plain": [
       "Epoch 125/350 [STRONG]:   0%|          | 0/391 [00:00<?, ?it/s]"
      ]
     },
     "metadata": {},
     "output_type": "display_data"
    },
    {
     "name": "stdout",
     "output_type": "stream",
     "text": [
      "Epoch [125/350] | Train Loss: 0.4076 | Val Loss: 0.2253 | Val Acc: 94.35% | MixUp α: 0.200\n"
     ]
    },
    {
     "data": {
      "application/vnd.jupyter.widget-view+json": {
       "model_id": "3514651f6d7d48c5945e190a5e97717a",
       "version_major": 2,
       "version_minor": 0
      },
      "text/plain": [
       "Epoch 126/350 [STRONG]:   0%|          | 0/391 [00:00<?, ?it/s]"
      ]
     },
     "metadata": {},
     "output_type": "display_data"
    },
    {
     "name": "stdout",
     "output_type": "stream",
     "text": [
      "Epoch [126/350] | Train Loss: 0.4090 | Val Loss: 0.2258 | Val Acc: 94.37% | MixUp α: 0.200\n"
     ]
    },
    {
     "data": {
      "application/vnd.jupyter.widget-view+json": {
       "model_id": "ace589d3143d419aa9337e38f7bb5810",
       "version_major": 2,
       "version_minor": 0
      },
      "text/plain": [
       "Epoch 127/350 [STRONG]:   0%|          | 0/391 [00:00<?, ?it/s]"
      ]
     },
     "metadata": {},
     "output_type": "display_data"
    },
    {
     "name": "stdout",
     "output_type": "stream",
     "text": [
      "Epoch [127/350] | Train Loss: 0.4343 | Val Loss: 0.2267 | Val Acc: 94.45% | MixUp α: 0.200\n"
     ]
    },
    {
     "data": {
      "application/vnd.jupyter.widget-view+json": {
       "model_id": "8acc2653f3ff48d2b5da7bb172106f59",
       "version_major": 2,
       "version_minor": 0
      },
      "text/plain": [
       "Epoch 128/350 [STRONG]:   0%|          | 0/391 [00:00<?, ?it/s]"
      ]
     },
     "metadata": {},
     "output_type": "display_data"
    },
    {
     "name": "stdout",
     "output_type": "stream",
     "text": [
      "Epoch [128/350] | Train Loss: 0.3864 | Val Loss: 0.2257 | Val Acc: 94.38% | MixUp α: 0.200\n"
     ]
    },
    {
     "data": {
      "application/vnd.jupyter.widget-view+json": {
       "model_id": "251ca04ba8594288926e23b26fcfe19a",
       "version_major": 2,
       "version_minor": 0
      },
      "text/plain": [
       "Epoch 129/350 [STRONG]:   0%|          | 0/391 [00:00<?, ?it/s]"
      ]
     },
     "metadata": {},
     "output_type": "display_data"
    },
    {
     "name": "stdout",
     "output_type": "stream",
     "text": [
      "Epoch [129/350] | Train Loss: 0.4213 | Val Loss: 0.2265 | Val Acc: 94.34% | MixUp α: 0.200\n"
     ]
    },
    {
     "data": {
      "application/vnd.jupyter.widget-view+json": {
       "model_id": "a49511b6bbde46b693e056aa57ea4933",
       "version_major": 2,
       "version_minor": 0
      },
      "text/plain": [
       "Epoch 130/350 [STRONG]:   0%|          | 0/391 [00:00<?, ?it/s]"
      ]
     },
     "metadata": {},
     "output_type": "display_data"
    },
    {
     "name": "stdout",
     "output_type": "stream",
     "text": [
      "Epoch [130/350] | Train Loss: 0.4481 | Val Loss: 0.2286 | Val Acc: 94.48% | MixUp α: 0.200\n"
     ]
    },
    {
     "data": {
      "application/vnd.jupyter.widget-view+json": {
       "model_id": "36f312c0c7744de39c8bb3ee32bd53ca",
       "version_major": 2,
       "version_minor": 0
      },
      "text/plain": [
       "Epoch 131/350 [STRONG]:   0%|          | 0/391 [00:00<?, ?it/s]"
      ]
     },
     "metadata": {},
     "output_type": "display_data"
    },
    {
     "name": "stdout",
     "output_type": "stream",
     "text": [
      "Epoch [131/350] | Train Loss: 0.3804 | Val Loss: 0.2265 | Val Acc: 94.48% | MixUp α: 0.200\n"
     ]
    },
    {
     "data": {
      "application/vnd.jupyter.widget-view+json": {
       "model_id": "6ad55e97485444579460315882a33777",
       "version_major": 2,
       "version_minor": 0
      },
      "text/plain": [
       "Epoch 132/350 [STRONG]:   0%|          | 0/391 [00:00<?, ?it/s]"
      ]
     },
     "metadata": {},
     "output_type": "display_data"
    },
    {
     "name": "stdout",
     "output_type": "stream",
     "text": [
      "Epoch [132/350] | Train Loss: 0.4015 | Val Loss: 0.2260 | Val Acc: 94.44% | MixUp α: 0.200\n"
     ]
    },
    {
     "data": {
      "application/vnd.jupyter.widget-view+json": {
       "model_id": "7e9447e016ed451b87ac2512b55a9838",
       "version_major": 2,
       "version_minor": 0
      },
      "text/plain": [
       "Epoch 133/350 [STRONG]:   0%|          | 0/391 [00:00<?, ?it/s]"
      ]
     },
     "metadata": {},
     "output_type": "display_data"
    },
    {
     "name": "stdout",
     "output_type": "stream",
     "text": [
      "Epoch [133/350] | Train Loss: 0.4275 | Val Loss: 0.2269 | Val Acc: 94.45% | MixUp α: 0.200\n"
     ]
    },
    {
     "data": {
      "application/vnd.jupyter.widget-view+json": {
       "model_id": "b96bc01a296643908594785f164f4be2",
       "version_major": 2,
       "version_minor": 0
      },
      "text/plain": [
       "Epoch 134/350 [STRONG]:   0%|          | 0/391 [00:00<?, ?it/s]"
      ]
     },
     "metadata": {},
     "output_type": "display_data"
    },
    {
     "name": "stdout",
     "output_type": "stream",
     "text": [
      "Epoch [134/350] | Train Loss: 0.4022 | Val Loss: 0.2269 | Val Acc: 94.43% | MixUp α: 0.200\n"
     ]
    },
    {
     "data": {
      "application/vnd.jupyter.widget-view+json": {
       "model_id": "76e03844fc5c4071b6f69f66ce212fd8",
       "version_major": 2,
       "version_minor": 0
      },
      "text/plain": [
       "Epoch 135/350 [STRONG]:   0%|          | 0/391 [00:00<?, ?it/s]"
      ]
     },
     "metadata": {},
     "output_type": "display_data"
    },
    {
     "name": "stdout",
     "output_type": "stream",
     "text": [
      "Epoch [135/350] | Train Loss: 0.4581 | Val Loss: 0.2275 | Val Acc: 94.41% | MixUp α: 0.200\n"
     ]
    },
    {
     "data": {
      "application/vnd.jupyter.widget-view+json": {
       "model_id": "53f30b4edd4b4579bbe46498f0d90427",
       "version_major": 2,
       "version_minor": 0
      },
      "text/plain": [
       "Epoch 136/350 [STRONG]:   0%|          | 0/391 [00:00<?, ?it/s]"
      ]
     },
     "metadata": {},
     "output_type": "display_data"
    },
    {
     "name": "stdout",
     "output_type": "stream",
     "text": [
      "Epoch [136/350] | Train Loss: 0.3994 | Val Loss: 0.2266 | Val Acc: 94.30% | MixUp α: 0.200\n"
     ]
    },
    {
     "data": {
      "application/vnd.jupyter.widget-view+json": {
       "model_id": "1a27f8d9e5814ec099cb0709bb4ff5de",
       "version_major": 2,
       "version_minor": 0
      },
      "text/plain": [
       "Epoch 137/350 [STRONG]:   0%|          | 0/391 [00:00<?, ?it/s]"
      ]
     },
     "metadata": {},
     "output_type": "display_data"
    },
    {
     "name": "stdout",
     "output_type": "stream",
     "text": [
      "Epoch [137/350] | Train Loss: 0.3927 | Val Loss: 0.2272 | Val Acc: 94.28% | MixUp α: 0.200\n"
     ]
    },
    {
     "data": {
      "application/vnd.jupyter.widget-view+json": {
       "model_id": "3b6504bf032e4e72bc860fd72790ab06",
       "version_major": 2,
       "version_minor": 0
      },
      "text/plain": [
       "Epoch 138/350 [STRONG]:   0%|          | 0/391 [00:00<?, ?it/s]"
      ]
     },
     "metadata": {},
     "output_type": "display_data"
    },
    {
     "name": "stdout",
     "output_type": "stream",
     "text": [
      "Epoch [138/350] | Train Loss: 0.4009 | Val Loss: 0.2274 | Val Acc: 94.26% | MixUp α: 0.200\n"
     ]
    },
    {
     "data": {
      "application/vnd.jupyter.widget-view+json": {
       "model_id": "044972531e9f4993974109c06431fd5b",
       "version_major": 2,
       "version_minor": 0
      },
      "text/plain": [
       "Epoch 139/350 [STRONG]:   0%|          | 0/391 [00:00<?, ?it/s]"
      ]
     },
     "metadata": {},
     "output_type": "display_data"
    },
    {
     "name": "stdout",
     "output_type": "stream",
     "text": [
      "Epoch [139/350] | Train Loss: 0.3896 | Val Loss: 0.2263 | Val Acc: 94.30% | MixUp α: 0.200\n"
     ]
    },
    {
     "data": {
      "application/vnd.jupyter.widget-view+json": {
       "model_id": "9bd2a15297e846ebb6465cafd42ad4ce",
       "version_major": 2,
       "version_minor": 0
      },
      "text/plain": [
       "Epoch 140/350 [STRONG]:   0%|          | 0/391 [00:00<?, ?it/s]"
      ]
     },
     "metadata": {},
     "output_type": "display_data"
    },
    {
     "name": "stdout",
     "output_type": "stream",
     "text": [
      "Epoch [140/350] | Train Loss: 0.4326 | Val Loss: 0.2271 | Val Acc: 94.34% | MixUp α: 0.200\n"
     ]
    },
    {
     "data": {
      "application/vnd.jupyter.widget-view+json": {
       "model_id": "a71d77ab18dd421db1f3947680c68184",
       "version_major": 2,
       "version_minor": 0
      },
      "text/plain": [
       "Epoch 141/350 [STRONG]:   0%|          | 0/391 [00:00<?, ?it/s]"
      ]
     },
     "metadata": {},
     "output_type": "display_data"
    },
    {
     "name": "stdout",
     "output_type": "stream",
     "text": [
      "Epoch [141/350] | Train Loss: 0.3955 | Val Loss: 0.2275 | Val Acc: 94.21% | MixUp α: 0.200\n"
     ]
    },
    {
     "data": {
      "application/vnd.jupyter.widget-view+json": {
       "model_id": "0537bd4ee78e4eb0b4e44a0c6c16c7c3",
       "version_major": 2,
       "version_minor": 0
      },
      "text/plain": [
       "Epoch 142/350 [STRONG]:   0%|          | 0/391 [00:00<?, ?it/s]"
      ]
     },
     "metadata": {},
     "output_type": "display_data"
    },
    {
     "name": "stdout",
     "output_type": "stream",
     "text": [
      "Epoch [142/350] | Train Loss: 0.4258 | Val Loss: 0.2280 | Val Acc: 94.18% | MixUp α: 0.200\n"
     ]
    },
    {
     "data": {
      "application/vnd.jupyter.widget-view+json": {
       "model_id": "abe10cee2c7448c597fb2e6dd0e170d8",
       "version_major": 2,
       "version_minor": 0
      },
      "text/plain": [
       "Epoch 143/350 [STRONG]:   0%|          | 0/391 [00:00<?, ?it/s]"
      ]
     },
     "metadata": {},
     "output_type": "display_data"
    },
    {
     "name": "stdout",
     "output_type": "stream",
     "text": [
      "Epoch [143/350] | Train Loss: 0.3746 | Val Loss: 0.2265 | Val Acc: 94.25% | MixUp α: 0.200\n"
     ]
    },
    {
     "data": {
      "application/vnd.jupyter.widget-view+json": {
       "model_id": "65ba6b43b26348cc8627ea0542ca8e39",
       "version_major": 2,
       "version_minor": 0
      },
      "text/plain": [
       "Epoch 144/350 [STRONG]:   0%|          | 0/391 [00:00<?, ?it/s]"
      ]
     },
     "metadata": {},
     "output_type": "display_data"
    },
    {
     "name": "stdout",
     "output_type": "stream",
     "text": [
      "Epoch [144/350] | Train Loss: 0.3779 | Val Loss: 0.2245 | Val Acc: 94.38% | MixUp α: 0.200\n"
     ]
    },
    {
     "data": {
      "application/vnd.jupyter.widget-view+json": {
       "model_id": "0c33972076c44bfba6d0533c99d28dc5",
       "version_major": 2,
       "version_minor": 0
      },
      "text/plain": [
       "Epoch 145/350 [STRONG]:   0%|          | 0/391 [00:00<?, ?it/s]"
      ]
     },
     "metadata": {},
     "output_type": "display_data"
    },
    {
     "name": "stdout",
     "output_type": "stream",
     "text": [
      "Epoch [145/350] | Train Loss: 0.3815 | Val Loss: 0.2235 | Val Acc: 94.34% | MixUp α: 0.200\n"
     ]
    },
    {
     "data": {
      "application/vnd.jupyter.widget-view+json": {
       "model_id": "b11d22ef91994968bc6d71f6534ed9b7",
       "version_major": 2,
       "version_minor": 0
      },
      "text/plain": [
       "Epoch 146/350 [STRONG]:   0%|          | 0/391 [00:00<?, ?it/s]"
      ]
     },
     "metadata": {},
     "output_type": "display_data"
    },
    {
     "name": "stdout",
     "output_type": "stream",
     "text": [
      "Epoch [146/350] | Train Loss: 0.3753 | Val Loss: 0.2233 | Val Acc: 94.40% | MixUp α: 0.200\n"
     ]
    },
    {
     "data": {
      "application/vnd.jupyter.widget-view+json": {
       "model_id": "656b8ce4eb3542d0bd976751f6c464bb",
       "version_major": 2,
       "version_minor": 0
      },
      "text/plain": [
       "Epoch 147/350 [STRONG]:   0%|          | 0/391 [00:00<?, ?it/s]"
      ]
     },
     "metadata": {},
     "output_type": "display_data"
    },
    {
     "name": "stdout",
     "output_type": "stream",
     "text": [
      "Epoch [147/350] | Train Loss: 0.4093 | Val Loss: 0.2248 | Val Acc: 94.39% | MixUp α: 0.200\n"
     ]
    },
    {
     "data": {
      "application/vnd.jupyter.widget-view+json": {
       "model_id": "50e00132eed9433caa502c4bdc385b46",
       "version_major": 2,
       "version_minor": 0
      },
      "text/plain": [
       "Epoch 148/350 [STRONG]:   0%|          | 0/391 [00:00<?, ?it/s]"
      ]
     },
     "metadata": {},
     "output_type": "display_data"
    },
    {
     "name": "stdout",
     "output_type": "stream",
     "text": [
      "Epoch [148/350] | Train Loss: 0.3677 | Val Loss: 0.2236 | Val Acc: 94.39% | MixUp α: 0.200\n"
     ]
    },
    {
     "data": {
      "application/vnd.jupyter.widget-view+json": {
       "model_id": "bd9d0ce734704ff6b4a0576ee560855a",
       "version_major": 2,
       "version_minor": 0
      },
      "text/plain": [
       "Epoch 149/350 [STRONG]:   0%|          | 0/391 [00:00<?, ?it/s]"
      ]
     },
     "metadata": {},
     "output_type": "display_data"
    },
    {
     "name": "stdout",
     "output_type": "stream",
     "text": [
      "Epoch [149/350] | Train Loss: 0.4019 | Val Loss: 0.2236 | Val Acc: 94.45% | MixUp α: 0.200\n"
     ]
    },
    {
     "data": {
      "application/vnd.jupyter.widget-view+json": {
       "model_id": "6d5df98ead4841488f393d1d203910ce",
       "version_major": 2,
       "version_minor": 0
      },
      "text/plain": [
       "Epoch 150/350 [STRONG]:   0%|          | 0/391 [00:00<?, ?it/s]"
      ]
     },
     "metadata": {},
     "output_type": "display_data"
    },
    {
     "name": "stdout",
     "output_type": "stream",
     "text": [
      "Epoch [150/350] | Train Loss: 0.4068 | Val Loss: 0.2236 | Val Acc: 94.49% | MixUp α: 0.200\n"
     ]
    },
    {
     "data": {
      "application/vnd.jupyter.widget-view+json": {
       "model_id": "113fc7eb3940490085973df4ac8dddbd",
       "version_major": 2,
       "version_minor": 0
      },
      "text/plain": [
       "Epoch 151/350 [STRONG]:   0%|          | 0/391 [00:00<?, ?it/s]"
      ]
     },
     "metadata": {},
     "output_type": "display_data"
    },
    {
     "name": "stdout",
     "output_type": "stream",
     "text": [
      "Epoch [151/350] | Train Loss: 0.4367 | Val Loss: 0.2247 | Val Acc: 94.42% | MixUp α: 0.200\n"
     ]
    },
    {
     "data": {
      "application/vnd.jupyter.widget-view+json": {
       "model_id": "613da8bd985e4ed3bb1fd84b10e75acc",
       "version_major": 2,
       "version_minor": 0
      },
      "text/plain": [
       "Epoch 152/350 [STRONG]:   0%|          | 0/391 [00:00<?, ?it/s]"
      ]
     },
     "metadata": {},
     "output_type": "display_data"
    },
    {
     "name": "stdout",
     "output_type": "stream",
     "text": [
      "Epoch [152/350] | Train Loss: 0.4480 | Val Loss: 0.2261 | Val Acc: 94.48% | MixUp α: 0.200\n"
     ]
    },
    {
     "data": {
      "application/vnd.jupyter.widget-view+json": {
       "model_id": "5f042ffed8ff4189ae747aca5ef20a74",
       "version_major": 2,
       "version_minor": 0
      },
      "text/plain": [
       "Epoch 153/350 [STRONG]:   0%|          | 0/391 [00:00<?, ?it/s]"
      ]
     },
     "metadata": {},
     "output_type": "display_data"
    },
    {
     "name": "stdout",
     "output_type": "stream",
     "text": [
      "Epoch [153/350] | Train Loss: 0.4024 | Val Loss: 0.2238 | Val Acc: 94.50% | MixUp α: 0.200\n"
     ]
    },
    {
     "data": {
      "application/vnd.jupyter.widget-view+json": {
       "model_id": "34faa82be12747e5a0476158293aea18",
       "version_major": 2,
       "version_minor": 0
      },
      "text/plain": [
       "Epoch 154/350 [STRONG]:   0%|          | 0/391 [00:00<?, ?it/s]"
      ]
     },
     "metadata": {},
     "output_type": "display_data"
    },
    {
     "name": "stdout",
     "output_type": "stream",
     "text": [
      "Epoch [154/350] | Train Loss: 0.3486 | Val Loss: 0.2211 | Val Acc: 94.57% | MixUp α: 0.200\n"
     ]
    },
    {
     "data": {
      "application/vnd.jupyter.widget-view+json": {
       "model_id": "6ca6e4dd29ea4c7ab617ce0f9317ad65",
       "version_major": 2,
       "version_minor": 0
      },
      "text/plain": [
       "Epoch 155/350 [STRONG]:   0%|          | 0/391 [00:00<?, ?it/s]"
      ]
     },
     "metadata": {},
     "output_type": "display_data"
    },
    {
     "name": "stdout",
     "output_type": "stream",
     "text": [
      "Epoch [155/350] | Train Loss: 0.3834 | Val Loss: 0.2205 | Val Acc: 94.57% | MixUp α: 0.200\n"
     ]
    },
    {
     "data": {
      "application/vnd.jupyter.widget-view+json": {
       "model_id": "817acefce91745648b8cd9b6cd650df5",
       "version_major": 2,
       "version_minor": 0
      },
      "text/plain": [
       "Epoch 156/350 [STRONG]:   0%|          | 0/391 [00:00<?, ?it/s]"
      ]
     },
     "metadata": {},
     "output_type": "display_data"
    },
    {
     "name": "stdout",
     "output_type": "stream",
     "text": [
      "Epoch [156/350] | Train Loss: 0.4001 | Val Loss: 0.2205 | Val Acc: 94.46% | MixUp α: 0.200\n"
     ]
    },
    {
     "data": {
      "application/vnd.jupyter.widget-view+json": {
       "model_id": "76701c26b15047b795a29576579b48d8",
       "version_major": 2,
       "version_minor": 0
      },
      "text/plain": [
       "Epoch 157/350 [STRONG]:   0%|          | 0/391 [00:00<?, ?it/s]"
      ]
     },
     "metadata": {},
     "output_type": "display_data"
    },
    {
     "name": "stdout",
     "output_type": "stream",
     "text": [
      "Epoch [157/350] | Train Loss: 0.3960 | Val Loss: 0.2204 | Val Acc: 94.42% | MixUp α: 0.200\n"
     ]
    },
    {
     "data": {
      "application/vnd.jupyter.widget-view+json": {
       "model_id": "8b42886e00674e20969d8766880a20c9",
       "version_major": 2,
       "version_minor": 0
      },
      "text/plain": [
       "Epoch 158/350 [STRONG]:   0%|          | 0/391 [00:00<?, ?it/s]"
      ]
     },
     "metadata": {},
     "output_type": "display_data"
    },
    {
     "name": "stdout",
     "output_type": "stream",
     "text": [
      "Epoch [158/350] | Train Loss: 0.4142 | Val Loss: 0.2200 | Val Acc: 94.54% | MixUp α: 0.200\n"
     ]
    },
    {
     "data": {
      "application/vnd.jupyter.widget-view+json": {
       "model_id": "7435d50b561d4e01847a1248bd95fe59",
       "version_major": 2,
       "version_minor": 0
      },
      "text/plain": [
       "Epoch 159/350 [STRONG]:   0%|          | 0/391 [00:00<?, ?it/s]"
      ]
     },
     "metadata": {},
     "output_type": "display_data"
    },
    {
     "name": "stdout",
     "output_type": "stream",
     "text": [
      "Epoch [159/350] | Train Loss: 0.3813 | Val Loss: 0.2179 | Val Acc: 94.62% | MixUp α: 0.200\n"
     ]
    },
    {
     "data": {
      "application/vnd.jupyter.widget-view+json": {
       "model_id": "29315978eade48ae86abc6f553edb519",
       "version_major": 2,
       "version_minor": 0
      },
      "text/plain": [
       "Epoch 160/350 [STRONG]:   0%|          | 0/391 [00:00<?, ?it/s]"
      ]
     },
     "metadata": {},
     "output_type": "display_data"
    },
    {
     "name": "stdout",
     "output_type": "stream",
     "text": [
      "Epoch [160/350] | Train Loss: 0.4194 | Val Loss: 0.2197 | Val Acc: 94.67% | MixUp α: 0.200\n"
     ]
    },
    {
     "data": {
      "application/vnd.jupyter.widget-view+json": {
       "model_id": "7e2ae252da8a481bb5b078e05e485bf4",
       "version_major": 2,
       "version_minor": 0
      },
      "text/plain": [
       "Epoch 161/350 [STRONG]:   0%|          | 0/391 [00:00<?, ?it/s]"
      ]
     },
     "metadata": {},
     "output_type": "display_data"
    },
    {
     "name": "stdout",
     "output_type": "stream",
     "text": [
      "Epoch [161/350] | Train Loss: 0.3718 | Val Loss: 0.2185 | Val Acc: 94.63% | MixUp α: 0.200\n"
     ]
    },
    {
     "data": {
      "application/vnd.jupyter.widget-view+json": {
       "model_id": "2d21823561da4020aed040f4ebc9f7a0",
       "version_major": 2,
       "version_minor": 0
      },
      "text/plain": [
       "Epoch 162/350 [STRONG]:   0%|          | 0/391 [00:00<?, ?it/s]"
      ]
     },
     "metadata": {},
     "output_type": "display_data"
    },
    {
     "name": "stdout",
     "output_type": "stream",
     "text": [
      "Epoch [162/350] | Train Loss: 0.4178 | Val Loss: 0.2202 | Val Acc: 94.58% | MixUp α: 0.200\n"
     ]
    },
    {
     "data": {
      "application/vnd.jupyter.widget-view+json": {
       "model_id": "3edb54c7b7644a9f9c6a7751313607a8",
       "version_major": 2,
       "version_minor": 0
      },
      "text/plain": [
       "Epoch 163/350 [STRONG]:   0%|          | 0/391 [00:00<?, ?it/s]"
      ]
     },
     "metadata": {},
     "output_type": "display_data"
    },
    {
     "name": "stdout",
     "output_type": "stream",
     "text": [
      "Epoch [163/350] | Train Loss: 0.3909 | Val Loss: 0.2204 | Val Acc: 94.54% | MixUp α: 0.200\n"
     ]
    },
    {
     "data": {
      "application/vnd.jupyter.widget-view+json": {
       "model_id": "3b749c68213048eea32cb04faa51126e",
       "version_major": 2,
       "version_minor": 0
      },
      "text/plain": [
       "Epoch 164/350 [STRONG]:   0%|          | 0/391 [00:00<?, ?it/s]"
      ]
     },
     "metadata": {},
     "output_type": "display_data"
    },
    {
     "name": "stdout",
     "output_type": "stream",
     "text": [
      "Epoch [164/350] | Train Loss: 0.3429 | Val Loss: 0.2195 | Val Acc: 94.60% | MixUp α: 0.200\n"
     ]
    },
    {
     "data": {
      "application/vnd.jupyter.widget-view+json": {
       "model_id": "60ca6749b68743d7a580ba9ce469a6d5",
       "version_major": 2,
       "version_minor": 0
      },
      "text/plain": [
       "Epoch 165/350 [STRONG]:   0%|          | 0/391 [00:00<?, ?it/s]"
      ]
     },
     "metadata": {},
     "output_type": "display_data"
    },
    {
     "name": "stdout",
     "output_type": "stream",
     "text": [
      "Epoch [165/350] | Train Loss: 0.3669 | Val Loss: 0.2187 | Val Acc: 94.64% | MixUp α: 0.200\n"
     ]
    },
    {
     "data": {
      "application/vnd.jupyter.widget-view+json": {
       "model_id": "ad92168658274b62be8e4ca3e773ced0",
       "version_major": 2,
       "version_minor": 0
      },
      "text/plain": [
       "Epoch 166/350 [STRONG]:   0%|          | 0/391 [00:00<?, ?it/s]"
      ]
     },
     "metadata": {},
     "output_type": "display_data"
    },
    {
     "name": "stdout",
     "output_type": "stream",
     "text": [
      "Epoch [166/350] | Train Loss: 0.4081 | Val Loss: 0.2207 | Val Acc: 94.53% | MixUp α: 0.200\n"
     ]
    },
    {
     "data": {
      "application/vnd.jupyter.widget-view+json": {
       "model_id": "eaea4339252240bfb928e389b9835e5d",
       "version_major": 2,
       "version_minor": 0
      },
      "text/plain": [
       "Epoch 167/350 [STRONG]:   0%|          | 0/391 [00:00<?, ?it/s]"
      ]
     },
     "metadata": {},
     "output_type": "display_data"
    },
    {
     "name": "stdout",
     "output_type": "stream",
     "text": [
      "Epoch [167/350] | Train Loss: 0.3843 | Val Loss: 0.2207 | Val Acc: 94.54% | MixUp α: 0.200\n"
     ]
    },
    {
     "data": {
      "application/vnd.jupyter.widget-view+json": {
       "model_id": "63b9f20a24af4ce2b5d848b712e426b0",
       "version_major": 2,
       "version_minor": 0
      },
      "text/plain": [
       "Epoch 168/350 [STRONG]:   0%|          | 0/391 [00:00<?, ?it/s]"
      ]
     },
     "metadata": {},
     "output_type": "display_data"
    },
    {
     "name": "stdout",
     "output_type": "stream",
     "text": [
      "Epoch [168/350] | Train Loss: 0.3140 | Val Loss: 0.2179 | Val Acc: 94.46% | MixUp α: 0.200\n"
     ]
    },
    {
     "data": {
      "application/vnd.jupyter.widget-view+json": {
       "model_id": "8dd37fc4705b44c6b2cee15244992b2e",
       "version_major": 2,
       "version_minor": 0
      },
      "text/plain": [
       "Epoch 169/350 [STRONG]:   0%|          | 0/391 [00:00<?, ?it/s]"
      ]
     },
     "metadata": {},
     "output_type": "display_data"
    },
    {
     "name": "stdout",
     "output_type": "stream",
     "text": [
      "Epoch [169/350] | Train Loss: 0.3938 | Val Loss: 0.2204 | Val Acc: 94.46% | MixUp α: 0.200\n"
     ]
    },
    {
     "data": {
      "application/vnd.jupyter.widget-view+json": {
       "model_id": "8c79c2b4ef5b4f679653634ef75110d1",
       "version_major": 2,
       "version_minor": 0
      },
      "text/plain": [
       "Epoch 170/350 [STRONG]:   0%|          | 0/391 [00:00<?, ?it/s]"
      ]
     },
     "metadata": {},
     "output_type": "display_data"
    },
    {
     "name": "stdout",
     "output_type": "stream",
     "text": [
      "Epoch [170/350] | Train Loss: 0.3602 | Val Loss: 0.2200 | Val Acc: 94.54% | MixUp α: 0.200\n"
     ]
    },
    {
     "data": {
      "application/vnd.jupyter.widget-view+json": {
       "model_id": "1790c779c123497db045501fd16230f4",
       "version_major": 2,
       "version_minor": 0
      },
      "text/plain": [
       "Epoch 171/350 [STRONG]:   0%|          | 0/391 [00:00<?, ?it/s]"
      ]
     },
     "metadata": {},
     "output_type": "display_data"
    },
    {
     "name": "stdout",
     "output_type": "stream",
     "text": [
      "Epoch [171/350] | Train Loss: 0.3509 | Val Loss: 0.2188 | Val Acc: 94.47% | MixUp α: 0.200\n"
     ]
    },
    {
     "data": {
      "application/vnd.jupyter.widget-view+json": {
       "model_id": "db9a31abe7ff4ed5a9040484914f553b",
       "version_major": 2,
       "version_minor": 0
      },
      "text/plain": [
       "Epoch 172/350 [STRONG]:   0%|          | 0/391 [00:00<?, ?it/s]"
      ]
     },
     "metadata": {},
     "output_type": "display_data"
    },
    {
     "name": "stdout",
     "output_type": "stream",
     "text": [
      "Epoch [172/350] | Train Loss: 0.3961 | Val Loss: 0.2184 | Val Acc: 94.54% | MixUp α: 0.200\n"
     ]
    },
    {
     "data": {
      "application/vnd.jupyter.widget-view+json": {
       "model_id": "6770ace55b9f4d14bf68c8dd1689781e",
       "version_major": 2,
       "version_minor": 0
      },
      "text/plain": [
       "Epoch 173/350 [STRONG]:   0%|          | 0/391 [00:00<?, ?it/s]"
      ]
     },
     "metadata": {},
     "output_type": "display_data"
    },
    {
     "name": "stdout",
     "output_type": "stream",
     "text": [
      "Epoch [173/350] | Train Loss: 0.3845 | Val Loss: 0.2192 | Val Acc: 94.55% | MixUp α: 0.200\n"
     ]
    },
    {
     "data": {
      "application/vnd.jupyter.widget-view+json": {
       "model_id": "54d240c5946f4111be23989944cac35e",
       "version_major": 2,
       "version_minor": 0
      },
      "text/plain": [
       "Epoch 174/350 [STRONG]:   0%|          | 0/391 [00:00<?, ?it/s]"
      ]
     },
     "metadata": {},
     "output_type": "display_data"
    },
    {
     "name": "stdout",
     "output_type": "stream",
     "text": [
      "Epoch [174/350] | Train Loss: 0.3797 | Val Loss: 0.2192 | Val Acc: 94.45% | MixUp α: 0.200\n"
     ]
    },
    {
     "data": {
      "application/vnd.jupyter.widget-view+json": {
       "model_id": "8f5079992890400aa8ede0ee1fbf6ded",
       "version_major": 2,
       "version_minor": 0
      },
      "text/plain": [
       "Epoch 175/350 [STRONG]:   0%|          | 0/391 [00:00<?, ?it/s]"
      ]
     },
     "metadata": {},
     "output_type": "display_data"
    },
    {
     "name": "stdout",
     "output_type": "stream",
     "text": [
      "Epoch [175/350] | Train Loss: 0.3958 | Val Loss: 0.2197 | Val Acc: 94.42% | MixUp α: 0.200\n"
     ]
    },
    {
     "data": {
      "application/vnd.jupyter.widget-view+json": {
       "model_id": "dc022a3c2f5b4ea38541dc2b553c921b",
       "version_major": 2,
       "version_minor": 0
      },
      "text/plain": [
       "Epoch 176/350 [STRONG]:   0%|          | 0/391 [00:00<?, ?it/s]"
      ]
     },
     "metadata": {},
     "output_type": "display_data"
    },
    {
     "name": "stdout",
     "output_type": "stream",
     "text": [
      "Epoch [176/350] | Train Loss: 0.3681 | Val Loss: 0.2191 | Val Acc: 94.45% | MixUp α: 0.200\n"
     ]
    },
    {
     "data": {
      "application/vnd.jupyter.widget-view+json": {
       "model_id": "52c20aa0b9c248e688ea8ea81b54837c",
       "version_major": 2,
       "version_minor": 0
      },
      "text/plain": [
       "Epoch 177/350 [STRONG]:   0%|          | 0/391 [00:00<?, ?it/s]"
      ]
     },
     "metadata": {},
     "output_type": "display_data"
    },
    {
     "name": "stdout",
     "output_type": "stream",
     "text": [
      "Epoch [177/350] | Train Loss: 0.3537 | Val Loss: 0.2175 | Val Acc: 94.39% | MixUp α: 0.200\n"
     ]
    },
    {
     "data": {
      "application/vnd.jupyter.widget-view+json": {
       "model_id": "fd49201a1e154cf59907c22a72ef2e52",
       "version_major": 2,
       "version_minor": 0
      },
      "text/plain": [
       "Epoch 178/350 [STRONG]:   0%|          | 0/391 [00:00<?, ?it/s]"
      ]
     },
     "metadata": {},
     "output_type": "display_data"
    },
    {
     "name": "stdout",
     "output_type": "stream",
     "text": [
      "Epoch [178/350] | Train Loss: 0.3837 | Val Loss: 0.2174 | Val Acc: 94.44% | MixUp α: 0.200\n"
     ]
    },
    {
     "data": {
      "application/vnd.jupyter.widget-view+json": {
       "model_id": "6d4fd110b4484b0e9fc6df4aab9ec1db",
       "version_major": 2,
       "version_minor": 0
      },
      "text/plain": [
       "Epoch 179/350 [STRONG]:   0%|          | 0/391 [00:00<?, ?it/s]"
      ]
     },
     "metadata": {},
     "output_type": "display_data"
    },
    {
     "name": "stdout",
     "output_type": "stream",
     "text": [
      "Epoch [179/350] | Train Loss: 0.3874 | Val Loss: 0.2177 | Val Acc: 94.47% | MixUp α: 0.200\n"
     ]
    },
    {
     "data": {
      "application/vnd.jupyter.widget-view+json": {
       "model_id": "335b483bc9a041c990af261b89ba618f",
       "version_major": 2,
       "version_minor": 0
      },
      "text/plain": [
       "Epoch 180/350 [STRONG]:   0%|          | 0/391 [00:00<?, ?it/s]"
      ]
     },
     "metadata": {},
     "output_type": "display_data"
    },
    {
     "name": "stdout",
     "output_type": "stream",
     "text": [
      "Epoch [180/350] | Train Loss: 0.3763 | Val Loss: 0.2167 | Val Acc: 94.59% | MixUp α: 0.200\n"
     ]
    },
    {
     "data": {
      "application/vnd.jupyter.widget-view+json": {
       "model_id": "19c30b6ec0b54358be0c430b1b421cab",
       "version_major": 2,
       "version_minor": 0
      },
      "text/plain": [
       "Epoch 181/350 [STRONG]:   0%|          | 0/391 [00:00<?, ?it/s]"
      ]
     },
     "metadata": {},
     "output_type": "display_data"
    },
    {
     "name": "stdout",
     "output_type": "stream",
     "text": [
      "Epoch [181/350] | Train Loss: 0.3742 | Val Loss: 0.2178 | Val Acc: 94.56% | MixUp α: 0.200\n"
     ]
    },
    {
     "data": {
      "application/vnd.jupyter.widget-view+json": {
       "model_id": "a040287a301549a1aba60cc725b1674c",
       "version_major": 2,
       "version_minor": 0
      },
      "text/plain": [
       "Epoch 182/350 [STRONG]:   0%|          | 0/391 [00:00<?, ?it/s]"
      ]
     },
     "metadata": {},
     "output_type": "display_data"
    },
    {
     "name": "stdout",
     "output_type": "stream",
     "text": [
      "Epoch [182/350] | Train Loss: 0.3867 | Val Loss: 0.2182 | Val Acc: 94.57% | MixUp α: 0.200\n"
     ]
    },
    {
     "data": {
      "application/vnd.jupyter.widget-view+json": {
       "model_id": "0a41527c05164781babe8e2afde95155",
       "version_major": 2,
       "version_minor": 0
      },
      "text/plain": [
       "Epoch 183/350 [STRONG]:   0%|          | 0/391 [00:00<?, ?it/s]"
      ]
     },
     "metadata": {},
     "output_type": "display_data"
    },
    {
     "name": "stdout",
     "output_type": "stream",
     "text": [
      "Epoch [183/350] | Train Loss: 0.3877 | Val Loss: 0.2185 | Val Acc: 94.50% | MixUp α: 0.200\n"
     ]
    },
    {
     "data": {
      "application/vnd.jupyter.widget-view+json": {
       "model_id": "50845d3fbf56406791847e15a8da2f81",
       "version_major": 2,
       "version_minor": 0
      },
      "text/plain": [
       "Epoch 184/350 [STRONG]:   0%|          | 0/391 [00:00<?, ?it/s]"
      ]
     },
     "metadata": {},
     "output_type": "display_data"
    },
    {
     "name": "stdout",
     "output_type": "stream",
     "text": [
      "Epoch [184/350] | Train Loss: 0.3875 | Val Loss: 0.2178 | Val Acc: 94.54% | MixUp α: 0.200\n"
     ]
    },
    {
     "data": {
      "application/vnd.jupyter.widget-view+json": {
       "model_id": "437e05cfdbcc4b68925688731d1161c2",
       "version_major": 2,
       "version_minor": 0
      },
      "text/plain": [
       "Epoch 185/350 [STRONG]:   0%|          | 0/391 [00:00<?, ?it/s]"
      ]
     },
     "metadata": {},
     "output_type": "display_data"
    },
    {
     "name": "stdout",
     "output_type": "stream",
     "text": [
      "Epoch [185/350] | Train Loss: 0.3907 | Val Loss: 0.2180 | Val Acc: 94.48% | MixUp α: 0.200\n"
     ]
    },
    {
     "data": {
      "application/vnd.jupyter.widget-view+json": {
       "model_id": "8c7fc254a20040f9b955e7582b76b889",
       "version_major": 2,
       "version_minor": 0
      },
      "text/plain": [
       "Epoch 186/350 [STRONG]:   0%|          | 0/391 [00:00<?, ?it/s]"
      ]
     },
     "metadata": {},
     "output_type": "display_data"
    },
    {
     "name": "stdout",
     "output_type": "stream",
     "text": [
      "Epoch [186/350] | Train Loss: 0.3728 | Val Loss: 0.2165 | Val Acc: 94.57% | MixUp α: 0.200\n"
     ]
    },
    {
     "data": {
      "application/vnd.jupyter.widget-view+json": {
       "model_id": "06386049ca0749bba2118b1bdddb98fb",
       "version_major": 2,
       "version_minor": 0
      },
      "text/plain": [
       "Epoch 187/350 [STRONG]:   0%|          | 0/391 [00:00<?, ?it/s]"
      ]
     },
     "metadata": {},
     "output_type": "display_data"
    },
    {
     "name": "stdout",
     "output_type": "stream",
     "text": [
      "Epoch [187/350] | Train Loss: 0.3756 | Val Loss: 0.2182 | Val Acc: 94.47% | MixUp α: 0.200\n"
     ]
    },
    {
     "data": {
      "application/vnd.jupyter.widget-view+json": {
       "model_id": "13531be4a5624ed8a8e61233b1ef5d4e",
       "version_major": 2,
       "version_minor": 0
      },
      "text/plain": [
       "Epoch 188/350 [STRONG]:   0%|          | 0/391 [00:00<?, ?it/s]"
      ]
     },
     "metadata": {},
     "output_type": "display_data"
    },
    {
     "name": "stdout",
     "output_type": "stream",
     "text": [
      "Epoch [188/350] | Train Loss: 0.4028 | Val Loss: 0.2188 | Val Acc: 94.58% | MixUp α: 0.200\n"
     ]
    },
    {
     "data": {
      "application/vnd.jupyter.widget-view+json": {
       "model_id": "b0dc9fab23614d8e94283670d4199d2e",
       "version_major": 2,
       "version_minor": 0
      },
      "text/plain": [
       "Epoch 189/350 [STRONG]:   0%|          | 0/391 [00:00<?, ?it/s]"
      ]
     },
     "metadata": {},
     "output_type": "display_data"
    },
    {
     "name": "stdout",
     "output_type": "stream",
     "text": [
      "Epoch [189/350] | Train Loss: 0.3864 | Val Loss: 0.2181 | Val Acc: 94.60% | MixUp α: 0.200\n"
     ]
    },
    {
     "data": {
      "application/vnd.jupyter.widget-view+json": {
       "model_id": "a3d857c24245419dbcc5c7df3f6238bc",
       "version_major": 2,
       "version_minor": 0
      },
      "text/plain": [
       "Epoch 190/350 [STRONG]:   0%|          | 0/391 [00:00<?, ?it/s]"
      ]
     },
     "metadata": {},
     "output_type": "display_data"
    },
    {
     "name": "stdout",
     "output_type": "stream",
     "text": [
      "Epoch [190/350] | Train Loss: 0.3847 | Val Loss: 0.2174 | Val Acc: 94.64% | MixUp α: 0.200\n"
     ]
    },
    {
     "data": {
      "application/vnd.jupyter.widget-view+json": {
       "model_id": "1124ffb761b545e2a041d93d6cf91f56",
       "version_major": 2,
       "version_minor": 0
      },
      "text/plain": [
       "Epoch 191/350 [STRONG]:   0%|          | 0/391 [00:00<?, ?it/s]"
      ]
     },
     "metadata": {},
     "output_type": "display_data"
    },
    {
     "name": "stdout",
     "output_type": "stream",
     "text": [
      "Epoch [191/350] | Train Loss: 0.3468 | Val Loss: 0.2164 | Val Acc: 94.66% | MixUp α: 0.200\n"
     ]
    },
    {
     "data": {
      "application/vnd.jupyter.widget-view+json": {
       "model_id": "de2ef55f979c404bbb98bf8e133d8afa",
       "version_major": 2,
       "version_minor": 0
      },
      "text/plain": [
       "Epoch 192/350 [STRONG]:   0%|          | 0/391 [00:00<?, ?it/s]"
      ]
     },
     "metadata": {},
     "output_type": "display_data"
    },
    {
     "name": "stdout",
     "output_type": "stream",
     "text": [
      "Epoch [192/350] | Train Loss: 0.4004 | Val Loss: 0.2187 | Val Acc: 94.54% | MixUp α: 0.200\n"
     ]
    },
    {
     "data": {
      "application/vnd.jupyter.widget-view+json": {
       "model_id": "43bdbe0c1d474f0fac1e006b27a30a42",
       "version_major": 2,
       "version_minor": 0
      },
      "text/plain": [
       "Epoch 193/350 [STRONG]:   0%|          | 0/391 [00:00<?, ?it/s]"
      ]
     },
     "metadata": {},
     "output_type": "display_data"
    },
    {
     "name": "stderr",
     "output_type": "stream",
     "text": [
      "Exception ignored in: <bound method IPythonKernel._clean_thread_parent_frames of <ipykernel.ipkernel.IPythonKernel object at 0x000002DC0EEA69E0>>\n",
      "Traceback (most recent call last):\n",
      "  File \"C:\\Users\\zelkh\\research\\lib\\site-packages\\ipykernel\\ipkernel.py\", line 781, in _clean_thread_parent_frames\n",
      "    def _clean_thread_parent_frames(\n",
      "KeyboardInterrupt: \n"
     ]
    },
    {
     "ename": "KeyboardInterrupt",
     "evalue": "",
     "output_type": "error",
     "traceback": [
      "\u001b[1;31m---------------------------------------------------------------------------\u001b[0m",
      "\u001b[1;31mKeyboardInterrupt\u001b[0m                         Traceback (most recent call last)",
      "Cell \u001b[1;32mIn[10], line 362\u001b[0m\n\u001b[0;32m    360\u001b[0m scaler\u001b[38;5;241m.\u001b[39mscale(loss)\u001b[38;5;241m.\u001b[39mbackward()\n\u001b[0;32m    361\u001b[0m \u001b[38;5;66;03m# (No grad clipping here; remove cap for higher ceiling)\u001b[39;00m\n\u001b[1;32m--> 362\u001b[0m \u001b[43mscaler\u001b[49m\u001b[38;5;241;43m.\u001b[39;49m\u001b[43mstep\u001b[49m\u001b[43m(\u001b[49m\u001b[43moptimizer\u001b[49m\u001b[43m)\u001b[49m\n\u001b[0;32m    363\u001b[0m scaler\u001b[38;5;241m.\u001b[39mupdate()\n\u001b[0;32m    365\u001b[0m ema\u001b[38;5;241m.\u001b[39mupdate(model)\n",
      "File \u001b[1;32m~\\research\\lib\\site-packages\\torch\\amp\\grad_scaler.py:457\u001b[0m, in \u001b[0;36mGradScaler.step\u001b[1;34m(self, optimizer, *args, **kwargs)\u001b[0m\n\u001b[0;32m    451\u001b[0m     \u001b[38;5;28mself\u001b[39m\u001b[38;5;241m.\u001b[39munscale_(optimizer)\n\u001b[0;32m    453\u001b[0m \u001b[38;5;28;01massert\u001b[39;00m (\n\u001b[0;32m    454\u001b[0m     \u001b[38;5;28mlen\u001b[39m(optimizer_state[\u001b[38;5;124m\"\u001b[39m\u001b[38;5;124mfound_inf_per_device\u001b[39m\u001b[38;5;124m\"\u001b[39m]) \u001b[38;5;241m>\u001b[39m \u001b[38;5;241m0\u001b[39m\n\u001b[0;32m    455\u001b[0m ), \u001b[38;5;124m\"\u001b[39m\u001b[38;5;124mNo inf checks were recorded for this optimizer.\u001b[39m\u001b[38;5;124m\"\u001b[39m\n\u001b[1;32m--> 457\u001b[0m retval \u001b[38;5;241m=\u001b[39m \u001b[38;5;28mself\u001b[39m\u001b[38;5;241m.\u001b[39m_maybe_opt_step(optimizer, optimizer_state, \u001b[38;5;241m*\u001b[39margs, \u001b[38;5;241m*\u001b[39m\u001b[38;5;241m*\u001b[39mkwargs)\n\u001b[0;32m    459\u001b[0m optimizer_state[\u001b[38;5;124m\"\u001b[39m\u001b[38;5;124mstage\u001b[39m\u001b[38;5;124m\"\u001b[39m] \u001b[38;5;241m=\u001b[39m OptState\u001b[38;5;241m.\u001b[39mSTEPPED\n\u001b[0;32m    461\u001b[0m \u001b[38;5;28;01mreturn\u001b[39;00m retval\n",
      "File \u001b[1;32m~\\research\\lib\\site-packages\\torch\\amp\\grad_scaler.py:351\u001b[0m, in \u001b[0;36mGradScaler._maybe_opt_step\u001b[1;34m(self, optimizer, optimizer_state, *args, **kwargs)\u001b[0m\n\u001b[0;32m    343\u001b[0m \u001b[38;5;28;01mdef\u001b[39;00m\u001b[38;5;250m \u001b[39m\u001b[38;5;21m_maybe_opt_step\u001b[39m(\n\u001b[0;32m    344\u001b[0m     \u001b[38;5;28mself\u001b[39m,\n\u001b[0;32m    345\u001b[0m     optimizer: torch\u001b[38;5;241m.\u001b[39moptim\u001b[38;5;241m.\u001b[39mOptimizer,\n\u001b[1;32m   (...)\u001b[0m\n\u001b[0;32m    348\u001b[0m     \u001b[38;5;241m*\u001b[39m\u001b[38;5;241m*\u001b[39mkwargs: Any,\n\u001b[0;32m    349\u001b[0m ) \u001b[38;5;241m-\u001b[39m\u001b[38;5;241m>\u001b[39m Optional[\u001b[38;5;28mfloat\u001b[39m]:\n\u001b[0;32m    350\u001b[0m     retval: Optional[\u001b[38;5;28mfloat\u001b[39m] \u001b[38;5;241m=\u001b[39m \u001b[38;5;28;01mNone\u001b[39;00m\n\u001b[1;32m--> 351\u001b[0m     \u001b[38;5;28;01mif\u001b[39;00m \u001b[38;5;129;01mnot\u001b[39;00m \u001b[38;5;28;43msum\u001b[39;49m\u001b[43m(\u001b[49m\u001b[43mv\u001b[49m\u001b[38;5;241;43m.\u001b[39;49m\u001b[43mitem\u001b[49m\u001b[43m(\u001b[49m\u001b[43m)\u001b[49m\u001b[43m \u001b[49m\u001b[38;5;28;43;01mfor\u001b[39;49;00m\u001b[43m \u001b[49m\u001b[43mv\u001b[49m\u001b[43m \u001b[49m\u001b[38;5;129;43;01min\u001b[39;49;00m\u001b[43m \u001b[49m\u001b[43moptimizer_state\u001b[49m\u001b[43m[\u001b[49m\u001b[38;5;124;43m\"\u001b[39;49m\u001b[38;5;124;43mfound_inf_per_device\u001b[39;49m\u001b[38;5;124;43m\"\u001b[39;49m\u001b[43m]\u001b[49m\u001b[38;5;241;43m.\u001b[39;49m\u001b[43mvalues\u001b[49m\u001b[43m(\u001b[49m\u001b[43m)\u001b[49m\u001b[43m)\u001b[49m:\n\u001b[0;32m    352\u001b[0m         retval \u001b[38;5;241m=\u001b[39m optimizer\u001b[38;5;241m.\u001b[39mstep(\u001b[38;5;241m*\u001b[39margs, \u001b[38;5;241m*\u001b[39m\u001b[38;5;241m*\u001b[39mkwargs)\n\u001b[0;32m    353\u001b[0m     \u001b[38;5;28;01mreturn\u001b[39;00m retval\n",
      "File \u001b[1;32m~\\research\\lib\\site-packages\\torch\\amp\\grad_scaler.py:351\u001b[0m, in \u001b[0;36m<genexpr>\u001b[1;34m(.0)\u001b[0m\n\u001b[0;32m    343\u001b[0m \u001b[38;5;28;01mdef\u001b[39;00m\u001b[38;5;250m \u001b[39m\u001b[38;5;21m_maybe_opt_step\u001b[39m(\n\u001b[0;32m    344\u001b[0m     \u001b[38;5;28mself\u001b[39m,\n\u001b[0;32m    345\u001b[0m     optimizer: torch\u001b[38;5;241m.\u001b[39moptim\u001b[38;5;241m.\u001b[39mOptimizer,\n\u001b[1;32m   (...)\u001b[0m\n\u001b[0;32m    348\u001b[0m     \u001b[38;5;241m*\u001b[39m\u001b[38;5;241m*\u001b[39mkwargs: Any,\n\u001b[0;32m    349\u001b[0m ) \u001b[38;5;241m-\u001b[39m\u001b[38;5;241m>\u001b[39m Optional[\u001b[38;5;28mfloat\u001b[39m]:\n\u001b[0;32m    350\u001b[0m     retval: Optional[\u001b[38;5;28mfloat\u001b[39m] \u001b[38;5;241m=\u001b[39m \u001b[38;5;28;01mNone\u001b[39;00m\n\u001b[1;32m--> 351\u001b[0m     \u001b[38;5;28;01mif\u001b[39;00m \u001b[38;5;129;01mnot\u001b[39;00m \u001b[38;5;28msum\u001b[39m(\u001b[43mv\u001b[49m\u001b[38;5;241;43m.\u001b[39;49m\u001b[43mitem\u001b[49m\u001b[43m(\u001b[49m\u001b[43m)\u001b[49m \u001b[38;5;28;01mfor\u001b[39;00m v \u001b[38;5;129;01min\u001b[39;00m optimizer_state[\u001b[38;5;124m\"\u001b[39m\u001b[38;5;124mfound_inf_per_device\u001b[39m\u001b[38;5;124m\"\u001b[39m]\u001b[38;5;241m.\u001b[39mvalues()):\n\u001b[0;32m    352\u001b[0m         retval \u001b[38;5;241m=\u001b[39m optimizer\u001b[38;5;241m.\u001b[39mstep(\u001b[38;5;241m*\u001b[39margs, \u001b[38;5;241m*\u001b[39m\u001b[38;5;241m*\u001b[39mkwargs)\n\u001b[0;32m    353\u001b[0m     \u001b[38;5;28;01mreturn\u001b[39;00m retval\n",
      "\u001b[1;31mKeyboardInterrupt\u001b[0m: "
     ]
    }
   ],
   "source": [
    "# CIFAR-10 | PreAct-ResNet-18 + Polynomial Softplus (deg-4)\n",
    "# Option B: AdamW + cosine, aug schedule (light→strong→light), MixUp ramp→off, EMA, AMP, BN calibration\n",
    "\n",
    "import os, math, copy, random\n",
    "from dataclasses import dataclass\n",
    "\n",
    "import torch\n",
    "import torch.nn as nn\n",
    "import torch.optim as optim\n",
    "import torchvision\n",
    "import torchvision.transforms as transforms\n",
    "from torch.optim.lr_scheduler import CosineAnnealingLR\n",
    "from tqdm.auto import tqdm\n",
    "\n",
    "# =========================\n",
    "# Config\n",
    "# =========================\n",
    "@dataclass\n",
    "class CFG:\n",
    "    epochs: int = 350\n",
    "    batch_size: int = 128\n",
    "    lr: float = 1e-3\n",
    "    weight_decay: float = 3e-4\n",
    "    momentum: float = 0.9\n",
    "    amp: bool = torch.cuda.is_available()\n",
    "\n",
    "    # polynomial activation clamp\n",
    "    act_clip: float = 4.5  # tighter than 6.0 to reduce approx error\n",
    "\n",
    "    # augmentation schedule\n",
    "    phase1_epochs: int = 20      # LIGHT aug (no MixUp)\n",
    "    phase3_ratio: float = 0.10   # last 10% epochs LIGHT aug again\n",
    "    mixup_target_alpha: float = 0.2\n",
    "    mixup_ramp_epochs: int = 5   # ramp 0 -> target at start of phase 2\n",
    "\n",
    "    # EMA\n",
    "    ema_decay: float = 0.999\n",
    "\n",
    "    # saving\n",
    "    save_std: str = \"resnet_polyB_last.pth\"\n",
    "    save_ema: str = \"resnet_polyB_ema.pth\"\n",
    "\n",
    "    seed: int = 42\n",
    "\n",
    "cfg = CFG()\n",
    "\n",
    "# =========================\n",
    "# Repro & device\n",
    "# =========================\n",
    "def set_seed(s=42):\n",
    "    random.seed(s); torch.manual_seed(s); torch.cuda.manual_seed_all(s)\n",
    "set_seed(cfg.seed)\n",
    "\n",
    "device = torch.device(\"cuda\" if torch.cuda.is_available() else \"cpu\")\n",
    "pin_mem = torch.cuda.is_available()\n",
    "torch.backends.cudnn.benchmark = True\n",
    "\n",
    "# =========================\n",
    "# Data (light & strong pipelines)\n",
    "# =========================\n",
    "# LIGHT aug (start + end)\n",
    "transform_train_light = transforms.Compose([\n",
    "    transforms.RandomCrop(32, padding=4),\n",
    "    transforms.RandomHorizontalFlip(),\n",
    "    transforms.ToTensor(),\n",
    "    transforms.Normalize((0.4914,0.4822,0.4465),\n",
    "                         (0.2023,0.1994,0.2010)),\n",
    "])\n",
    "\n",
    "# STRONG aug (middle)\n",
    "try:\n",
    "    from torchvision.transforms import TrivialAugmentWide\n",
    "    strong_policy = [TrivialAugmentWide()]\n",
    "except Exception:\n",
    "    strong_policy = []  # fallback cleanly if not available\n",
    "\n",
    "transform_train_strong = transforms.Compose([\n",
    "    transforms.RandomCrop(32, padding=4),\n",
    "    transforms.RandomHorizontalFlip(),\n",
    "    *strong_policy,\n",
    "    transforms.ToTensor(),\n",
    "    transforms.Normalize((0.4914,0.4822,0.4465),\n",
    "                         (0.2023,0.1994,0.2010)),\n",
    "    transforms.RandomErasing(p=0.25),\n",
    "])\n",
    "\n",
    "transform_test = transforms.Compose([\n",
    "    transforms.ToTensor(),\n",
    "    transforms.Normalize((0.4914,0.4822,0.4465),\n",
    "                         (0.2023,0.1994,0.2010)),\n",
    "])\n",
    "\n",
    "trainset = torchvision.datasets.CIFAR10(root=\"./data\", train=True,  download=True, transform=transform_train_light)\n",
    "testset  = torchvision.datasets.CIFAR10(root=\"./data\", train=False, download=True, transform=transform_test)\n",
    "\n",
    "trainloader = torch.utils.data.DataLoader(\n",
    "    trainset, batch_size=cfg.batch_size, shuffle=True,\n",
    "    num_workers=2, pin_memory=pin_mem, persistent_workers=True\n",
    ")\n",
    "testloader  = torch.utils.data.DataLoader(\n",
    "    testset, batch_size=cfg.batch_size, shuffle=False,\n",
    "    num_workers=2, pin_memory=pin_mem, persistent_workers=True\n",
    ")\n",
    "\n",
    "# =========================\n",
    "# Polynomial softplus approx (degree-4) — use your 91% coefficients\n",
    "# =========================\n",
    "class PolyAct4(nn.Module):\n",
    "    \"\"\"\n",
    "    y = s * (A x^4 + B x^3 + C x^2 + D x + E) + b, with x clamped to [-clip, clip].\n",
    "    A..E fixed; s,b learnable (can be folded for inference).\n",
    "    \"\"\"\n",
    "    def __init__(self, A, B, C, D, E, clip=6.0, init_scale=1.0, init_bias=0.0):\n",
    "        super().__init__()\n",
    "        self.register_buffer('A', torch.tensor(float(A)))\n",
    "        self.register_buffer('B', torch.tensor(float(B)))\n",
    "        self.register_buffer('C', torch.tensor(float(C)))\n",
    "        self.register_buffer('D', torch.tensor(float(D)))\n",
    "        self.register_buffer('E', torch.tensor(float(E)))\n",
    "        self.clip = float(clip)\n",
    "        self.scale = nn.Parameter(torch.tensor(float(init_scale)))\n",
    "        self.bias  = nn.Parameter(torch.tensor(float(init_bias)))\n",
    "\n",
    "    def forward(self, x):\n",
    "        x = torch.clamp(x, -self.clip, self.clip)\n",
    "        x2 = x * x; x3 = x2 * x; x4 = x2 * x2\n",
    "        y = self.A * x4 + self.B * x3 + self.C * x2 + self.D * x + self.E\n",
    "        return self.scale * y + self.bias\n",
    "\n",
    "def make_poly():\n",
    "    # per-layer instance (important)\n",
    "    return PolyAct4(\n",
    "        A=-0.00068481,\n",
    "        B=-1.59833239e-17,\n",
    "        C=0.0887234775,\n",
    "        D=0.5,\n",
    "        E=0.738099333,\n",
    "        clip=cfg.act_clip,\n",
    "        init_scale=1.0, init_bias=0.0\n",
    "    )\n",
    "\n",
    "# =========================\n",
    "# PreAct-ResNet-18 (BN -> Poly -> Conv), CIFAR stem\n",
    "# =========================\n",
    "class PreActBlock(nn.Module):\n",
    "    expansion = 1\n",
    "    def __init__(self, in_planes, planes, stride=1, make_act=make_poly):\n",
    "        super().__init__()\n",
    "        self.bn1  = nn.BatchNorm2d(in_planes)\n",
    "        self.act1 = make_act()\n",
    "        self.conv1= nn.Conv2d(in_planes, planes, kernel_size=3, stride=stride, padding=1, bias=False)\n",
    "\n",
    "        self.bn2  = nn.BatchNorm2d(planes)\n",
    "        self.act2 = make_act()\n",
    "        self.conv2= nn.Conv2d(planes, planes, kernel_size=3, stride=1, padding=1, bias=False)\n",
    "\n",
    "        self.downsample = None\n",
    "        if stride != 1 or in_planes != planes*self.expansion:\n",
    "            self.downsample = nn.Conv2d(in_planes, planes*self.expansion, kernel_size=1, stride=stride, bias=False)\n",
    "\n",
    "    def forward(self, x):\n",
    "        out = self.act1(self.bn1(x))\n",
    "        sc_in = out\n",
    "        out = self.conv1(out)\n",
    "        out = self.conv2(self.act2(self.bn2(out)))\n",
    "        shortcut = x if self.downsample is None else self.downsample(sc_in)\n",
    "        return out + shortcut\n",
    "\n",
    "class PreActResNet(nn.Module):\n",
    "    def __init__(self, block, layers, num_classes=10, make_act=make_poly):\n",
    "        super().__init__()\n",
    "        self.in_planes = 64\n",
    "        self.conv1 = nn.Conv2d(3, 64, kernel_size=3, stride=1, padding=1, bias=False)\n",
    "\n",
    "        self.layer1 = self._make_layer(block, 64,  layers[0], stride=1, make_act=make_act)\n",
    "        self.layer2 = self._make_layer(block, 128, layers[1], stride=2, make_act=make_act)\n",
    "        self.layer3 = self._make_layer(block, 256, layers[2], stride=2, make_act=make_act)\n",
    "        self.layer4 = self._make_layer(block, 512, layers[3], stride=2, make_act=make_act)\n",
    "\n",
    "        self.bn_last  = nn.BatchNorm2d(512 * block.expansion)\n",
    "        self.act_last = make_act()\n",
    "\n",
    "        self.avgpool = nn.AdaptiveAvgPool2d(1)\n",
    "        self.fc      = nn.Linear(512 * block.expansion, num_classes)\n",
    "\n",
    "        for m in self.modules():\n",
    "            if isinstance(m, nn.Conv2d):\n",
    "                nn.init.kaiming_normal_(m.weight, mode='fan_out', nonlinearity='relu')\n",
    "            elif isinstance(m, nn.Linear):\n",
    "                nn.init.kaiming_uniform_(m.weight, a=math.sqrt(5))\n",
    "\n",
    "    def _make_layer(self, block, planes, blocks, stride, make_act):\n",
    "        layers = [block(self.in_planes, planes, stride=stride, make_act=make_act)]\n",
    "        self.in_planes = planes * block.expansion\n",
    "        for _ in range(1, blocks):\n",
    "            layers.append(block(self.in_planes, planes, stride=1, make_act=make_act))\n",
    "        return nn.Sequential(*layers)\n",
    "\n",
    "    def forward(self, x):\n",
    "        x = self.conv1(x)\n",
    "        x = self.layer1(x)\n",
    "        x = self.layer2(x)\n",
    "        x = self.layer3(x)\n",
    "        x = self.layer4(x)\n",
    "        x = self.act_last(self.bn_last(x))\n",
    "        x = self.avgpool(x)\n",
    "        x = torch.flatten(x, 1)\n",
    "        x = self.fc(x)\n",
    "        return x\n",
    "\n",
    "def PreActResNet18(num_classes=10):\n",
    "    return PreActResNet(PreActBlock, [2,2,2,2], num_classes=num_classes, make_act=make_poly)\n",
    "\n",
    "model = PreActResNet18(num_classes=10).to(device)\n",
    "\n",
    "# =========================\n",
    "# Optimizer: AdamW with WD hygiene (no WD on BN/affine or PolyAct scale/bias)\n",
    "# =========================\n",
    "def build_param_groups(m):\n",
    "    decay, no_decay = [], []\n",
    "    for n, p in m.named_parameters():\n",
    "        if not p.requires_grad:\n",
    "            continue\n",
    "        if p.ndim == 1 or n.endswith(\".bias\") or \"bn\" in n.lower() or n.endswith(\".scale\"):\n",
    "            no_decay.append(p)\n",
    "        else:\n",
    "            decay.append(p)\n",
    "    return [\n",
    "        {\"params\": decay, \"weight_decay\": cfg.weight_decay},\n",
    "        {\"params\": no_decay, \"weight_decay\": 0.0},\n",
    "    ]\n",
    "\n",
    "optimizer = optim.AdamW(build_param_groups(model), lr=cfg.lr)\n",
    "\n",
    "# Cosine LR over full training\n",
    "scheduler = CosineAnnealingLR(optimizer, T_max=cfg.epochs, eta_min=1e-5)\n",
    "\n",
    "# AMP (new API)\n",
    "scaler = torch.amp.GradScaler('cuda', enabled=cfg.amp)\n",
    "\n",
    "# EMA\n",
    "class ModelEMA:\n",
    "    def __init__(self, model, decay=0.999):\n",
    "        self.ema = copy.deepcopy(model).to(device).eval()\n",
    "        for p in self.ema.parameters():\n",
    "            p.requires_grad_(False)\n",
    "        self.decay = decay\n",
    "    @torch.no_grad()\n",
    "    def update(self, model):\n",
    "        msd = model.state_dict()\n",
    "        for k, v in self.ema.state_dict().items():\n",
    "            if v.dtype.is_floating_point:\n",
    "                v.copy_(v * self.decay + msd[k] * (1.0 - self.decay))\n",
    "            else:\n",
    "                v.copy_(msd[k])\n",
    "    def state_dict(self):\n",
    "        return self.ema.state_dict()\n",
    "\n",
    "ema = ModelEMA(model, decay=cfg.ema_decay)\n",
    "\n",
    "# =========================\n",
    "# MixUp utilities\n",
    "# =========================\n",
    "def mixup_data(x, y, alpha):\n",
    "    if alpha <= 0.0:\n",
    "        return x, y, y, 1.0\n",
    "    lam = torch.distributions.Beta(alpha, alpha).sample().item()\n",
    "    bs  = x.size(0)\n",
    "    idx = torch.randperm(bs, device=x.device)\n",
    "    mixed_x = lam * x + (1 - lam) * x[idx]\n",
    "    y_a, y_b = y, y[idx]\n",
    "    return mixed_x, y_a, y_b, lam\n",
    "\n",
    "def mixup_criterion(crit, pred, y_a, y_b, lam):\n",
    "    return lam * crit(pred, y_a) + (1 - lam) * crit(pred, y_b)\n",
    "\n",
    "criterion = nn.CrossEntropyLoss()  # no label smoothing when using MixUp\n",
    "\n",
    "# =========================\n",
    "# Eval helper (per-sample mean loss)\n",
    "# =========================\n",
    "@torch.no_grad()\n",
    "def evaluate(eval_model):\n",
    "    eval_model.eval()\n",
    "    total, correct, loss_sum = 0, 0, 0.0\n",
    "    for x, y in testloader:\n",
    "        x = x.to(device, non_blocking=pin_mem)\n",
    "        y = y.to(device, non_blocking=pin_mem)\n",
    "        with torch.amp.autocast('cuda', enabled=cfg.amp):\n",
    "            logits = eval_model(x)\n",
    "            loss = criterion(logits, y)\n",
    "        loss_sum += loss.item() * y.size(0)\n",
    "        pred = logits.argmax(1)\n",
    "        correct += (pred == y).sum().item()\n",
    "        total += y.size(0)\n",
    "    return loss_sum / total, 100.0 * correct / total\n",
    "\n",
    "# BN calibration (refresh running stats on EMA before final eval)\n",
    "@torch.no_grad()\n",
    "def calibrate_bn(model, loader, iters=200):\n",
    "    model.train()\n",
    "    n = 0\n",
    "    for x, _ in loader:\n",
    "        x = x.to(device, non_blocking=pin_mem)\n",
    "        model(x)\n",
    "        n += 1\n",
    "        if n >= iters:\n",
    "            break\n",
    "    model.eval()\n",
    "\n",
    "# =========================\n",
    "# Training\n",
    "# =========================\n",
    "phase1 = cfg.phase1_epochs\n",
    "phase3 = max(1, int(cfg.phase3_ratio * cfg.epochs))\n",
    "phase2 = max(1, cfg.epochs - phase1 - phase3)  # middle\n",
    "\n",
    "best_acc = 0.0\n",
    "\n",
    "for epoch in range(1, cfg.epochs + 1):\n",
    "    # --- Augmentation schedule ---\n",
    "    if epoch <= phase1:\n",
    "        trainset.transform = transform_train_light\n",
    "        mix_alpha = 0.0\n",
    "        phase_name = \"LIGHT\"\n",
    "    elif epoch <= phase1 + phase2:\n",
    "        trainset.transform = transform_train_strong\n",
    "        # MixUp ramp during the first part of phase 2\n",
    "        ramp_ep = min(cfg.mixup_ramp_epochs, phase2)\n",
    "        e_in_phase2 = epoch - phase1\n",
    "        if e_in_phase2 <= ramp_ep:\n",
    "            mix_alpha = cfg.mixup_target_alpha * (e_in_phase2 / ramp_ep)\n",
    "        else:\n",
    "            mix_alpha = cfg.mixup_target_alpha\n",
    "        phase_name = \"STRONG\"\n",
    "    else:\n",
    "        trainset.transform = transform_train_light\n",
    "        mix_alpha = 0.0\n",
    "        phase_name = \"LIGHT (final)\"\n",
    "\n",
    "    model.train()\n",
    "    running_loss = 0.0\n",
    "\n",
    "    loop = tqdm(trainloader, desc=f\"Epoch {epoch}/{cfg.epochs} [{phase_name}]\",\n",
    "                leave=False)\n",
    "    for x, y in loop:\n",
    "        x = x.to(device, non_blocking=pin_mem)\n",
    "        y = y.to(device, non_blocking=pin_mem)\n",
    "\n",
    "        if mix_alpha > 0.0:\n",
    "            x, y_a, y_b, lam = mixup_data(x, y, mix_alpha)\n",
    "        else:\n",
    "            y_a = y_b = y; lam = 1.0\n",
    "\n",
    "        optimizer.zero_grad(set_to_none=True)\n",
    "        with torch.amp.autocast('cuda', enabled=cfg.amp):\n",
    "            logits = model(x)\n",
    "            loss = mixup_criterion(criterion, logits, y_a, y_b, lam)\n",
    "\n",
    "        scaler.scale(loss).backward()\n",
    "        # (No grad clipping here; remove cap for higher ceiling)\n",
    "        scaler.step(optimizer)\n",
    "        scaler.update()\n",
    "\n",
    "        ema.update(model)\n",
    "\n",
    "        running_loss += loss.item() * x.size(0)\n",
    "        loop.set_postfix(loss=float(loss),\n",
    "                         lr=optimizer.param_groups[0]['lr'],\n",
    "                         mixup_alpha=round(mix_alpha, 3))\n",
    "\n",
    "    scheduler.step()\n",
    "    train_loss = running_loss / len(trainset)\n",
    "\n",
    "    # Evaluate raw model briefly at the very start, then EMA\n",
    "    eval_model = model if epoch <= 3 else ema.ema\n",
    "    val_loss, val_acc = evaluate(eval_model)\n",
    "\n",
    "    print(f\"Epoch [{epoch}/{cfg.epochs}] | Train Loss: {train_loss:.4f} | \"\n",
    "          f\"Val Loss: {val_loss:.4f} | Val Acc: {val_acc:.2f}% | MixUp α: {mix_alpha:.3f}\")\n",
    "\n",
    "    if val_acc > best_acc:\n",
    "        best_acc = val_acc\n",
    "        torch.save(model.state_dict(), cfg.save_std)\n",
    "        torch.save(ema.state_dict(), cfg.save_ema)\n",
    "\n",
    "# =========================\n",
    "# Final eval: calibrate BN on EMA, then evaluate\n",
    "# =========================\n",
    "if os.path.exists(cfg.save_ema):\n",
    "    ema_state = torch.load(cfg.save_ema, map_location=device)\n",
    "    ema.ema.load_state_dict(ema_state)\n",
    "    calibrate_bn(ema.ema, trainloader, iters=200)\n",
    "    loss_e, acc_e = evaluate(ema.ema)\n",
    "    print(f\"\\nEMA Model (BN-calibrated) -> Acc: {acc_e:.2f}% | Loss: {loss_e:.4f}\")\n",
    "else:\n",
    "    print(\"\\nNo EMA checkpoint found.\")\n",
    "\n",
    "if os.path.exists(cfg.save_std):\n",
    "    model.load_state_dict(torch.load(cfg.save_std, map_location=device))\n",
    "    loss_m, acc_m = evaluate(model)\n",
    "    print(f\"Last-saved Model          -> Acc: {acc_m:.2f}% | Loss: {loss_m:.4f}\")\n",
    "else:\n",
    "    print(\"No standard model checkpoint found.\")\n",
    "\n",
    "print(f\"\\nSaved paths:\\n - {cfg.save_std}\\n - {cfg.save_ema}\")\n",
    "\n"
   ]
  },
  {
   "cell_type": "code",
   "execution_count": 29,
   "id": "4a9dfec8-f62d-4535-8f3e-64fef8b1aa2a",
   "metadata": {},
   "outputs": [
    {
     "name": "stdout",
     "output_type": "stream",
     "text": [
      "Weights saved to my_model_weights/fc1_weight.csv\n",
      "Weights saved to my_model_weights/fc1_bias.csv\n",
      "Weights saved to my_model_weights/fc2_weight.csv\n",
      "Weights saved to my_model_weights/fc2_bias.csv\n",
      "Weight extraction complete!\n"
     ]
    }
   ],
   "source": [
    "import os\n",
    "import csv\n",
    "\n",
    "def save_weights_to_csv(model, directory=\"my_model_weights\"):\n",
    "    # Create the directory if it does not exist\n",
    "    if not os.path.exists(directory):\n",
    "        os.makedirs(directory)\n",
    "    \n",
    "    # Iterate over each parameter in the model\n",
    "    for name, param in model.named_parameters():\n",
    "        # Convert the parameter tensor to a flattened numpy array\n",
    "        weights = param.data.cpu().numpy().flatten()\n",
    "        \n",
    "        # Replace dots in the parameter name with underscores and form the full file path\n",
    "        filename = f\"{directory}/{name.replace('.', '_')}.csv\"\n",
    "        \n",
    "        # Open the CSV file and write the weights\n",
    "        with open(filename, mode='w', newline='') as file:\n",
    "            writer = csv.writer(file)\n",
    "            writer.writerow(weights)  # Write weights as a single row\n",
    "        \n",
    "        print(f\"Weights saved to {filename}\")\n",
    "    \n",
    "    print(\"Weight extraction complete!\")\n",
    "\n",
    "# Call this function with your model variable\n",
    "save_weights_to_csv(model)"
   ]
  },
  {
   "cell_type": "code",
   "execution_count": 36,
   "id": "f467fe48-6580-415f-8201-dd790b1f9aae",
   "metadata": {},
   "outputs": [
    {
     "name": "stderr",
     "output_type": "stream",
     "text": [
      "/tmp/ipykernel_4088899/672587445.py:18: FutureWarning: You are using `torch.load` with `weights_only=False` (the current default value), which uses the default pickle module implicitly. It is possible to construct malicious pickle data which will execute arbitrary code during unpickling (See https://github.com/pytorch/pytorch/blob/main/SECURITY.md#untrusted-models for more details). In a future release, the default value for `weights_only` will be flipped to `True`. This limits the functions that could be executed during unpickling. Arbitrary objects will no longer be allowed to be loaded via this mode unless they are explicitly allowlisted by the user via `torch.serialization.add_safe_globals`. We recommend you start setting `weights_only=True` for any use case where you don't have full control of the loaded file. Please open an issue on GitHub for any issues related to this experimental feature.\n",
      "  model.load_state_dict(torch.load('cifar10_trained_model.pth'))\n"
     ]
    },
    {
     "name": "stdout",
     "output_type": "stream",
     "text": [
      "Weight extraction complete!\n"
     ]
    }
   ],
   "source": [
    "import torch\n",
    "import os\n",
    "import csv\n",
    "\n",
    "# Create directory for weights if it doesn't exist\n",
    "os.makedirs('my_model_weights', exist_ok=True)\n",
    "\n",
    "# Function to save weights to CSV\n",
    "def save_to_csv(tensor, filename):\n",
    "    with open(filename, 'w', newline='') as csvfile:\n",
    "        writer = csv.writer(csvfile)\n",
    "        # Flatten the tensor and write as a single row\n",
    "        writer.writerow(tensor.flatten().numpy())\n",
    "\n",
    "# Load the trained model\n",
    "activation_fn = PolyAct4()\n",
    "model = CIFAR_CNN(activation_fn=activation_fn)\n",
    "model.load_state_dict(torch.load('cifar10_trained_model.pth'))\n",
    "\n",
    "# Method to get layer by name\n",
    "def get_layer_by_name(model, name):\n",
    "    modules = name.split('.')\n",
    "    m = model\n",
    "    for mod in modules:\n",
    "        m = getattr(m, mod)\n",
    "    return m\n",
    "\n",
    "# Extract and save layer weights\n",
    "block_layers = [\n",
    "    'block1.0', 'block1.1', 'block1.3', 'block1.4',\n",
    "    'block2.0', 'block2.1', 'block2.3', 'block2.4',\n",
    "    'block3.0', 'block3.1', 'block3.3', 'block3.4',\n",
    "    'block4.0', 'block4.1', 'block4.3', 'block4.4'\n",
    "]\n",
    "\n",
    "for layer_name in block_layers:\n",
    "    try:\n",
    "        layer = get_layer_by_name(model, layer_name)\n",
    "        if isinstance(layer, (nn.Conv2d, nn.BatchNorm2d)):\n",
    "            if hasattr(layer, 'weight'):\n",
    "                save_to_csv(layer.weight.data, f'my_model_weights/{layer_name.replace(\".\", \"_\")}_weight.csv')\n",
    "            if hasattr(layer, 'bias'):\n",
    "                save_to_csv(layer.bias.data, f'my_model_weights/{layer_name.replace(\".\", \"_\")}_bias.csv')\n",
    "            if isinstance(layer, nn.BatchNorm2d):\n",
    "                save_to_csv(layer.running_mean, f'my_model_weights/{layer_name.replace(\".\", \"_\")}_running_mean.csv')\n",
    "                save_to_csv(layer.running_var, f'my_model_weights/{layer_name.replace(\".\", \"_\")}_running_var.csv')\n",
    "    except Exception as e:\n",
    "        print(f\"Error processing {layer_name}: {e}\")\n",
    "\n",
    "# Extract and save FC layer weights and BatchNorm\n",
    "fc_layers = ['fc1', 'fc_bn', 'fc2']\n",
    "for layer_name in fc_layers:\n",
    "    try:\n",
    "        layer = get_layer_by_name(model, layer_name)\n",
    "        if isinstance(layer, nn.Linear):\n",
    "            save_to_csv(layer.weight.data, f'my_model_weights/{layer_name}_weight.csv')\n",
    "            save_to_csv(layer.bias.data, f'my_model_weights/{layer_name}_bias.csv')\n",
    "        elif isinstance(layer, nn.BatchNorm1d):\n",
    "            save_to_csv(layer.weight.data, f'my_model_weights/{layer_name}_weight.csv')\n",
    "            save_to_csv(layer.bias.data, f'my_model_weights/{layer_name}_bias.csv')\n",
    "            save_to_csv(layer.running_mean, f'my_model_weights/{layer_name}_running_mean.csv')\n",
    "            save_to_csv(layer.running_var, f'my_model_weights/{layer_name}_running_var.csv')\n",
    "    except Exception as e:\n",
    "        print(f\"Error processing {layer_name}: {e}\")\n",
    "\n",
    "print(\"Weight extraction complete!\")"
   ]
  },
  {
   "cell_type": "code",
   "execution_count": 37,
   "id": "9f0d7d5e-f23d-4d1e-bfac-10fcfccccdc7",
   "metadata": {},
   "outputs": [
    {
     "name": "stdout",
     "output_type": "stream",
     "text": [
      "File: my_model_weights/block1_0_bias.csv\n",
      "Total elements: 48\n",
      "First few elements: [-0.14158371, 0.086564094, 0.03638618, 0.15626998, 0.0087235095, -0.01983237, 0.077582106, -0.23901737, -0.066613145, 0.156942]\n",
      "Shape: 48\n",
      "Min: -0.47316253\n",
      "Max: 0.2462121\n",
      "Mean: -0.01763541479375\n",
      "Std Dev: 0.14122533519858566\n",
      "--------------------------------------------------\n",
      "File: my_model_weights/block1_0_weight.csv\n",
      "Total elements: 1296\n",
      "First few elements: [-0.408994, -0.27043045, -0.1315946, 0.15104751, 0.6335488, 0.010418372, -0.24804702, 0.08897946, 0.2502869, 0.7613002]\n",
      "Shape: 1296\n",
      "Min: -1.820785\n",
      "Max: 1.0271152\n",
      "Mean: -0.00042038506412036864\n",
      "Std Dev: 0.37214929194342206\n",
      "--------------------------------------------------\n",
      "File: my_model_weights/block1_1_bias.csv\n",
      "Total elements: 48\n",
      "First few elements: [2.239237, -1.6459881, -0.7095814, 2.4580042, -2.64024, -0.07478788, 2.497212, -1.5947889, -0.06567605, 0.6825575]\n",
      "Shape: 48\n",
      "Min: -2.7919664\n",
      "Max: 3.4301686\n",
      "Mean: -0.23573333333333335\n",
      "Std Dev: 1.578670837339114\n",
      "--------------------------------------------------\n",
      "File: my_model_weights/block1_1_running_mean.csv\n",
      "Total elements: 48\n",
      "First few elements: [-0.22795425, 0.020239517, 0.098628245, 0.28302264, -0.03769021, 0.010128506, 0.07406446, 1.3121743, -0.20744944, 0.16390304]\n",
      "Shape: 48\n",
      "Min: -2.4327605\n",
      "Max: 1.6007633\n",
      "Mean: -0.0014545732520833364\n",
      "Std Dev: 0.5107415895918742\n",
      "--------------------------------------------------\n",
      "File: my_model_weights/block1_1_running_var.csv\n",
      "Total elements: 48\n",
      "First few elements: [0.89747274, 2.3847747, 11.687433, 3.4307547, 3.4913924, 0.9558503, 0.27704105, 36.740246, 2.2346435, 0.21962565]\n",
      "Shape: 48\n",
      "Min: 0.14970414\n",
      "Max: 77.23018\n",
      "Mean: 6.727042629583334\n",
      "Std Dev: 13.04718204121825\n",
      "--------------------------------------------------\n",
      "File: my_model_weights/block1_1_weight.csv\n",
      "Total elements: 48\n",
      "First few elements: [3.508655, 1.1416016, 2.6633966, 4.9405785, 0.01043375, 1.9159732, 2.336985, 1.6129674, 1.6655817, 1.6806719]\n",
      "Shape: 48\n",
      "Min: -0.011357705\n",
      "Max: 7.4173255\n",
      "Mean: 1.9663610265520834\n",
      "Std Dev: 1.7282585753487432\n",
      "--------------------------------------------------\n",
      "File: my_model_weights/block1_3_bias.csv\n",
      "Total elements: 48\n",
      "First few elements: [-0.0055174665, 0.064971924, -0.025073383, -0.019425692, -0.020295242, -0.0064396355, 0.025460903, 0.024234548, -0.015185521, 0.001303422]\n",
      "Shape: 48\n",
      "Min: -0.05220277\n",
      "Max: 0.0823972\n",
      "Mean: 0.0016432485708333337\n",
      "Std Dev: 0.03050664217719857\n",
      "--------------------------------------------------\n",
      "File: my_model_weights/block1_3_weight.csv\n",
      "Total elements: 20736\n",
      "First few elements: [-0.17417176, -0.4007392, -0.0072453055, -0.08284252, 0.04877827, 0.42443424, 0.30457056, 0.3098722, -0.3451547, -0.007097765]\n",
      "Shape: 20736\n",
      "Min: -2.8598387\n",
      "Max: 1.9853216\n",
      "Mean: -0.058107815031910925\n",
      "Std Dev: 0.36331660827353207\n",
      "--------------------------------------------------\n",
      "File: my_model_weights/block1_4_bias.csv\n",
      "Total elements: 48\n",
      "First few elements: [-2.118862, -1.063325, -2.4671779, -2.8244596, -1.4182986, -1.8184704, -2.4457822, -1.3183308, -0.844148, -1.2916491]\n",
      "Shape: 48\n",
      "Min: -2.8244596\n",
      "Max: -0.5997617\n",
      "Mean: -1.6857643177083332\n",
      "Std Dev: 0.6125285508737219\n",
      "--------------------------------------------------\n",
      "File: my_model_weights/block1_4_running_mean.csv\n",
      "Total elements: 48\n",
      "First few elements: [-9.387898, -4.251227, -8.669131, -9.489112, -27.943602, -18.75245, -20.717167, -7.1926527, -43.748577, 12.243619]\n",
      "Shape: 48\n",
      "Min: -46.44515\n",
      "Max: 12.243619\n",
      "Mean: -17.765212318125\n",
      "Std Dev: 15.464059889197275\n",
      "--------------------------------------------------\n",
      "File: my_model_weights/block1_4_running_var.csv\n",
      "Total elements: 48\n",
      "First few elements: [146.30171, 106.99845, 302.87125, 165.414, 256.7097, 314.10068, 139.36984, 197.15936, 505.4398, 134.167]\n",
      "Shape: 48\n",
      "Min: 106.99845\n",
      "Max: 573.4454\n",
      "Mean: 292.8499905416667\n",
      "Std Dev: 116.8804186006881\n",
      "--------------------------------------------------\n",
      "File: my_model_weights/block1_4_weight.csv\n",
      "Total elements: 48\n",
      "First few elements: [2.383357, 2.1995702, 4.1416507, 3.3032491, 1.8277936, 2.6396677, 2.3423414, 1.4298489, 2.0882697, 1.4556468]\n",
      "Shape: 48\n",
      "Min: 1.1881322\n",
      "Max: 4.1416507\n",
      "Mean: 2.3092970541666666\n",
      "Std Dev: 0.6521359270664188\n",
      "--------------------------------------------------\n",
      "File: my_model_weights/block2_0_bias.csv\n",
      "Total elements: 96\n",
      "First few elements: [0.02246582, -0.02306733, 0.004358452, 0.023713687, 0.03362233, -0.0011718897, 0.026250776, -0.029657908, 0.047866277, 0.011919326]\n",
      "Shape: 96\n",
      "Min: -0.05230303\n",
      "Max: 0.07876537\n",
      "Mean: 0.010760972315\n",
      "Std Dev: 0.028678555385050243\n",
      "--------------------------------------------------\n",
      "File: my_model_weights/block2_0_weight.csv\n",
      "Total elements: 41472\n",
      "First few elements: [-0.16816927, -0.10543612, 0.0052671977, -0.14209804, -0.035463575, 0.20376436, -0.15687197, 0.2702281, 0.23726664, -0.37108037]\n",
      "Shape: 41472\n",
      "Min: -3.7550879\n",
      "Max: 2.009234\n",
      "Mean: -0.02772431348811123\n",
      "Std Dev: 0.37254683048887\n",
      "--------------------------------------------------\n",
      "File: my_model_weights/block2_1_bias.csv\n",
      "Total elements: 96\n",
      "First few elements: [-1.3523275, -1.28979, -1.0737233, -1.4607472, -1.7849474, -1.7038054, -1.4930487, -1.8205413, -2.1605296, -1.8148803]\n",
      "Shape: 96\n",
      "Min: -2.1969829\n",
      "Max: -0.79144025\n",
      "Mean: -1.6020733905208335\n",
      "Std Dev: 0.29487000070786695\n",
      "--------------------------------------------------\n",
      "File: my_model_weights/block2_1_running_mean.csv\n",
      "Total elements: 96\n",
      "First few elements: [-6.555921, 0.54067314, -6.6118116, -6.349262, -5.176643, -3.479554, -2.038063, -5.9579067, -2.6403804, -11.837262]\n",
      "Shape: 96\n",
      "Min: -21.463413\n",
      "Max: 10.927498\n",
      "Mean: -4.464559006520833\n",
      "Std Dev: 4.859811147139466\n",
      "--------------------------------------------------\n",
      "File: my_model_weights/block2_1_running_var.csv\n",
      "Total elements: 96\n",
      "First few elements: [100.43978, 26.655178, 71.575386, 36.57013, 43.382603, 30.199387, 52.996773, 40.04462, 31.631468, 46.328613]\n",
      "Shape: 96\n",
      "Min: 20.02636\n",
      "Max: 127.74458\n",
      "Mean: 48.77568953125\n",
      "Std Dev: 19.240808276674546\n",
      "--------------------------------------------------\n",
      "File: my_model_weights/block2_1_weight.csv\n",
      "Total elements: 96\n",
      "First few elements: [1.9276024, 2.0226536, 1.8214223, 2.3541338, 1.8552985, 1.8305603, 2.374157, 2.1688688, 1.818837, 1.6443878]\n",
      "Shape: 96\n",
      "Min: 1.2749454\n",
      "Max: 2.8387601\n",
      "Mean: 2.0927051135416668\n",
      "Std Dev: 0.30741862341649984\n",
      "--------------------------------------------------\n",
      "File: my_model_weights/block2_3_bias.csv\n",
      "Total elements: 96\n",
      "First few elements: [-0.005081688, -0.022151666, 0.021770075, -0.011679068, -0.020425312, 0.026950048, -0.02338893, 0.044008754, -0.024119938, -0.008506295]\n",
      "Shape: 96\n",
      "Min: -0.035843015\n",
      "Max: 0.044008754\n",
      "Mean: -0.0038656172041666667\n",
      "Std Dev: 0.020841230974095428\n",
      "--------------------------------------------------\n",
      "File: my_model_weights/block2_3_weight.csv\n",
      "Total elements: 82944\n",
      "First few elements: [-0.05567049, 0.15539321, 0.24615833, -0.117583886, 0.0020550464, -0.07461613, -0.1084402, -0.08214122, -0.16486211, -0.09942402]\n",
      "Shape: 82944\n",
      "Min: -2.0118263\n",
      "Max: 1.7549151\n",
      "Mean: -0.034639094268468076\n",
      "Std Dev: 0.36511337407454003\n",
      "--------------------------------------------------\n",
      "File: my_model_weights/block2_4_bias.csv\n",
      "Total elements: 96\n",
      "First few elements: [-1.8396611, -1.7605246, -1.8246847, -2.0850558, -2.145547, -1.8640462, -1.599979, -1.7690163, -2.2709744, -1.9891636]\n",
      "Shape: 96\n",
      "Min: -2.5986125\n",
      "Max: -1.233341\n",
      "Mean: -1.912591403125\n",
      "Std Dev: 0.23027832566357628\n",
      "--------------------------------------------------\n",
      "File: my_model_weights/block2_4_running_mean.csv\n",
      "Total elements: 96\n",
      "First few elements: [-14.459106, -19.33944, -23.67087, -15.950252, -19.10747, 9.153365, -34.27589, -13.089784, -10.32307, -11.3205]\n",
      "Shape: 96\n",
      "Min: -40.781586\n",
      "Max: 38.219296\n",
      "Mean: -13.251131864375003\n",
      "Std Dev: 11.444589325247719\n",
      "--------------------------------------------------\n",
      "File: my_model_weights/block2_4_running_var.csv\n",
      "Total elements: 96\n",
      "First few elements: [290.46317, 224.52771, 214.53177, 187.82079, 216.79414, 267.08994, 254.97849, 265.50266, 198.3575, 222.63332]\n",
      "Shape: 96\n",
      "Min: 159.33856\n",
      "Max: 409.62085\n",
      "Mean: 241.67572166666665\n",
      "Std Dev: 47.508305599701295\n",
      "--------------------------------------------------\n",
      "File: my_model_weights/block2_4_weight.csv\n",
      "Total elements: 96\n",
      "First few elements: [2.2098923, 2.1353812, 2.0529463, 2.4583414, 1.8351556, 1.8774256, 2.0489938, 2.9171228, 2.0534303, 2.5254352]\n",
      "Shape: 96\n",
      "Min: 1.5406265\n",
      "Max: 2.9171228\n",
      "Mean: 2.11894586875\n",
      "Std Dev: 0.2630123721981421\n",
      "--------------------------------------------------\n",
      "File: my_model_weights/block3_0_bias.csv\n",
      "Total elements: 192\n",
      "First few elements: [-0.036520988, 0.002862443, -0.009073809, -0.033097368, 0.0008513828, -0.015292531, 0.021750236, 0.007838614, -0.024879461, 0.0231077]\n",
      "Shape: 192\n",
      "Min: -0.036520988\n",
      "Max: 0.04251002\n",
      "Mean: -0.0009969677676562505\n",
      "Std Dev: 0.020276801647852297\n",
      "--------------------------------------------------\n",
      "File: my_model_weights/block3_0_weight.csv\n",
      "Total elements: 165888\n",
      "First few elements: [-0.41545877, -0.26152083, 0.055299662, 0.18831332, -0.098420866, -0.25706828, 0.2513078, 0.09833103, -0.4090887, -0.63532495]\n",
      "Shape: 165888\n",
      "Min: -2.3431933\n",
      "Max: 1.7874862\n",
      "Mean: -0.02472740013231906\n",
      "Std Dev: 0.36564863141943404\n",
      "--------------------------------------------------\n",
      "File: my_model_weights/block3_1_bias.csv\n",
      "Total elements: 192\n",
      "First few elements: [-1.7734157, -2.0321486, -2.0259774, -1.776842, -1.7922226, -2.334062, -2.0737522, -2.1485636, -2.6582367, -2.0729575]\n",
      "Shape: 192\n",
      "Min: -2.6903024\n",
      "Max: -1.4822282\n",
      "Mean: -2.0834938875\n",
      "Std Dev: 0.23955488238315045\n",
      "--------------------------------------------------\n",
      "File: my_model_weights/block3_1_running_mean.csv\n",
      "Total elements: 192\n",
      "First few elements: [-8.692563, -6.692794, -7.0262485, -9.958385, -8.627322, -8.434332, -17.7537, -1.6471094, -9.948885, -7.1386075]\n",
      "Shape: 192\n",
      "Min: -29.791416\n",
      "Max: 7.6204515\n",
      "Mean: -7.102994069166667\n",
      "Std Dev: 5.339036307333947\n",
      "--------------------------------------------------\n",
      "File: my_model_weights/block3_1_running_var.csv\n",
      "Total elements: 192\n",
      "First few elements: [48.68543, 51.073467, 59.151493, 62.819935, 53.99934, 71.35667, 97.48188, 84.15538, 118.87134, 46.995403]\n",
      "Shape: 192\n",
      "Min: 38.179775\n",
      "Max: 178.24817\n",
      "Mean: 70.841417921875\n",
      "Std Dev: 20.00444452060918\n",
      "--------------------------------------------------\n",
      "File: my_model_weights/block3_1_weight.csv\n",
      "Total elements: 192\n",
      "First few elements: [1.9366812, 2.2423255, 2.3996193, 2.1981864, 2.1525025, 2.216964, 2.1035223, 2.4496553, -0.02372323, 1.6344198]\n",
      "Shape: 192\n",
      "Min: -0.027904581\n",
      "Max: 2.6928225\n",
      "Mean: 2.0116007286041664\n",
      "Std Dev: 0.41797332781426444\n",
      "--------------------------------------------------\n",
      "File: my_model_weights/block3_3_bias.csv\n",
      "Total elements: 192\n",
      "First few elements: [0.024019862, -0.0125617385, 0.016098123, 0.006232231, 0.010386086, 0.0068497285, 0.0011235123, -0.00986292, 0.025519466, 0.016130026]\n",
      "Shape: 192\n",
      "Min: -0.026446573\n",
      "Max: 0.025519466\n",
      "Mean: -0.0004306337511458334\n",
      "Std Dev: 0.014347728972797246\n",
      "--------------------------------------------------\n",
      "File: my_model_weights/block3_3_weight.csv\n",
      "Total elements: 331776\n",
      "First few elements: [-0.26500458, -0.30597094, -0.10169805, 0.099779956, -0.24358928, 0.35520205, -0.19944051, -0.8253966, -0.38154134, -0.18033998]\n",
      "Shape: 331776\n",
      "Min: -2.0397546\n",
      "Max: 1.8161607\n",
      "Mean: -0.02831610889786793\n",
      "Std Dev: 0.36271020869489506\n",
      "--------------------------------------------------\n",
      "File: my_model_weights/block3_4_bias.csv\n",
      "Total elements: 192\n",
      "First few elements: [-2.4236944, -2.4487987, -2.4170673, -2.4786975, -1.7475675, -1.9168185, -2.0116172, -2.4463341, -2.7648442, -2.3041368]\n",
      "Shape: 192\n",
      "Min: -2.9522054\n",
      "Max: -1.2662343\n",
      "Mean: -2.34731646875\n",
      "Std Dev: 0.26047391922959057\n",
      "--------------------------------------------------\n",
      "File: my_model_weights/block3_4_running_mean.csv\n",
      "Total elements: 192\n",
      "First few elements: [-23.629969, -23.73149, -23.740309, -25.895676, -20.273628, -9.595122, -20.578281, -16.41399, -26.461388, -9.573089]\n",
      "Shape: 192\n",
      "Min: -33.30016\n",
      "Max: 12.099314\n",
      "Mean: -14.541060870369792\n",
      "Std Dev: 7.5085068497568574\n",
      "--------------------------------------------------\n",
      "File: my_model_weights/block3_4_running_var.csv\n",
      "Total elements: 192\n",
      "First few elements: [313.90555, 245.75566, 258.69623, 238.30936, 351.8772, 169.28384, 280.7545, 236.50517, 188.85269, 256.51205]\n",
      "Shape: 192\n",
      "Min: 122.681\n",
      "Max: 414.78253\n",
      "Mean: 232.91810822916668\n",
      "Std Dev: 46.484738689430834\n",
      "--------------------------------------------------\n",
      "File: my_model_weights/block3_4_weight.csv\n",
      "Total elements: 192\n",
      "First few elements: [1.8180815, 2.2190359, 2.330857, 2.0943222, 2.3667886, 2.1693707, 2.4291277, 1.8301054, 2.1813407, 2.1630604]\n",
      "Shape: 192\n",
      "Min: 0.493912\n",
      "Max: 2.5888505\n",
      "Mean: 2.0871374630208335\n",
      "Std Dev: 0.2527490319483723\n",
      "--------------------------------------------------\n",
      "File: my_model_weights/block4_0_bias.csv\n",
      "Total elements: 256\n",
      "First few elements: [-0.00058799743, -0.024485504, 0.0007936581, -0.0037906796, -0.0039640847, 0.002528884, 0.013053468, -0.0033188297, 0.0076003447, 0.02439607]\n",
      "Shape: 256\n",
      "Min: -0.025696885\n",
      "Max: 0.02439607\n",
      "Mean: -0.00013722377832031262\n",
      "Std Dev: 0.01283637193695197\n",
      "--------------------------------------------------\n",
      "File: my_model_weights/block4_0_weight.csv\n",
      "Total elements: 442368\n",
      "First few elements: [-0.44035828, -0.2544523, -0.36176795, -0.018834721, 0.20050848, -0.06344671, 0.41746724, 0.4006633, 0.15258645, 0.14582813]\n",
      "Shape: 442368\n",
      "Min: -1.9682595\n",
      "Max: 2.0575366\n",
      "Mean: -0.030431508042541085\n",
      "Std Dev: 0.3628750317661543\n",
      "--------------------------------------------------\n",
      "File: my_model_weights/block4_1_bias.csv\n",
      "Total elements: 256\n",
      "First few elements: [-2.497837, -2.6573696, -1.7786735, -2.3486538, -2.5478303, -2.540077, -2.9915192, -2.7455933, -2.6718934, -2.2343295]\n",
      "Shape: 256\n",
      "Min: -3.1936882\n",
      "Max: -0.021916106\n",
      "Mean: -2.308679697015625\n",
      "Std Dev: 0.4923725704129064\n",
      "--------------------------------------------------\n",
      "File: my_model_weights/block4_1_running_mean.csv\n",
      "Total elements: 256\n",
      "First few elements: [-11.019479, -16.445116, -28.676277, -26.851313, -8.599324, -17.060328, -13.501937, -21.60313, -2.7963915, -6.2542596]\n",
      "Shape: 256\n",
      "Min: -37.961605\n",
      "Max: 13.856943\n",
      "Mean: -12.583027567532813\n",
      "Std Dev: 9.061980947218263\n",
      "--------------------------------------------------\n",
      "File: my_model_weights/block4_1_running_var.csv\n",
      "Total elements: 256\n",
      "First few elements: [169.11238, 279.0726, 336.87317, 299.87695, 186.28426, 205.56146, 197.37006, 232.70113, 172.56496, 206.35591]\n",
      "Shape: 256\n",
      "Min: 132.56488\n",
      "Max: 481.7052\n",
      "Mean: 212.70958175781251\n",
      "Std Dev: 57.6169528969983\n",
      "--------------------------------------------------\n",
      "File: my_model_weights/block4_1_weight.csv\n",
      "Total elements: 256\n",
      "First few elements: [2.247792, 1.7452782, 0.15189122, 0.035922352, 2.0380507, 2.7250369, 1.4767175, 1.8238955, 1.8452742, 2.5671442]\n",
      "Shape: 256\n",
      "Min: 0.007046328\n",
      "Max: 2.8251765\n",
      "Mean: 1.91192623846875\n",
      "Std Dev: 0.5825992122393758\n",
      "--------------------------------------------------\n",
      "File: my_model_weights/block4_3_bias.csv\n",
      "Total elements: 256\n",
      "First few elements: [0.018184008, -0.0039059934, 0.0111171985, -0.00038073308, 0.014261937, -0.0049305055, -0.003941761, 0.018581036, -0.020748103, 0.01241135]\n",
      "Shape: 256\n",
      "Min: -0.02271936\n",
      "Max: 0.02184233\n",
      "Mean: 0.000601791632109375\n",
      "Std Dev: 0.012040660558354574\n",
      "--------------------------------------------------\n",
      "File: my_model_weights/block4_3_weight.csv\n",
      "Total elements: 589824\n",
      "First few elements: [0.34436032, 0.43862483, 0.4287786, 0.0033368326, 0.16129376, 0.15929309, 0.15069774, 0.29366267, 0.31608704, 0.046245817]\n",
      "Shape: 589824\n",
      "Min: -2.251702\n",
      "Max: 2.2843668\n",
      "Mean: -0.008438053279324419\n",
      "Std Dev: 0.3517969356574744\n",
      "--------------------------------------------------\n",
      "File: my_model_weights/block4_4_bias.csv\n",
      "Total elements: 256\n",
      "First few elements: [-2.0697405, -2.5523407, -2.4800558, -2.3828712, -2.477603, -1.8467968, -1.1374708, -2.552057, -3.4545872, -2.3699706]\n",
      "Shape: 256\n",
      "Min: -3.5489411\n",
      "Max: -0.3868954\n",
      "Mean: -2.25244223140625\n",
      "Std Dev: 0.5232209071660759\n",
      "--------------------------------------------------\n",
      "File: my_model_weights/block4_4_running_mean.csv\n",
      "Total elements: 256\n",
      "First few elements: [-8.47721, -24.55564, 12.879016, 5.4570456, -48.79626, 12.869071, -9.304528, -13.021957, 45.078316, -9.261259]\n",
      "Shape: 256\n",
      "Min: -62.788624\n",
      "Max: 45.235138\n",
      "Mean: -10.632933893046875\n",
      "Std Dev: 19.84862739222761\n",
      "--------------------------------------------------\n",
      "File: my_model_weights/block4_4_running_var.csv\n",
      "Total elements: 256\n",
      "First few elements: [636.629, 694.3013, 679.40533, 959.33997, 1397.6578, 996.3247, 1228.6572, 796.57416, 1305.144, 1054.0125]\n",
      "Shape: 256\n",
      "Min: 191.47482\n",
      "Max: 3107.6042\n",
      "Mean: 1027.9752630078124\n",
      "Std Dev: 453.3789784177435\n",
      "--------------------------------------------------\n",
      "File: my_model_weights/block4_4_weight.csv\n",
      "Total elements: 256\n",
      "First few elements: [2.1948328, 3.055492, 3.1585457, 2.4703898, 0.9268811, 1.4522096, 3.2703533, 2.3038852, 0.00011553774, 1.8656311]\n",
      "Shape: 256\n",
      "Min: -0.111901924\n",
      "Max: 3.2703533\n",
      "Mean: 1.5535434424367305\n",
      "Std Dev: 0.8187893843099808\n",
      "--------------------------------------------------\n",
      "File: my_model_weights/fc1_bias.csv\n",
      "Total elements: 512\n",
      "First few elements: [-0.030441906, 0.007524595, -0.048107233, 0.020635158, -0.010568557, -0.03880035, 0.007374791, -0.043465175, -0.018631756, 0.062263023]\n",
      "Shape: 512\n",
      "Min: -0.06995383\n",
      "Max: 0.06662099\n",
      "Mean: -0.00048333554242187466\n",
      "Std Dev: 0.03584778940621348\n",
      "--------------------------------------------------\n",
      "File: my_model_weights/fc1_weight.csv\n",
      "Total elements: 131072\n",
      "First few elements: [-0.15230432, 0.2317671, 0.12437803, 0.07810932, -0.41347387, 0.20934951, -0.2013821, -0.62376565, -0.044026997, 0.39309862]\n",
      "Shape: 131072\n",
      "Min: -1.7433152\n",
      "Max: 1.9058894\n",
      "Mean: -0.0013774426619572798\n",
      "Std Dev: 0.33287479566923334\n",
      "--------------------------------------------------\n",
      "File: my_model_weights/fc2_bias.csv\n",
      "Total elements: 10\n",
      "First few elements: [0.18559831, -0.5502447, 0.29254574, 0.64455193, -0.053437352, -0.0053625805, -0.33415362, -0.1702862, -0.36765093, -0.09810879]\n",
      "Shape: 10\n",
      "Min: -0.5502447\n",
      "Max: 0.64455193\n",
      "Mean: -0.04565481925000001\n",
      "Std Dev: 0.3325260017408234\n",
      "--------------------------------------------------\n",
      "File: my_model_weights/fc2_weight.csv\n",
      "Total elements: 5120\n",
      "First few elements: [-0.3168325, -0.08160335, 0.22667354, 0.21211994, 0.30661696, -0.040534616, 0.16122173, 0.359627, 0.3905513, -0.15807474]\n",
      "Shape: 5120\n",
      "Min: -0.6344775\n",
      "Max: 0.6525003\n",
      "Mean: -0.002304444889974609\n",
      "Std Dev: 0.2579053448228801\n",
      "--------------------------------------------------\n",
      "File: my_model_weights/fc_bn_bias.csv\n",
      "Total elements: 512\n",
      "First few elements: [0.0039740806, 0.02448597, -0.024958527, 0.0417476, 0.06586229, 0.026329158, -0.07444476, -0.094747566, -0.033491276, 0.00083872594]\n",
      "Shape: 512\n",
      "Min: -0.14895555\n",
      "Max: 0.12406673\n",
      "Mean: -0.001908565812207031\n",
      "Std Dev: 0.04477200159087634\n",
      "--------------------------------------------------\n",
      "File: my_model_weights/fc_bn_running_mean.csv\n",
      "Total elements: 512\n",
      "First few elements: [-0.9366474, 0.059335843, 4.01022, 2.915375, 1.8957577, -4.0928545, -1.529476, -4.7876797, 3.9348004, 2.798767]\n",
      "Shape: 512\n",
      "Min: -8.987843\n",
      "Max: 7.8141723\n",
      "Mean: -0.02727766921097655\n",
      "Std Dev: 2.7134650565018243\n",
      "--------------------------------------------------\n",
      "File: my_model_weights/fc_bn_running_var.csv\n",
      "Total elements: 512\n",
      "First few elements: [31.4124, 26.757452, 22.04688, 22.962168, 18.80146, 25.731743, 26.276052, 30.775179, 23.880554, 19.73411]\n",
      "Shape: 512\n",
      "Min: 14.503371\n",
      "Max: 38.255688\n",
      "Mean: 24.75416250390625\n",
      "Std Dev: 3.8975102860097017\n",
      "--------------------------------------------------\n",
      "File: my_model_weights/fc_bn_weight.csv\n",
      "Total elements: 512\n",
      "First few elements: [0.26592374, 0.21652623, 0.28924757, 0.29087618, 0.30836746, 0.31184393, 0.3352617, 0.3981611, 0.4136594, 0.2597036]\n",
      "Shape: 512\n",
      "Min: 0.0521994\n",
      "Max: 0.64738476\n",
      "Mean: 0.29582075226757815\n",
      "Std Dev: 0.07404126704020281\n",
      "--------------------------------------------------\n"
     ]
    }
   ],
   "source": [
    "import os\n",
    "import csv\n",
    "import numpy as np\n",
    "\n",
    "def preview_csv(filename, max_elements=10):\n",
    "    with open(filename, 'r') as csvfile:\n",
    "        reader = csv.reader(csvfile)\n",
    "        data = list(reader)[0]  # First (and only) row\n",
    "        data = [float(x) for x in data]\n",
    "        \n",
    "        print(f\"File: {filename}\")\n",
    "        print(f\"Total elements: {len(data)}\")\n",
    "        print(\"First few elements:\", data[:max_elements])\n",
    "        print(\"Shape:\", len(data))\n",
    "        print(\"Min:\", min(data))\n",
    "        print(\"Max:\", max(data))\n",
    "        print(\"Mean:\", np.mean(data))\n",
    "        print(\"Std Dev:\", np.std(data))\n",
    "        print(\"-\" * 50)\n",
    "\n",
    "# Directory containing the weights\n",
    "weight_dir = 'my_model_weights'\n",
    "\n",
    "# List all CSV files\n",
    "csv_files = [f for f in os.listdir(weight_dir) if f.endswith('.csv')]\n",
    "\n",
    "# Sort files for easier reading\n",
    "csv_files.sort()\n",
    "\n",
    "# Preview each CSV file\n",
    "for filename in csv_files:\n",
    "    full_path = os.path.join(weight_dir, filename)\n",
    "    preview_csv(full_path)"
   ]
  },
  {
   "cell_type": "code",
   "execution_count": 23,
   "id": "c7c671eb-d909-4640-a875-fe999891714e",
   "metadata": {},
   "outputs": [
    {
     "name": "stdout",
     "output_type": "stream",
     "text": [
      "Weights saved to my_model_weights/fc1_weight.csv\n",
      "Weights saved to my_model_weights/fc1_bias.csv\n",
      "Weights saved to my_model_weights/fc2_weight.csv\n",
      "Weights saved to my_model_weights/fc2_bias.csv\n"
     ]
    }
   ],
   "source": [
    "# Assuming `model` is your trained or loaded model\n",
    "save_weights_to_csv(model, directory=\"my_model_weights\")\n"
   ]
  },
  {
   "cell_type": "code",
   "execution_count": 24,
   "id": "8ddfecf3-c168-424a-8973-e84d7bdbfd66",
   "metadata": {},
   "outputs": [
    {
     "name": "stdout",
     "output_type": "stream",
     "text": [
      "Saved 1000 batches of data to cifar10_subset.csv\n"
     ]
    }
   ],
   "source": [
    "import torch\n",
    "import csv\n",
    "import numpy as np\n",
    "\n",
    "# Function to save a subset of CIFAR-10 data\n",
    "def save_cifar10_data_subset(dataloader, percentage=10, filename=\"cifar10_subset.csv\"):\n",
    "    total_batches = len(dataloader)\n",
    "    batches_to_save = int((percentage / 100) * total_batches)\n",
    "    \n",
    "    with open(filename, 'w', newline='') as file:\n",
    "        writer = csv.writer(file)\n",
    "        \n",
    "        for i, (images, labels) in enumerate(dataloader):\n",
    "            if i >= batches_to_save:\n",
    "                break\n",
    "            # Flatten images and convert them to numpy arrays\n",
    "            images = images.numpy().reshape(images.shape[0], -1)\n",
    "            labels = labels.numpy()\n",
    "            \n",
    "            # Write each image and label pair to the CSV file\n",
    "            for img, label in zip(images, labels):\n",
    "                # Optionally, append label to the image data\n",
    "                img_with_label = np.append(img, label)\n",
    "                writer.writerow(img_with_label)\n",
    "    \n",
    "    print(f\"Saved {batches_to_save} batches of data to {filename}\")\n",
    "\n",
    "# Example usage\n",
    "save_cifar10_data_subset(testloader, 10)\n"
   ]
  },
  {
   "cell_type": "code",
   "execution_count": 3,
   "id": "a675cc0a-05e0-47f9-98fa-fd4d99178d39",
   "metadata": {},
   "outputs": [
    {
     "name": "stdout",
     "output_type": "stream",
     "text": [
      "Requirement already satisfied: tenseal in ./.local/lib/python3.8/site-packages (0.3.14)\n"
     ]
    }
   ],
   "source": [
    "# Install TenSEAL if not done\n",
    "!pip install tenseal\n"
   ]
  },
  {
   "cell_type": "code",
   "execution_count": 8,
   "id": "6cec57ed-3aa5-40f0-a233-0dbce9ae81da",
   "metadata": {},
   "outputs": [
    {
     "name": "stdout",
     "output_type": "stream",
     "text": [
      "Files already downloaded and verified\n",
      "Files already downloaded and verified\n",
      "Epoch 1/5 done ✅\n",
      "Epoch 2/5 done ✅\n",
      "Epoch 3/5 done ✅\n",
      "Epoch 4/5 done ✅\n",
      "Epoch 5/5 done ✅\n",
      "Simple model saved! ✅\n"
     ]
    }
   ],
   "source": [
    "import torch\n",
    "import torch.nn as nn\n",
    "import torch.optim as optim\n",
    "import torchvision\n",
    "import torchvision.transforms as transforms\n",
    "\n",
    "# Dataset preparation\n",
    "transform = transforms.Compose([\n",
    "    transforms.ToTensor(),\n",
    "    transforms.Normalize((0.4914, 0.4822, 0.4465), (0.2023, 0.1994, 0.2010))\n",
    "])\n",
    "\n",
    "trainset = torchvision.datasets.CIFAR10(root='./data', train=True, download=True, transform=transform)\n",
    "trainloader = torch.utils.data.DataLoader(trainset, batch_size=128, shuffle=True)\n",
    "\n",
    "testset = torchvision.datasets.CIFAR10(root='./data', train=False, download=True, transform=transform)\n",
    "testloader = torch.utils.data.DataLoader(testset, batch_size=1, shuffle=False)\n",
    "\n",
    "# Polynomial activation\n",
    "class PolyAct4(nn.Module):\n",
    "    def __init__(self, A, B, C, D, E):\n",
    "        super().__init__()\n",
    "        self.A = A\n",
    "        self.B = B\n",
    "        self.C = C\n",
    "        self.D = D\n",
    "        self.E = E\n",
    "\n",
    "    def forward(self, x):\n",
    "        x = torch.clamp(x, min=-6, max=6)\n",
    "        return self.A * x**4 + self.B * x**3 + self.C * x**2 + self.D * x + self.E\n",
    "\n",
    "poly4 = PolyAct4(\n",
    "    A=-0.00068481,\n",
    "    B=0.0,  # optional: skip B term to simplify\n",
    "    C=0.0887234775,\n",
    "    D=0.5,\n",
    "    E=0.738099333\n",
    ")\n",
    "\n",
    "# Simple 2-layer model\n",
    "class SimpleNN(nn.Module):\n",
    "    def __init__(self):\n",
    "        super().__init__()\n",
    "        self.fc1 = nn.Linear(3072, 512)\n",
    "        self.act = poly4\n",
    "        self.fc2 = nn.Linear(512, 10)\n",
    "\n",
    "    def forward(self, x):\n",
    "        x = x.view(x.size(0), -1)  # flatten\n",
    "        x = self.fc1(x)\n",
    "        x = self.act(x)\n",
    "        x = self.fc2(x)\n",
    "        return x\n",
    "\n",
    "model = SimpleNN()\n",
    "criterion = nn.CrossEntropyLoss()\n",
    "optimizer = optim.Adam(model.parameters(), lr=0.001)\n",
    "\n",
    "# Training\n",
    "for epoch in range(5):  # Just 5 epochs to test concept\n",
    "    model.train()\n",
    "    for images, labels in trainloader:\n",
    "        optimizer.zero_grad()\n",
    "        outputs = model(images)\n",
    "        loss = criterion(outputs, labels)\n",
    "        loss.backward()\n",
    "        optimizer.step()\n",
    "    print(f\"Epoch {epoch+1}/5 done ✅\")\n",
    "\n",
    "# Save weights\n",
    "torch.save(model.state_dict(), 'simple_model.pth')\n",
    "print(\"Simple model saved! ✅\")\n"
   ]
  },
  {
   "cell_type": "code",
   "execution_count": null,
   "id": "3c734ba1-de54-404f-924a-940272864d5b",
   "metadata": {},
   "outputs": [],
   "source": []
  }
 ],
 "metadata": {
  "kernelspec": {
   "display_name": "Python 3 (ipykernel)",
   "language": "python",
   "name": "python3"
  },
  "language_info": {
   "codemirror_mode": {
    "name": "ipython",
    "version": 3
   },
   "file_extension": ".py",
   "mimetype": "text/x-python",
   "name": "python",
   "nbconvert_exporter": "python",
   "pygments_lexer": "ipython3",
   "version": "3.13.2"
  }
 },
 "nbformat": 4,
 "nbformat_minor": 5
}
